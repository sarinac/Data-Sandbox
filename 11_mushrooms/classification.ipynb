{
 "cells": [
  {
   "cell_type": "markdown",
   "metadata": {},
   "source": [
    "# Mushroom Classification\n",
    "\n",
    "**Objective**\n",
    "\n",
    "Determine whether a mushroom is edible or poisonous based on the provided categorical features.\n",
    "\n",
    "**Context**\n",
    "\n",
    "This dataset was taken from [Kaggle](https://www.kaggle.com/uciml/mushroom-classification) but also available on the UCI ML Repository. The Kaggle description is as follows:\n",
    "\n",
    "> This dataset includes descriptions of hypothetical samples corresponding to 23 species of gilled mushrooms in the Agaricus and Lepiota Family Mushroom drawn from The Audubon Society Field Guide to North American Mushrooms (1981). Each species is identified as definitely edible, definitely poisonous, or of unknown edibility and not recommended. This latter class was combined with the poisonous one. The Guide clearly states that there is no simple rule for determining the edibility of a mushroom; no rule like \"leaflets three, let it be'' for Poisonous Oak and Ivy.\n",
    "\n",
    "**About this file**\n",
    "\n",
    "Attribute Information: (classes: edible=e, poisonous=p)\n",
    "* cap-shape: bell=b,conical=c,convex=x,flat=f, knobbed=k,sunken=s\n",
    "* cap-surface: fibrous=f,grooves=g,scaly=y,smooth=s\n",
    "* cap-color: brown=n,buff=b,cinnamon=c,gray=g,green=r,pink=p,purple=u,red=e,white=w,yellow=y\n",
    "* bruises: bruises=t,no=f\n",
    "* odor: almond=a,anise=l,creosote=c,fishy=y,foul=f,musty=m,none=n,pungent=p,spicy=s\n",
    "* gill-attachment: attached=a,descending=d,free=f,notched=n\n",
    "* gill-spacing: close=c,crowded=w,distant=d\n",
    "* gill-size: broad=b,narrow=n\n",
    "* gill-color: black=k,brown=n,buff=b,chocolate=h,gray=g, green=r,orange=o,pink=p,purple=u,red=e,white=w,yellow=y\n",
    "* stalk-shape: enlarging=e,tapering=t\n",
    "* stalk-root: bulbous=b,club=c,cup=u,equal=e,rhizomorphs=z,rooted=r,missing=?\n",
    "* stalk-surface-above-ring: fibrous=f,scaly=y,silky=k,smooth=s\n",
    "* stalk-surface-below-ring: fibrous=f,scaly=y,silky=k,smooth=s\n",
    "* stalk-color-above-ring: brown=n,buff=b,cinnamon=c,gray=g,orange=o,pink=p,red=e,white=w,yellow=y\n",
    "* stalk-color-below-ring: brown=n,buff=b,cinnamon=c,gray=g,orange=o,pink=p,red=e,white=w,yellow=y\n",
    "* veil-type: partial=p,universal=u\n",
    "* veil-color: brown=n,orange=o,white=w,yellow=y\n",
    "* ring-number: none=n,one=o,two=t\n",
    "* ring-type: cobwebby=c,evanescent=e,flaring=f,large=l,none=n,pendant=p,sheathing=s,zone=z\n",
    "* spore-print-color: black=k,brown=n,buff=b,chocolate=h,green=r,orange=o,purple=u,white=w,yellow=y\n",
    "* population: abundant=a,clustered=c,numerous=n,scattered=s,several=v,solitary=y\n",
    "* habitat: grasses=g,leaves=l,meadows=m,paths=p,urban=u,waste=w,woods=d"
   ]
  },
  {
   "cell_type": "markdown",
   "metadata": {},
   "source": [
    "## Mushroom Facts\n",
    "\n",
    "Here are some pictures according to the [mushroom glossary](https://www.usask.ca/biology/fungi/glossary.html)."
   ]
  },
  {
   "cell_type": "markdown",
   "metadata": {},
   "source": [
    "cap shapes\n",
    "![1](https://www.usask.ca/biology/fungi/graphics/glossary_pictures/glossary_pic15)\n",
    "\n",
    "cap surfaces\n",
    "![2](https://www.usask.ca/biology/fungi/graphics/glossary_pictures/glossary_pic16)\n",
    "\n",
    "gill spacings\n",
    "![3](https://www.usask.ca/biology/fungi/graphics/glossary_pictures/glossary_pic17)\n",
    "\n",
    "gill attachment\n",
    "![4](https://www.usask.ca/biology/fungi/graphics/glossary_pictures/glossary_pic19)\n"
   ]
  },
  {
   "cell_type": "markdown",
   "metadata": {},
   "source": [
    "## Set up Data"
   ]
  },
  {
   "cell_type": "code",
   "execution_count": 29,
   "metadata": {},
   "outputs": [
    {
     "name": "stdout",
     "output_type": "stream",
     "text": [
      "The nb_black extension is already loaded. To reload it, use:\n",
      "  %reload_ext nb_black\n"
     ]
    },
    {
     "data": {
      "application/javascript": [
       "\n",
       "            setTimeout(function() {\n",
       "                var nbb_cell_id = 29;\n",
       "                var nbb_unformatted_code = \"# import packages\\nimport pandas as pd\\nimport numpy as np\\nimport re\\n\\n# visualization\\nimport seaborn as sns\\nimport matplotlib.pyplot as plt\\nfrom pandas.plotting import scatter_matrix\\n\\nplt.style.use(\\\"sg\\\")\\n%matplotlib inline\\n\\n# prediction\\nfrom sklearn.model_selection import train_test_split\\nfrom sklearn.cluster import KMeans\\nfrom sklearn.decomposition import PCA\\nfrom sklearn.tree import DecisionTreeClassifier, export_graphviz, plot_tree\\nfrom sklearn.metrics import (\\n    precision_score,\\n    recall_score,\\n    f1_score,\\n    confusion_matrix,\\n    accuracy_score,\\n)\\n\\n%load_ext nb_black\";\n",
       "                var nbb_formatted_code = \"# import packages\\nimport pandas as pd\\nimport numpy as np\\nimport re\\n\\n# visualization\\nimport seaborn as sns\\nimport matplotlib.pyplot as plt\\nfrom pandas.plotting import scatter_matrix\\n\\nplt.style.use(\\\"sg\\\")\\n%matplotlib inline\\n\\n# prediction\\nfrom sklearn.model_selection import train_test_split\\nfrom sklearn.cluster import KMeans\\nfrom sklearn.decomposition import PCA\\nfrom sklearn.tree import DecisionTreeClassifier, export_graphviz, plot_tree\\nfrom sklearn.metrics import (\\n    precision_score,\\n    recall_score,\\n    f1_score,\\n    confusion_matrix,\\n    accuracy_score,\\n)\\n\\n%load_ext nb_black\";\n",
       "                var nbb_cells = Jupyter.notebook.get_cells();\n",
       "                for (var i = 0; i < nbb_cells.length; ++i) {\n",
       "                    if (nbb_cells[i].input_prompt_number == nbb_cell_id) {\n",
       "                        if (nbb_cells[i].get_text() == nbb_unformatted_code) {\n",
       "                             nbb_cells[i].set_text(nbb_formatted_code);\n",
       "                        }\n",
       "                        break;\n",
       "                    }\n",
       "                }\n",
       "            }, 500);\n",
       "            "
      ],
      "text/plain": [
       "<IPython.core.display.Javascript object>"
      ]
     },
     "metadata": {},
     "output_type": "display_data"
    }
   ],
   "source": [
    "# import packages\n",
    "import pandas as pd\n",
    "import numpy as np\n",
    "import re\n",
    "\n",
    "# visualization\n",
    "import seaborn as sns\n",
    "import matplotlib.pyplot as plt\n",
    "from pandas.plotting import scatter_matrix\n",
    "\n",
    "plt.style.use(\"sg\")\n",
    "%matplotlib inline\n",
    "\n",
    "# prediction\n",
    "from sklearn.metrics import (\n",
    "    precision_score,\n",
    "    recall_score,\n",
    "    f1_score,\n",
    "    confusion_matrix,\n",
    "    accuracy_score,\n",
    ")\n",
    "\n",
    "%load_ext nb_black"
   ]
  },
  {
   "cell_type": "code",
   "execution_count": 2,
   "metadata": {
    "scrolled": true
   },
   "outputs": [
    {
     "name": "stdout",
     "output_type": "stream",
     "text": [
      "(8124, 23)\n"
     ]
    },
    {
     "data": {
      "text/html": [
       "<div>\n",
       "<style scoped>\n",
       "    .dataframe tbody tr th:only-of-type {\n",
       "        vertical-align: middle;\n",
       "    }\n",
       "\n",
       "    .dataframe tbody tr th {\n",
       "        vertical-align: top;\n",
       "    }\n",
       "\n",
       "    .dataframe thead th {\n",
       "        text-align: right;\n",
       "    }\n",
       "</style>\n",
       "<table border=\"1\" class=\"dataframe\">\n",
       "  <thead>\n",
       "    <tr style=\"text-align: right;\">\n",
       "      <th></th>\n",
       "      <th>class</th>\n",
       "      <th>cap-shape</th>\n",
       "      <th>cap-surface</th>\n",
       "      <th>cap-color</th>\n",
       "      <th>bruises</th>\n",
       "      <th>odor</th>\n",
       "      <th>gill-attachment</th>\n",
       "      <th>gill-spacing</th>\n",
       "      <th>gill-size</th>\n",
       "      <th>gill-color</th>\n",
       "      <th>...</th>\n",
       "      <th>stalk-surface-below-ring</th>\n",
       "      <th>stalk-color-above-ring</th>\n",
       "      <th>stalk-color-below-ring</th>\n",
       "      <th>veil-type</th>\n",
       "      <th>veil-color</th>\n",
       "      <th>ring-number</th>\n",
       "      <th>ring-type</th>\n",
       "      <th>spore-print-color</th>\n",
       "      <th>population</th>\n",
       "      <th>habitat</th>\n",
       "    </tr>\n",
       "  </thead>\n",
       "  <tbody>\n",
       "    <tr>\n",
       "      <th>0</th>\n",
       "      <td>p</td>\n",
       "      <td>x</td>\n",
       "      <td>s</td>\n",
       "      <td>n</td>\n",
       "      <td>t</td>\n",
       "      <td>p</td>\n",
       "      <td>f</td>\n",
       "      <td>c</td>\n",
       "      <td>n</td>\n",
       "      <td>k</td>\n",
       "      <td>...</td>\n",
       "      <td>s</td>\n",
       "      <td>w</td>\n",
       "      <td>w</td>\n",
       "      <td>p</td>\n",
       "      <td>w</td>\n",
       "      <td>o</td>\n",
       "      <td>p</td>\n",
       "      <td>k</td>\n",
       "      <td>s</td>\n",
       "      <td>u</td>\n",
       "    </tr>\n",
       "    <tr>\n",
       "      <th>1</th>\n",
       "      <td>e</td>\n",
       "      <td>x</td>\n",
       "      <td>s</td>\n",
       "      <td>y</td>\n",
       "      <td>t</td>\n",
       "      <td>a</td>\n",
       "      <td>f</td>\n",
       "      <td>c</td>\n",
       "      <td>b</td>\n",
       "      <td>k</td>\n",
       "      <td>...</td>\n",
       "      <td>s</td>\n",
       "      <td>w</td>\n",
       "      <td>w</td>\n",
       "      <td>p</td>\n",
       "      <td>w</td>\n",
       "      <td>o</td>\n",
       "      <td>p</td>\n",
       "      <td>n</td>\n",
       "      <td>n</td>\n",
       "      <td>g</td>\n",
       "    </tr>\n",
       "    <tr>\n",
       "      <th>2</th>\n",
       "      <td>e</td>\n",
       "      <td>b</td>\n",
       "      <td>s</td>\n",
       "      <td>w</td>\n",
       "      <td>t</td>\n",
       "      <td>l</td>\n",
       "      <td>f</td>\n",
       "      <td>c</td>\n",
       "      <td>b</td>\n",
       "      <td>n</td>\n",
       "      <td>...</td>\n",
       "      <td>s</td>\n",
       "      <td>w</td>\n",
       "      <td>w</td>\n",
       "      <td>p</td>\n",
       "      <td>w</td>\n",
       "      <td>o</td>\n",
       "      <td>p</td>\n",
       "      <td>n</td>\n",
       "      <td>n</td>\n",
       "      <td>m</td>\n",
       "    </tr>\n",
       "    <tr>\n",
       "      <th>3</th>\n",
       "      <td>p</td>\n",
       "      <td>x</td>\n",
       "      <td>y</td>\n",
       "      <td>w</td>\n",
       "      <td>t</td>\n",
       "      <td>p</td>\n",
       "      <td>f</td>\n",
       "      <td>c</td>\n",
       "      <td>n</td>\n",
       "      <td>n</td>\n",
       "      <td>...</td>\n",
       "      <td>s</td>\n",
       "      <td>w</td>\n",
       "      <td>w</td>\n",
       "      <td>p</td>\n",
       "      <td>w</td>\n",
       "      <td>o</td>\n",
       "      <td>p</td>\n",
       "      <td>k</td>\n",
       "      <td>s</td>\n",
       "      <td>u</td>\n",
       "    </tr>\n",
       "    <tr>\n",
       "      <th>4</th>\n",
       "      <td>e</td>\n",
       "      <td>x</td>\n",
       "      <td>s</td>\n",
       "      <td>g</td>\n",
       "      <td>f</td>\n",
       "      <td>n</td>\n",
       "      <td>f</td>\n",
       "      <td>w</td>\n",
       "      <td>b</td>\n",
       "      <td>k</td>\n",
       "      <td>...</td>\n",
       "      <td>s</td>\n",
       "      <td>w</td>\n",
       "      <td>w</td>\n",
       "      <td>p</td>\n",
       "      <td>w</td>\n",
       "      <td>o</td>\n",
       "      <td>e</td>\n",
       "      <td>n</td>\n",
       "      <td>a</td>\n",
       "      <td>g</td>\n",
       "    </tr>\n",
       "  </tbody>\n",
       "</table>\n",
       "<p>5 rows × 23 columns</p>\n",
       "</div>"
      ],
      "text/plain": [
       "  class cap-shape cap-surface cap-color bruises odor gill-attachment  \\\n",
       "0     p         x           s         n       t    p               f   \n",
       "1     e         x           s         y       t    a               f   \n",
       "2     e         b           s         w       t    l               f   \n",
       "3     p         x           y         w       t    p               f   \n",
       "4     e         x           s         g       f    n               f   \n",
       "\n",
       "  gill-spacing gill-size gill-color  ... stalk-surface-below-ring  \\\n",
       "0            c         n          k  ...                        s   \n",
       "1            c         b          k  ...                        s   \n",
       "2            c         b          n  ...                        s   \n",
       "3            c         n          n  ...                        s   \n",
       "4            w         b          k  ...                        s   \n",
       "\n",
       "  stalk-color-above-ring stalk-color-below-ring veil-type veil-color  \\\n",
       "0                      w                      w         p          w   \n",
       "1                      w                      w         p          w   \n",
       "2                      w                      w         p          w   \n",
       "3                      w                      w         p          w   \n",
       "4                      w                      w         p          w   \n",
       "\n",
       "  ring-number ring-type spore-print-color population habitat  \n",
       "0           o         p                 k          s       u  \n",
       "1           o         p                 n          n       g  \n",
       "2           o         p                 n          n       m  \n",
       "3           o         p                 k          s       u  \n",
       "4           o         e                 n          a       g  \n",
       "\n",
       "[5 rows x 23 columns]"
      ]
     },
     "execution_count": 2,
     "metadata": {},
     "output_type": "execute_result"
    },
    {
     "data": {
      "application/javascript": [
       "\n",
       "            setTimeout(function() {\n",
       "                var nbb_cell_id = 2;\n",
       "                var nbb_unformatted_code = \"# Read file\\ndf = pd.read_csv(\\\"mushrooms.csv\\\")\\n\\nprint(df.shape)\\ndf.head()\";\n",
       "                var nbb_formatted_code = \"# Read file\\ndf = pd.read_csv(\\\"mushrooms.csv\\\")\\n\\nprint(df.shape)\\ndf.head()\";\n",
       "                var nbb_cells = Jupyter.notebook.get_cells();\n",
       "                for (var i = 0; i < nbb_cells.length; ++i) {\n",
       "                    if (nbb_cells[i].input_prompt_number == nbb_cell_id) {\n",
       "                        if (nbb_cells[i].get_text() == nbb_unformatted_code) {\n",
       "                             nbb_cells[i].set_text(nbb_formatted_code);\n",
       "                        }\n",
       "                        break;\n",
       "                    }\n",
       "                }\n",
       "            }, 500);\n",
       "            "
      ],
      "text/plain": [
       "<IPython.core.display.Javascript object>"
      ]
     },
     "metadata": {},
     "output_type": "display_data"
    }
   ],
   "source": [
    "# Read file\n",
    "df = pd.read_csv(\"mushrooms.csv\")\n",
    "\n",
    "print(df.shape)\n",
    "df.head()"
   ]
  },
  {
   "cell_type": "code",
   "execution_count": 3,
   "metadata": {},
   "outputs": [
    {
     "data": {
      "text/plain": [
       "variable\n",
       "bruises                      2\n",
       "cap-color                   10\n",
       "cap-shape                    6\n",
       "cap-surface                  4\n",
       "class                        2\n",
       "gill-attachment              2\n",
       "gill-color                  12\n",
       "gill-size                    2\n",
       "gill-spacing                 2\n",
       "habitat                      7\n",
       "odor                         9\n",
       "population                   6\n",
       "ring-number                  3\n",
       "ring-type                    5\n",
       "spore-print-color            9\n",
       "stalk-color-above-ring       9\n",
       "stalk-color-below-ring       9\n",
       "stalk-root                   5\n",
       "stalk-shape                  2\n",
       "stalk-surface-above-ring     4\n",
       "stalk-surface-below-ring     4\n",
       "veil-color                   4\n",
       "veil-type                    1\n",
       "Name: value, dtype: int64"
      ]
     },
     "execution_count": 3,
     "metadata": {},
     "output_type": "execute_result"
    },
    {
     "data": {
      "application/javascript": [
       "\n",
       "            setTimeout(function() {\n",
       "                var nbb_cell_id = 3;\n",
       "                var nbb_unformatted_code = \"# Count unique\\ndf.melt().groupby(\\\"variable\\\").nunique()[\\\"value\\\"]\";\n",
       "                var nbb_formatted_code = \"# Count unique\\ndf.melt().groupby(\\\"variable\\\").nunique()[\\\"value\\\"]\";\n",
       "                var nbb_cells = Jupyter.notebook.get_cells();\n",
       "                for (var i = 0; i < nbb_cells.length; ++i) {\n",
       "                    if (nbb_cells[i].input_prompt_number == nbb_cell_id) {\n",
       "                        if (nbb_cells[i].get_text() == nbb_unformatted_code) {\n",
       "                             nbb_cells[i].set_text(nbb_formatted_code);\n",
       "                        }\n",
       "                        break;\n",
       "                    }\n",
       "                }\n",
       "            }, 500);\n",
       "            "
      ],
      "text/plain": [
       "<IPython.core.display.Javascript object>"
      ]
     },
     "metadata": {},
     "output_type": "display_data"
    }
   ],
   "source": [
    "# Count unique\n",
    "df.melt().groupby(\"variable\").nunique()[\"value\"]"
   ]
  },
  {
   "cell_type": "code",
   "execution_count": 4,
   "metadata": {},
   "outputs": [
    {
     "data": {
      "application/javascript": [
       "\n",
       "            setTimeout(function() {\n",
       "                var nbb_cell_id = 4;\n",
       "                var nbb_unformatted_code = \"# Replace hyphens with underscore\\ndf.columns = df.columns.str.replace(\\\"-\\\", \\\"_\\\")\";\n",
       "                var nbb_formatted_code = \"# Replace hyphens with underscore\\ndf.columns = df.columns.str.replace(\\\"-\\\", \\\"_\\\")\";\n",
       "                var nbb_cells = Jupyter.notebook.get_cells();\n",
       "                for (var i = 0; i < nbb_cells.length; ++i) {\n",
       "                    if (nbb_cells[i].input_prompt_number == nbb_cell_id) {\n",
       "                        if (nbb_cells[i].get_text() == nbb_unformatted_code) {\n",
       "                             nbb_cells[i].set_text(nbb_formatted_code);\n",
       "                        }\n",
       "                        break;\n",
       "                    }\n",
       "                }\n",
       "            }, 500);\n",
       "            "
      ],
      "text/plain": [
       "<IPython.core.display.Javascript object>"
      ]
     },
     "metadata": {},
     "output_type": "display_data"
    }
   ],
   "source": [
    "# Replace hyphens with underscore\n",
    "df.columns = df.columns.str.replace(\"-\", \"_\")"
   ]
  },
  {
   "cell_type": "code",
   "execution_count": 5,
   "metadata": {},
   "outputs": [
    {
     "data": {
      "application/javascript": [
       "\n",
       "            setTimeout(function() {\n",
       "                var nbb_cell_id = 5;\n",
       "                var nbb_unformatted_code = \"# Make class a binary variable (1=poisonous, 0=edible)\\ndf[\\\"class\\\"] = (df[\\\"class\\\"] == \\\"p\\\").astype(\\\"int\\\")\";\n",
       "                var nbb_formatted_code = \"# Make class a binary variable (1=poisonous, 0=edible)\\ndf[\\\"class\\\"] = (df[\\\"class\\\"] == \\\"p\\\").astype(\\\"int\\\")\";\n",
       "                var nbb_cells = Jupyter.notebook.get_cells();\n",
       "                for (var i = 0; i < nbb_cells.length; ++i) {\n",
       "                    if (nbb_cells[i].input_prompt_number == nbb_cell_id) {\n",
       "                        if (nbb_cells[i].get_text() == nbb_unformatted_code) {\n",
       "                             nbb_cells[i].set_text(nbb_formatted_code);\n",
       "                        }\n",
       "                        break;\n",
       "                    }\n",
       "                }\n",
       "            }, 500);\n",
       "            "
      ],
      "text/plain": [
       "<IPython.core.display.Javascript object>"
      ]
     },
     "metadata": {},
     "output_type": "display_data"
    }
   ],
   "source": [
    "# Make class a binary variable (1=poisonous, 0=edible)\n",
    "df[\"class\"] = (df[\"class\"] == \"p\").astype(\"int\")"
   ]
  },
  {
   "cell_type": "code",
   "execution_count": 6,
   "metadata": {},
   "outputs": [
    {
     "data": {
      "application/javascript": [
       "\n",
       "            setTimeout(function() {\n",
       "                var nbb_cell_id = 6;\n",
       "                var nbb_unformatted_code = \"# Convert ring_number to numerical\\nrn = {\\\"n\\\": 0, \\\"o\\\": 1, \\\"t\\\": 2}\\ndf[\\\"ring_number\\\"] = df[\\\"ring_number\\\"].apply(lambda x: rn.get(x))\";\n",
       "                var nbb_formatted_code = \"# Convert ring_number to numerical\\nrn = {\\\"n\\\": 0, \\\"o\\\": 1, \\\"t\\\": 2}\\ndf[\\\"ring_number\\\"] = df[\\\"ring_number\\\"].apply(lambda x: rn.get(x))\";\n",
       "                var nbb_cells = Jupyter.notebook.get_cells();\n",
       "                for (var i = 0; i < nbb_cells.length; ++i) {\n",
       "                    if (nbb_cells[i].input_prompt_number == nbb_cell_id) {\n",
       "                        if (nbb_cells[i].get_text() == nbb_unformatted_code) {\n",
       "                             nbb_cells[i].set_text(nbb_formatted_code);\n",
       "                        }\n",
       "                        break;\n",
       "                    }\n",
       "                }\n",
       "            }, 500);\n",
       "            "
      ],
      "text/plain": [
       "<IPython.core.display.Javascript object>"
      ]
     },
     "metadata": {},
     "output_type": "display_data"
    }
   ],
   "source": [
    "# Convert ring_number to numerical\n",
    "rn = {\"n\": 0, \"o\": 1, \"t\": 2}\n",
    "df[\"ring_number\"] = df[\"ring_number\"].apply(lambda x: rn.get(x))"
   ]
  },
  {
   "cell_type": "code",
   "execution_count": 7,
   "metadata": {},
   "outputs": [
    {
     "data": {
      "application/javascript": [
       "\n",
       "            setTimeout(function() {\n",
       "                var nbb_cell_id = 7;\n",
       "                var nbb_unformatted_code = \"# Drop stalk_root because it has missing values (values are \\\"?\\\")\\ndf.drop([\\\"stalk_root\\\"], axis=1, inplace=True)\";\n",
       "                var nbb_formatted_code = \"# Drop stalk_root because it has missing values (values are \\\"?\\\")\\ndf.drop([\\\"stalk_root\\\"], axis=1, inplace=True)\";\n",
       "                var nbb_cells = Jupyter.notebook.get_cells();\n",
       "                for (var i = 0; i < nbb_cells.length; ++i) {\n",
       "                    if (nbb_cells[i].input_prompt_number == nbb_cell_id) {\n",
       "                        if (nbb_cells[i].get_text() == nbb_unformatted_code) {\n",
       "                             nbb_cells[i].set_text(nbb_formatted_code);\n",
       "                        }\n",
       "                        break;\n",
       "                    }\n",
       "                }\n",
       "            }, 500);\n",
       "            "
      ],
      "text/plain": [
       "<IPython.core.display.Javascript object>"
      ]
     },
     "metadata": {},
     "output_type": "display_data"
    }
   ],
   "source": [
    "# Drop stalk_root because it has missing values (values are \"?\")\n",
    "df.drop([\"stalk_root\"], axis=1, inplace=True)"
   ]
  },
  {
   "cell_type": "code",
   "execution_count": 8,
   "metadata": {},
   "outputs": [
    {
     "data": {
      "application/javascript": [
       "\n",
       "            setTimeout(function() {\n",
       "                var nbb_cell_id = 8;\n",
       "                var nbb_unformatted_code = \"# Drop veil_type because there's only 1 distinct value\\ndf.drop([\\\"veil_type\\\"], axis=1, inplace=True)\";\n",
       "                var nbb_formatted_code = \"# Drop veil_type because there's only 1 distinct value\\ndf.drop([\\\"veil_type\\\"], axis=1, inplace=True)\";\n",
       "                var nbb_cells = Jupyter.notebook.get_cells();\n",
       "                for (var i = 0; i < nbb_cells.length; ++i) {\n",
       "                    if (nbb_cells[i].input_prompt_number == nbb_cell_id) {\n",
       "                        if (nbb_cells[i].get_text() == nbb_unformatted_code) {\n",
       "                             nbb_cells[i].set_text(nbb_formatted_code);\n",
       "                        }\n",
       "                        break;\n",
       "                    }\n",
       "                }\n",
       "            }, 500);\n",
       "            "
      ],
      "text/plain": [
       "<IPython.core.display.Javascript object>"
      ]
     },
     "metadata": {},
     "output_type": "display_data"
    }
   ],
   "source": [
    "# Drop veil_type because there's only 1 distinct value\n",
    "df.drop([\"veil_type\"], axis=1, inplace=True)"
   ]
  },
  {
   "cell_type": "code",
   "execution_count": 9,
   "metadata": {},
   "outputs": [
    {
     "data": {
      "text/html": [
       "<div>\n",
       "<style scoped>\n",
       "    .dataframe tbody tr th:only-of-type {\n",
       "        vertical-align: middle;\n",
       "    }\n",
       "\n",
       "    .dataframe tbody tr th {\n",
       "        vertical-align: top;\n",
       "    }\n",
       "\n",
       "    .dataframe thead th {\n",
       "        text-align: right;\n",
       "    }\n",
       "</style>\n",
       "<table border=\"1\" class=\"dataframe\">\n",
       "  <thead>\n",
       "    <tr style=\"text-align: right;\">\n",
       "      <th></th>\n",
       "      <th>class</th>\n",
       "      <th>cap_shape</th>\n",
       "      <th>cap_surface</th>\n",
       "      <th>cap_color</th>\n",
       "      <th>bruises</th>\n",
       "      <th>odor</th>\n",
       "      <th>gill_attachment</th>\n",
       "      <th>gill_spacing</th>\n",
       "      <th>gill_size</th>\n",
       "      <th>gill_color</th>\n",
       "      <th>...</th>\n",
       "      <th>stalk_surface_above_ring</th>\n",
       "      <th>stalk_surface_below_ring</th>\n",
       "      <th>stalk_color_above_ring</th>\n",
       "      <th>stalk_color_below_ring</th>\n",
       "      <th>veil_color</th>\n",
       "      <th>ring_number</th>\n",
       "      <th>ring_type</th>\n",
       "      <th>spore_print_color</th>\n",
       "      <th>population</th>\n",
       "      <th>habitat</th>\n",
       "    </tr>\n",
       "  </thead>\n",
       "  <tbody>\n",
       "    <tr>\n",
       "      <th>0</th>\n",
       "      <td>1</td>\n",
       "      <td>x</td>\n",
       "      <td>s</td>\n",
       "      <td>n</td>\n",
       "      <td>t</td>\n",
       "      <td>p</td>\n",
       "      <td>f</td>\n",
       "      <td>c</td>\n",
       "      <td>n</td>\n",
       "      <td>k</td>\n",
       "      <td>...</td>\n",
       "      <td>s</td>\n",
       "      <td>s</td>\n",
       "      <td>w</td>\n",
       "      <td>w</td>\n",
       "      <td>w</td>\n",
       "      <td>1</td>\n",
       "      <td>p</td>\n",
       "      <td>k</td>\n",
       "      <td>s</td>\n",
       "      <td>u</td>\n",
       "    </tr>\n",
       "  </tbody>\n",
       "</table>\n",
       "<p>1 rows × 21 columns</p>\n",
       "</div>"
      ],
      "text/plain": [
       "   class cap_shape cap_surface cap_color bruises odor gill_attachment  \\\n",
       "0      1         x           s         n       t    p               f   \n",
       "\n",
       "  gill_spacing gill_size gill_color  ... stalk_surface_above_ring  \\\n",
       "0            c         n          k  ...                        s   \n",
       "\n",
       "  stalk_surface_below_ring stalk_color_above_ring stalk_color_below_ring  \\\n",
       "0                        s                      w                      w   \n",
       "\n",
       "  veil_color ring_number  ring_type spore_print_color population habitat  \n",
       "0          w           1          p                 k          s       u  \n",
       "\n",
       "[1 rows x 21 columns]"
      ]
     },
     "execution_count": 9,
     "metadata": {},
     "output_type": "execute_result"
    },
    {
     "data": {
      "application/javascript": [
       "\n",
       "            setTimeout(function() {\n",
       "                var nbb_cell_id = 9;\n",
       "                var nbb_unformatted_code = \"df.head(1)\";\n",
       "                var nbb_formatted_code = \"df.head(1)\";\n",
       "                var nbb_cells = Jupyter.notebook.get_cells();\n",
       "                for (var i = 0; i < nbb_cells.length; ++i) {\n",
       "                    if (nbb_cells[i].input_prompt_number == nbb_cell_id) {\n",
       "                        if (nbb_cells[i].get_text() == nbb_unformatted_code) {\n",
       "                             nbb_cells[i].set_text(nbb_formatted_code);\n",
       "                        }\n",
       "                        break;\n",
       "                    }\n",
       "                }\n",
       "            }, 500);\n",
       "            "
      ],
      "text/plain": [
       "<IPython.core.display.Javascript object>"
      ]
     },
     "metadata": {},
     "output_type": "display_data"
    }
   ],
   "source": [
    "df.head(1)"
   ]
  },
  {
   "cell_type": "markdown",
   "metadata": {},
   "source": [
    "## Exploratory Analysis"
   ]
  },
  {
   "cell_type": "code",
   "execution_count": 10,
   "metadata": {},
   "outputs": [
    {
     "data": {
      "image/png": "[encoded data removed]",
      "text/plain": [
       "<Figure size 864x432 with 20 Axes>"
      ]
     },
     "metadata": {
      "needs_background": "light"
     },
     "output_type": "display_data"
    },
    {
     "data": {
      "application/javascript": [
       "\n",
       "            setTimeout(function() {\n",
       "                var nbb_cell_id = 10;\n",
       "                var nbb_unformatted_code = \"# See poison rate for each feature\\n\\nfig, axes = plt.subplots(4, 5, figsize=[12, 6])\\naxes = axes.flatten()\\n\\nfor index, col in enumerate(df.columns[1:]):\\n\\n    p = df.groupby(col).mean()[\\\"class\\\"].sort_values(ascending=False)\\n\\n    ax = axes[index]\\n    ax.bar(x=p.index, height=p.values)\\n\\n    ax.set_ylim(0, 1)\\n    ax.set_title(col)\\n\\nplt.tight_layout()\";\n",
       "                var nbb_formatted_code = \"# See poison rate for each feature\\n\\nfig, axes = plt.subplots(4, 5, figsize=[12, 6])\\naxes = axes.flatten()\\n\\nfor index, col in enumerate(df.columns[1:]):\\n\\n    p = df.groupby(col).mean()[\\\"class\\\"].sort_values(ascending=False)\\n\\n    ax = axes[index]\\n    ax.bar(x=p.index, height=p.values)\\n\\n    ax.set_ylim(0, 1)\\n    ax.set_title(col)\\n\\nplt.tight_layout()\";\n",
       "                var nbb_cells = Jupyter.notebook.get_cells();\n",
       "                for (var i = 0; i < nbb_cells.length; ++i) {\n",
       "                    if (nbb_cells[i].input_prompt_number == nbb_cell_id) {\n",
       "                        if (nbb_cells[i].get_text() == nbb_unformatted_code) {\n",
       "                             nbb_cells[i].set_text(nbb_formatted_code);\n",
       "                        }\n",
       "                        break;\n",
       "                    }\n",
       "                }\n",
       "            }, 500);\n",
       "            "
      ],
      "text/plain": [
       "<IPython.core.display.Javascript object>"
      ]
     },
     "metadata": {},
     "output_type": "display_data"
    }
   ],
   "source": [
    "# See poison rate for each feature\n",
    "\n",
    "fig, axes = plt.subplots(4, 5, figsize=[12, 6])\n",
    "axes = axes.flatten()\n",
    "\n",
    "for index, col in enumerate(df.columns[1:]):\n",
    "\n",
    "    p = df.groupby(col).mean()[\"class\"].sort_values(ascending=False)\n",
    "\n",
    "    ax = axes[index]\n",
    "    ax.bar(x=p.index, height=p.values)\n",
    "\n",
    "    ax.set_ylim(0, 1)\n",
    "    ax.set_title(col)\n",
    "\n",
    "plt.tight_layout()"
   ]
  },
  {
   "cell_type": "markdown",
   "metadata": {},
   "source": [
    "**Strong Indicators**\n",
    "* `odor` looks like a strong indicator (almost black and white) for whether a mushroom is poisonous or edible.\n",
    "* `stalk_color_above_ring` and`stalk_color_below_ring` as yellow, cinnamon, buff, or brown highly suggests poisonous. Orange, gray, or red suggest edible. These 2 variables look highly correlated.\n",
    "* `ring_type` as none or large highly suggests poisonous but as flaring suggests edible.\n",
    "* `veil_color` has decent indicators when any color except white.\n",
    "* `spore_print_color` also shows extremes.\n",
    "\n",
    "**Weak Indicators**\n",
    "* `stalk_shape` is pretty 50-50 between poisonous and edible.\n",
    "* `cap_color` is also not very extreme. This is somewhat surprising because this feature is probably the first thing non-experts would use to guess."
   ]
  },
  {
   "cell_type": "markdown",
   "metadata": {},
   "source": [
    "## Preprocessing"
   ]
  },
  {
   "cell_type": "code",
   "execution_count": 31,
   "metadata": {},
   "outputs": [
    {
     "data": {
      "application/javascript": [
       "\n",
       "            setTimeout(function() {\n",
       "                var nbb_cell_id = 31;\n",
       "                var nbb_unformatted_code = \"from sklearn.preprocessing import LabelEncoder, OneHotEncoder\";\n",
       "                var nbb_formatted_code = \"from sklearn.preprocessing import LabelEncoder, OneHotEncoder\";\n",
       "                var nbb_cells = Jupyter.notebook.get_cells();\n",
       "                for (var i = 0; i < nbb_cells.length; ++i) {\n",
       "                    if (nbb_cells[i].input_prompt_number == nbb_cell_id) {\n",
       "                        if (nbb_cells[i].get_text() == nbb_unformatted_code) {\n",
       "                             nbb_cells[i].set_text(nbb_formatted_code);\n",
       "                        }\n",
       "                        break;\n",
       "                    }\n",
       "                }\n",
       "            }, 500);\n",
       "            "
      ],
      "text/plain": [
       "<IPython.core.display.Javascript object>"
      ]
     },
     "metadata": {},
     "output_type": "display_data"
    }
   ],
   "source": [
    "from sklearn.preprocessing import LabelEncoder, OneHotEncoder\n",
    "from sklearn.model_selection import train_test_split"
   ]
  },
  {
   "cell_type": "markdown",
   "metadata": {},
   "source": [
    "Create dummy variables."
   ]
  },
  {
   "cell_type": "code",
   "execution_count": 46,
   "metadata": {},
   "outputs": [
    {
     "data": {
      "application/javascript": [
       "\n",
       "            setTimeout(function() {\n",
       "                var nbb_cell_id = 46;\n",
       "                var nbb_unformatted_code = \"X = df.iloc[:, 1:].values\\ny = df.iloc[:, 0].values\\n\\nX = OneHotEncoder().fit_transform(X).toarray()\\ny = LabelEncoder().fit_transform(y)\";\n",
       "                var nbb_formatted_code = \"X = df.iloc[:, 1:].values\\ny = df.iloc[:, 0].values\\n\\nX = OneHotEncoder().fit_transform(X).toarray()\\ny = LabelEncoder().fit_transform(y)\";\n",
       "                var nbb_cells = Jupyter.notebook.get_cells();\n",
       "                for (var i = 0; i < nbb_cells.length; ++i) {\n",
       "                    if (nbb_cells[i].input_prompt_number == nbb_cell_id) {\n",
       "                        if (nbb_cells[i].get_text() == nbb_unformatted_code) {\n",
       "                             nbb_cells[i].set_text(nbb_formatted_code);\n",
       "                        }\n",
       "                        break;\n",
       "                    }\n",
       "                }\n",
       "            }, 500);\n",
       "            "
      ],
      "text/plain": [
       "<IPython.core.display.Javascript object>"
      ]
     },
     "metadata": {},
     "output_type": "display_data"
    }
   ],
   "source": [
    "# Shortcut way :P\n",
    "# data = pd.get_dummies(df)\n",
    "# X = data.iloc[:, 1:]\n",
    "# y = data.iloc[:, 0]\n",
    "\n",
    "X = df.iloc[:, 1:].values\n",
    "y = df.iloc[:, 0].values\n",
    "\n",
    "X = OneHotEncoder().fit_transform(X).toarray()\n",
    "y = LabelEncoder().fit_transform(y)"
   ]
  },
  {
   "cell_type": "markdown",
   "metadata": {},
   "source": [
    "Create a train and test set."
   ]
  },
  {
   "cell_type": "code",
   "execution_count": 127,
   "metadata": {},
   "outputs": [
    {
     "data": {
      "application/javascript": [
       "\n",
       "            setTimeout(function() {\n",
       "                var nbb_cell_id = 127;\n",
       "                var nbb_unformatted_code = \"x_train, x_test, y_train, y_test = train_test_split(\\n    X, y, test_size=0.4, random_state=42\\n)\";\n",
       "                var nbb_formatted_code = \"x_train, x_test, y_train, y_test = train_test_split(\\n    X, y, test_size=0.4, random_state=42\\n)\";\n",
       "                var nbb_cells = Jupyter.notebook.get_cells();\n",
       "                for (var i = 0; i < nbb_cells.length; ++i) {\n",
       "                    if (nbb_cells[i].input_prompt_number == nbb_cell_id) {\n",
       "                        if (nbb_cells[i].get_text() == nbb_unformatted_code) {\n",
       "                             nbb_cells[i].set_text(nbb_formatted_code);\n",
       "                        }\n",
       "                        break;\n",
       "                    }\n",
       "                }\n",
       "            }, 500);\n",
       "            "
      ],
      "text/plain": [
       "<IPython.core.display.Javascript object>"
      ]
     },
     "metadata": {},
     "output_type": "display_data"
    }
   ],
   "source": [
    "x_train, x_test, y_train, y_test = train_test_split(\n",
    "    X, y, test_size=0.4, random_state=42\n",
    ")"
   ]
  },
  {
   "cell_type": "markdown",
   "metadata": {},
   "source": [
    "## K-Means Clustering\n",
    "\n",
    "Maybe we can use K-means clustering to see if there are natural fits. There are 23 species in the dataset, which means we're creating 23 clusters."
   ]
  },
  {
   "cell_type": "code",
   "execution_count": 62,
   "metadata": {},
   "outputs": [
    {
     "data": {
      "application/javascript": [
       "\n",
       "            setTimeout(function() {\n",
       "                var nbb_cell_id = 62;\n",
       "                var nbb_unformatted_code = \"from sklearn.cluster import KMeans\\nfrom sklearn.decomposition import PCA\";\n",
       "                var nbb_formatted_code = \"from sklearn.cluster import KMeans\\nfrom sklearn.decomposition import PCA\";\n",
       "                var nbb_cells = Jupyter.notebook.get_cells();\n",
       "                for (var i = 0; i < nbb_cells.length; ++i) {\n",
       "                    if (nbb_cells[i].input_prompt_number == nbb_cell_id) {\n",
       "                        if (nbb_cells[i].get_text() == nbb_unformatted_code) {\n",
       "                             nbb_cells[i].set_text(nbb_formatted_code);\n",
       "                        }\n",
       "                        break;\n",
       "                    }\n",
       "                }\n",
       "            }, 500);\n",
       "            "
      ],
      "text/plain": [
       "<IPython.core.display.Javascript object>"
      ]
     },
     "metadata": {},
     "output_type": "display_data"
    }
   ],
   "source": [
    "from sklearn.cluster import KMeans\n",
    "from sklearn.decomposition import PCA"
   ]
  },
  {
   "cell_type": "code",
   "execution_count": 49,
   "metadata": {},
   "outputs": [
    {
     "data": {
      "application/javascript": [
       "\n",
       "            setTimeout(function() {\n",
       "                var nbb_cell_id = 49;\n",
       "                var nbb_unformatted_code = \"# Create color palette with >23 colors\\ncolors = [\\n    (2, 63, 165),\\n    (125, 135, 185),\\n    (190, 193, 212),\\n    (214, 188, 192),\\n    (187, 119, 132),\\n    (142, 6, 59),\\n    (74, 111, 227),\\n    (133, 149, 225),\\n    (181, 187, 227),\\n    (230, 175, 185),\\n    (224, 123, 145),\\n    (211, 63, 106),\\n    (17, 198, 56),\\n    (141, 213, 147),\\n    (198, 222, 199),\\n    (234, 211, 198),\\n    (240, 185, 141),\\n    (239, 151, 8),\\n    (15, 207, 192),\\n    (156, 222, 214),\\n    (213, 234, 231),\\n    (243, 225, 235),\\n    (246, 196, 225),\\n    (247, 156, 212),\\n]\\n\\n# Markers for outcomes\\nmarkers = {1: \\\"o\\\", 0: \\\"x\\\"}\";\n",
       "                var nbb_formatted_code = \"# Create color palette with >23 colors\\ncolors = [\\n    (2, 63, 165),\\n    (125, 135, 185),\\n    (190, 193, 212),\\n    (214, 188, 192),\\n    (187, 119, 132),\\n    (142, 6, 59),\\n    (74, 111, 227),\\n    (133, 149, 225),\\n    (181, 187, 227),\\n    (230, 175, 185),\\n    (224, 123, 145),\\n    (211, 63, 106),\\n    (17, 198, 56),\\n    (141, 213, 147),\\n    (198, 222, 199),\\n    (234, 211, 198),\\n    (240, 185, 141),\\n    (239, 151, 8),\\n    (15, 207, 192),\\n    (156, 222, 214),\\n    (213, 234, 231),\\n    (243, 225, 235),\\n    (246, 196, 225),\\n    (247, 156, 212),\\n]\\n\\n# Markers for outcomes\\nmarkers = {1: \\\"o\\\", 0: \\\"x\\\"}\";\n",
       "                var nbb_cells = Jupyter.notebook.get_cells();\n",
       "                for (var i = 0; i < nbb_cells.length; ++i) {\n",
       "                    if (nbb_cells[i].input_prompt_number == nbb_cell_id) {\n",
       "                        if (nbb_cells[i].get_text() == nbb_unformatted_code) {\n",
       "                             nbb_cells[i].set_text(nbb_formatted_code);\n",
       "                        }\n",
       "                        break;\n",
       "                    }\n",
       "                }\n",
       "            }, 500);\n",
       "            "
      ],
      "text/plain": [
       "<IPython.core.display.Javascript object>"
      ]
     },
     "metadata": {},
     "output_type": "display_data"
    }
   ],
   "source": [
    "# Create color palette with >23 colors\n",
    "colors = [\n",
    "    (2, 63, 165),\n",
    "    (125, 135, 185),\n",
    "    (190, 193, 212),\n",
    "    (214, 188, 192),\n",
    "    (187, 119, 132),\n",
    "    (142, 6, 59),\n",
    "    (74, 111, 227),\n",
    "    (133, 149, 225),\n",
    "    (181, 187, 227),\n",
    "    (230, 175, 185),\n",
    "    (224, 123, 145),\n",
    "    (211, 63, 106),\n",
    "    (17, 198, 56),\n",
    "    (141, 213, 147),\n",
    "    (198, 222, 199),\n",
    "    (234, 211, 198),\n",
    "    (240, 185, 141),\n",
    "    (239, 151, 8),\n",
    "    (15, 207, 192),\n",
    "    (156, 222, 214),\n",
    "    (213, 234, 231),\n",
    "    (243, 225, 235),\n",
    "    (246, 196, 225),\n",
    "    (247, 156, 212),\n",
    "]\n",
    "\n",
    "# Markers for outcomes\n",
    "markers = {1: \"o\", 0: \"x\"}"
   ]
  },
  {
   "cell_type": "code",
   "execution_count": 50,
   "metadata": {},
   "outputs": [
    {
     "data": {
      "image/png": "[encoded data removed]",
      "text/plain": [
       "<Figure size 1080x432 with 1 Axes>"
      ]
     },
     "metadata": {
      "needs_background": "light"
     },
     "output_type": "display_data"
    },
    {
     "data": {
      "application/javascript": [
       "\n",
       "            setTimeout(function() {\n",
       "                var nbb_cell_id = 50;\n",
       "                var nbb_unformatted_code = \"# Fit k-means clustering model with data\\nkmeans = KMeans(n_clusters=23, random_state=42).fit(X)\\n\\n# Use PCA to reduce to 2D\\npca = PCA(n_components=2).fit(X).transform(X)\\n\\nfig, ax = plt.subplots(figsize=[15, 6])\\n\\nfor i in range(pca.shape[0]):\\n\\n    r, g, b = colors[kmeans.labels_[i]]\\n    c = \\\"#%02x%02x%02x\\\" % (r, g, b)\\n    ax.scatter(\\n        pca[i, 0], pca[i, 1], c=c, alpha=1, marker=markers.get(y[i]), linewidth=1,\\n    )\\n\\nfig.suptitle(\\\"Visualize clustering of 23 species\\\")\\nplt.show()\";\n",
       "                var nbb_formatted_code = \"# Fit k-means clustering model with data\\nkmeans = KMeans(n_clusters=23, random_state=42).fit(X)\\n\\n# Use PCA to reduce to 2D\\npca = PCA(n_components=2).fit(X).transform(X)\\n\\nfig, ax = plt.subplots(figsize=[15, 6])\\n\\nfor i in range(pca.shape[0]):\\n\\n    r, g, b = colors[kmeans.labels_[i]]\\n    c = \\\"#%02x%02x%02x\\\" % (r, g, b)\\n    ax.scatter(\\n        pca[i, 0], pca[i, 1], c=c, alpha=1, marker=markers.get(y[i]), linewidth=1,\\n    )\\n\\nfig.suptitle(\\\"Visualize clustering of 23 species\\\")\\nplt.show()\";\n",
       "                var nbb_cells = Jupyter.notebook.get_cells();\n",
       "                for (var i = 0; i < nbb_cells.length; ++i) {\n",
       "                    if (nbb_cells[i].input_prompt_number == nbb_cell_id) {\n",
       "                        if (nbb_cells[i].get_text() == nbb_unformatted_code) {\n",
       "                             nbb_cells[i].set_text(nbb_formatted_code);\n",
       "                        }\n",
       "                        break;\n",
       "                    }\n",
       "                }\n",
       "            }, 500);\n",
       "            "
      ],
      "text/plain": [
       "<IPython.core.display.Javascript object>"
      ]
     },
     "metadata": {},
     "output_type": "display_data"
    }
   ],
   "source": [
    "# Fit k-means clustering model with data\n",
    "kmeans = KMeans(n_clusters=23, random_state=42).fit(X)\n",
    "\n",
    "# Use PCA to reduce to 2D\n",
    "pca = PCA(n_components=2).fit(X).transform(X)\n",
    "\n",
    "fig, ax = plt.subplots(figsize=[15, 6])\n",
    "\n",
    "for i in range(pca.shape[0]):\n",
    "\n",
    "    r, g, b = colors[kmeans.labels_[i]]\n",
    "    c = \"#%02x%02x%02x\" % (r, g, b)\n",
    "    ax.scatter(\n",
    "        pca[i, 0], pca[i, 1], c=c, alpha=1, marker=markers.get(y[i]), linewidth=1,\n",
    "    )\n",
    "\n",
    "fig.suptitle(\"Visualize clustering of 23 species\")\n",
    "plt.show()"
   ]
  },
  {
   "cell_type": "markdown",
   "metadata": {},
   "source": [
    "Visually, the model is actually pretty good in separating species because most species (by color) seems to have a distinct classification (by marker). If the same color group has both o and x markers, then the model did not cluster that species correctly."
   ]
  },
  {
   "cell_type": "code",
   "execution_count": 51,
   "metadata": {},
   "outputs": [
    {
     "data": {
      "text/html": [
       "<div>\n",
       "<style scoped>\n",
       "    .dataframe tbody tr th:only-of-type {\n",
       "        vertical-align: middle;\n",
       "    }\n",
       "\n",
       "    .dataframe tbody tr th {\n",
       "        vertical-align: top;\n",
       "    }\n",
       "\n",
       "    .dataframe thead th {\n",
       "        text-align: right;\n",
       "    }\n",
       "</style>\n",
       "<table border=\"1\" class=\"dataframe\">\n",
       "  <thead>\n",
       "    <tr style=\"text-align: right;\">\n",
       "      <th></th>\n",
       "      <th>x</th>\n",
       "      <th>y</th>\n",
       "      <th>k_group</th>\n",
       "      <th>class</th>\n",
       "    </tr>\n",
       "  </thead>\n",
       "  <tbody>\n",
       "    <tr>\n",
       "      <th>0</th>\n",
       "      <td>-1.145510</td>\n",
       "      <td>-0.398433</td>\n",
       "      <td>15</td>\n",
       "      <td>1</td>\n",
       "    </tr>\n",
       "    <tr>\n",
       "      <th>1</th>\n",
       "      <td>-1.401846</td>\n",
       "      <td>0.543146</td>\n",
       "      <td>5</td>\n",
       "      <td>0</td>\n",
       "    </tr>\n",
       "    <tr>\n",
       "      <th>2</th>\n",
       "      <td>-1.553022</td>\n",
       "      <td>0.300245</td>\n",
       "      <td>5</td>\n",
       "      <td>0</td>\n",
       "    </tr>\n",
       "    <tr>\n",
       "      <th>3</th>\n",
       "      <td>-1.230153</td>\n",
       "      <td>-0.106082</td>\n",
       "      <td>15</td>\n",
       "      <td>1</td>\n",
       "    </tr>\n",
       "    <tr>\n",
       "      <th>4</th>\n",
       "      <td>-0.755858</td>\n",
       "      <td>-0.479208</td>\n",
       "      <td>4</td>\n",
       "      <td>0</td>\n",
       "    </tr>\n",
       "  </tbody>\n",
       "</table>\n",
       "</div>"
      ],
      "text/plain": [
       "          x         y  k_group  class\n",
       "0 -1.145510 -0.398433       15      1\n",
       "1 -1.401846  0.543146        5      0\n",
       "2 -1.553022  0.300245        5      0\n",
       "3 -1.230153 -0.106082       15      1\n",
       "4 -0.755858 -0.479208        4      0"
      ]
     },
     "execution_count": 51,
     "metadata": {},
     "output_type": "execute_result"
    },
    {
     "data": {
      "application/javascript": [
       "\n",
       "            setTimeout(function() {\n",
       "                var nbb_cell_id = 51;\n",
       "                var nbb_unformatted_code = \"# Create table of results\\nresults = np.append(pca, kmeans.labels_.reshape(-1, 1), 1)\\nresults = np.append(results, np.array(y).reshape(-1, 1), 1)\\nresults = pd.DataFrame(results)\\nresults.columns = [\\\"x\\\", \\\"y\\\", \\\"k_group\\\", \\\"class\\\"]\\nresults[\\\"k_group\\\"] = results[\\\"k_group\\\"].astype(\\\"int\\\")\\nresults[\\\"class\\\"] = results[\\\"class\\\"].astype(\\\"int\\\")\\n\\nresults.head()\";\n",
       "                var nbb_formatted_code = \"# Create table of results\\nresults = np.append(pca, kmeans.labels_.reshape(-1, 1), 1)\\nresults = np.append(results, np.array(y).reshape(-1, 1), 1)\\nresults = pd.DataFrame(results)\\nresults.columns = [\\\"x\\\", \\\"y\\\", \\\"k_group\\\", \\\"class\\\"]\\nresults[\\\"k_group\\\"] = results[\\\"k_group\\\"].astype(\\\"int\\\")\\nresults[\\\"class\\\"] = results[\\\"class\\\"].astype(\\\"int\\\")\\n\\nresults.head()\";\n",
       "                var nbb_cells = Jupyter.notebook.get_cells();\n",
       "                for (var i = 0; i < nbb_cells.length; ++i) {\n",
       "                    if (nbb_cells[i].input_prompt_number == nbb_cell_id) {\n",
       "                        if (nbb_cells[i].get_text() == nbb_unformatted_code) {\n",
       "                             nbb_cells[i].set_text(nbb_formatted_code);\n",
       "                        }\n",
       "                        break;\n",
       "                    }\n",
       "                }\n",
       "            }, 500);\n",
       "            "
      ],
      "text/plain": [
       "<IPython.core.display.Javascript object>"
      ]
     },
     "metadata": {},
     "output_type": "display_data"
    }
   ],
   "source": [
    "# Create table of results\n",
    "results = np.append(pca, kmeans.labels_.reshape(-1, 1), 1)\n",
    "results = np.append(results, np.array(y).reshape(-1, 1), 1)\n",
    "results = pd.DataFrame(results)\n",
    "results.columns = [\"x\", \"y\", \"k_group\", \"class\"]\n",
    "results[\"k_group\"] = results[\"k_group\"].astype(\"int\")\n",
    "results[\"class\"] = results[\"class\"].astype(\"int\")\n",
    "\n",
    "results.head()"
   ]
  },
  {
   "cell_type": "code",
   "execution_count": 52,
   "metadata": {},
   "outputs": [
    {
     "data": {
      "text/html": [
       "<div>\n",
       "<style scoped>\n",
       "    .dataframe tbody tr th:only-of-type {\n",
       "        vertical-align: middle;\n",
       "    }\n",
       "\n",
       "    .dataframe tbody tr th {\n",
       "        vertical-align: top;\n",
       "    }\n",
       "\n",
       "    .dataframe thead th {\n",
       "        text-align: right;\n",
       "    }\n",
       "</style>\n",
       "<table border=\"1\" class=\"dataframe\">\n",
       "  <thead>\n",
       "    <tr style=\"text-align: right;\">\n",
       "      <th></th>\n",
       "      <th>mean</th>\n",
       "      <th>count</th>\n",
       "    </tr>\n",
       "    <tr>\n",
       "      <th>k_group</th>\n",
       "      <th></th>\n",
       "      <th></th>\n",
       "    </tr>\n",
       "  </thead>\n",
       "  <tbody>\n",
       "    <tr>\n",
       "      <th>0</th>\n",
       "      <td>0.000000</td>\n",
       "      <td>432</td>\n",
       "    </tr>\n",
       "    <tr>\n",
       "      <th>1</th>\n",
       "      <td>0.571429</td>\n",
       "      <td>336</td>\n",
       "    </tr>\n",
       "    <tr>\n",
       "      <th>2</th>\n",
       "      <td>1.000000</td>\n",
       "      <td>459</td>\n",
       "    </tr>\n",
       "    <tr>\n",
       "      <th>3</th>\n",
       "      <td>1.000000</td>\n",
       "      <td>594</td>\n",
       "    </tr>\n",
       "    <tr>\n",
       "      <th>4</th>\n",
       "      <td>0.000000</td>\n",
       "      <td>384</td>\n",
       "    </tr>\n",
       "    <tr>\n",
       "      <th>5</th>\n",
       "      <td>0.000000</td>\n",
       "      <td>512</td>\n",
       "    </tr>\n",
       "    <tr>\n",
       "      <th>6</th>\n",
       "      <td>1.000000</td>\n",
       "      <td>405</td>\n",
       "    </tr>\n",
       "    <tr>\n",
       "      <th>7</th>\n",
       "      <td>0.000000</td>\n",
       "      <td>432</td>\n",
       "    </tr>\n",
       "    <tr>\n",
       "      <th>8</th>\n",
       "      <td>1.000000</td>\n",
       "      <td>288</td>\n",
       "    </tr>\n",
       "    <tr>\n",
       "      <th>9</th>\n",
       "      <td>0.000000</td>\n",
       "      <td>192</td>\n",
       "    </tr>\n",
       "    <tr>\n",
       "      <th>10</th>\n",
       "      <td>0.000000</td>\n",
       "      <td>288</td>\n",
       "    </tr>\n",
       "    <tr>\n",
       "      <th>11</th>\n",
       "      <td>1.000000</td>\n",
       "      <td>378</td>\n",
       "    </tr>\n",
       "    <tr>\n",
       "      <th>12</th>\n",
       "      <td>0.000000</td>\n",
       "      <td>192</td>\n",
       "    </tr>\n",
       "    <tr>\n",
       "      <th>13</th>\n",
       "      <td>0.692308</td>\n",
       "      <td>104</td>\n",
       "    </tr>\n",
       "    <tr>\n",
       "      <th>14</th>\n",
       "      <td>0.000000</td>\n",
       "      <td>432</td>\n",
       "    </tr>\n",
       "    <tr>\n",
       "      <th>15</th>\n",
       "      <td>0.733333</td>\n",
       "      <td>360</td>\n",
       "    </tr>\n",
       "    <tr>\n",
       "      <th>16</th>\n",
       "      <td>1.000000</td>\n",
       "      <td>432</td>\n",
       "    </tr>\n",
       "    <tr>\n",
       "      <th>17</th>\n",
       "      <td>0.000000</td>\n",
       "      <td>384</td>\n",
       "    </tr>\n",
       "    <tr>\n",
       "      <th>18</th>\n",
       "      <td>0.000000</td>\n",
       "      <td>192</td>\n",
       "    </tr>\n",
       "    <tr>\n",
       "      <th>19</th>\n",
       "      <td>1.000000</td>\n",
       "      <td>432</td>\n",
       "    </tr>\n",
       "    <tr>\n",
       "      <th>20</th>\n",
       "      <td>1.000000</td>\n",
       "      <td>324</td>\n",
       "    </tr>\n",
       "    <tr>\n",
       "      <th>21</th>\n",
       "      <td>0.542857</td>\n",
       "      <td>140</td>\n",
       "    </tr>\n",
       "    <tr>\n",
       "      <th>22</th>\n",
       "      <td>0.000000</td>\n",
       "      <td>432</td>\n",
       "    </tr>\n",
       "  </tbody>\n",
       "</table>\n",
       "</div>"
      ],
      "text/plain": [
       "             mean  count\n",
       "k_group                 \n",
       "0        0.000000    432\n",
       "1        0.571429    336\n",
       "2        1.000000    459\n",
       "3        1.000000    594\n",
       "4        0.000000    384\n",
       "5        0.000000    512\n",
       "6        1.000000    405\n",
       "7        0.000000    432\n",
       "8        1.000000    288\n",
       "9        0.000000    192\n",
       "10       0.000000    288\n",
       "11       1.000000    378\n",
       "12       0.000000    192\n",
       "13       0.692308    104\n",
       "14       0.000000    432\n",
       "15       0.733333    360\n",
       "16       1.000000    432\n",
       "17       0.000000    384\n",
       "18       0.000000    192\n",
       "19       1.000000    432\n",
       "20       1.000000    324\n",
       "21       0.542857    140\n",
       "22       0.000000    432"
      ]
     },
     "execution_count": 52,
     "metadata": {},
     "output_type": "execute_result"
    },
    {
     "data": {
      "application/javascript": [
       "\n",
       "            setTimeout(function() {\n",
       "                var nbb_cell_id = 52;\n",
       "                var nbb_unformatted_code = \"stats = results.groupby(\\\"k_group\\\").agg({\\\"class\\\": [\\\"mean\\\", \\\"count\\\"]})[\\\"class\\\"]\\n\\nstats\";\n",
       "                var nbb_formatted_code = \"stats = results.groupby(\\\"k_group\\\").agg({\\\"class\\\": [\\\"mean\\\", \\\"count\\\"]})[\\\"class\\\"]\\n\\nstats\";\n",
       "                var nbb_cells = Jupyter.notebook.get_cells();\n",
       "                for (var i = 0; i < nbb_cells.length; ++i) {\n",
       "                    if (nbb_cells[i].input_prompt_number == nbb_cell_id) {\n",
       "                        if (nbb_cells[i].get_text() == nbb_unformatted_code) {\n",
       "                             nbb_cells[i].set_text(nbb_formatted_code);\n",
       "                        }\n",
       "                        break;\n",
       "                    }\n",
       "                }\n",
       "            }, 500);\n",
       "            "
      ],
      "text/plain": [
       "<IPython.core.display.Javascript object>"
      ]
     },
     "metadata": {},
     "output_type": "display_data"
    }
   ],
   "source": [
    "stats = results.groupby(\"k_group\").agg({\"class\": [\"mean\", \"count\"]})[\"class\"]\n",
    "\n",
    "stats"
   ]
  },
  {
   "cell_type": "code",
   "execution_count": 53,
   "metadata": {},
   "outputs": [
    {
     "name": "stdout",
     "output_type": "stream",
     "text": [
      "Accuracy is 88.43%\n"
     ]
    },
    {
     "data": {
      "application/javascript": [
       "\n",
       "            setTimeout(function() {\n",
       "                var nbb_cell_id = 53;\n",
       "                var nbb_unformatted_code = \"accuracy = (\\n    stats[(stats[\\\"mean\\\"] == 0) | (stats[\\\"mean\\\"] == 1)][\\\"count\\\"].sum() / results.shape[0]\\n)\\nprint(f\\\"Accuracy is {round(accuracy*100, 2)}%\\\")\";\n",
       "                var nbb_formatted_code = \"accuracy = (\\n    stats[(stats[\\\"mean\\\"] == 0) | (stats[\\\"mean\\\"] == 1)][\\\"count\\\"].sum() / results.shape[0]\\n)\\nprint(f\\\"Accuracy is {round(accuracy*100, 2)}%\\\")\";\n",
       "                var nbb_cells = Jupyter.notebook.get_cells();\n",
       "                for (var i = 0; i < nbb_cells.length; ++i) {\n",
       "                    if (nbb_cells[i].input_prompt_number == nbb_cell_id) {\n",
       "                        if (nbb_cells[i].get_text() == nbb_unformatted_code) {\n",
       "                             nbb_cells[i].set_text(nbb_formatted_code);\n",
       "                        }\n",
       "                        break;\n",
       "                    }\n",
       "                }\n",
       "            }, 500);\n",
       "            "
      ],
      "text/plain": [
       "<IPython.core.display.Javascript object>"
      ]
     },
     "metadata": {},
     "output_type": "display_data"
    }
   ],
   "source": [
    "accuracy = (\n",
    "    stats[(stats[\"mean\"] == 0) | (stats[\"mean\"] == 1)][\"count\"].sum() / results.shape[0]\n",
    ")\n",
    "print(f\"Accuracy is {round(accuracy*100, 2)}%\")"
   ]
  },
  {
   "cell_type": "markdown",
   "metadata": {},
   "source": [
    "20 of the 23 species have 100% accuracy on classifying whether they are posionous. Assuming if 100% accuracy is true for those 23 species, then we have achieved at least 91% accuracy on the dataset."
   ]
  },
  {
   "cell_type": "code",
   "execution_count": 54,
   "metadata": {},
   "outputs": [
    {
     "data": {
      "image/png": "[encoded data removed]",
      "text/plain": [
       "<Figure size 1080x432 with 1 Axes>"
      ]
     },
     "metadata": {
      "needs_background": "light"
     },
     "output_type": "display_data"
    },
    {
     "data": {
      "application/javascript": [
       "\n",
       "            setTimeout(function() {\n",
       "                var nbb_cell_id = 54;\n",
       "                var nbb_unformatted_code = \"# Regraph the clustering for the 3 uncertain species\\n\\nfig, ax = plt.subplots(figsize=[15, 6])\\n\\nfor i in range(pca.shape[0]):\\n\\n    if kmeans.labels_[i] in (1, 16, 18):\\n        r, g, b = colors[kmeans.labels_[i]]\\n        c = \\\"#%02x%02x%02x\\\" % (r, g, b)\\n        ax.scatter(\\n            pca[i, 0],\\n            pca[i, 1],\\n            c=c,\\n            alpha=1,\\n            marker=markers.get(y[i]),\\n            linewidth=1,\\n        )\\n\\nfig.suptitle(\\\"Visualize clustering of 3 species\\\")\\nplt.show()\";\n",
       "                var nbb_formatted_code = \"# Regraph the clustering for the 3 uncertain species\\n\\nfig, ax = plt.subplots(figsize=[15, 6])\\n\\nfor i in range(pca.shape[0]):\\n\\n    if kmeans.labels_[i] in (1, 16, 18):\\n        r, g, b = colors[kmeans.labels_[i]]\\n        c = \\\"#%02x%02x%02x\\\" % (r, g, b)\\n        ax.scatter(\\n            pca[i, 0], pca[i, 1], c=c, alpha=1, marker=markers.get(y[i]), linewidth=1,\\n        )\\n\\nfig.suptitle(\\\"Visualize clustering of 3 species\\\")\\nplt.show()\";\n",
       "                var nbb_cells = Jupyter.notebook.get_cells();\n",
       "                for (var i = 0; i < nbb_cells.length; ++i) {\n",
       "                    if (nbb_cells[i].input_prompt_number == nbb_cell_id) {\n",
       "                        if (nbb_cells[i].get_text() == nbb_unformatted_code) {\n",
       "                             nbb_cells[i].set_text(nbb_formatted_code);\n",
       "                        }\n",
       "                        break;\n",
       "                    }\n",
       "                }\n",
       "            }, 500);\n",
       "            "
      ],
      "text/plain": [
       "<IPython.core.display.Javascript object>"
      ]
     },
     "metadata": {},
     "output_type": "display_data"
    }
   ],
   "source": [
    "# Regraph the clustering for the 3 uncertain species\n",
    "\n",
    "fig, ax = plt.subplots(figsize=[15, 6])\n",
    "\n",
    "for i in range(pca.shape[0]):\n",
    "\n",
    "    if kmeans.labels_[i] in (1, 16, 18):\n",
    "        r, g, b = colors[kmeans.labels_[i]]\n",
    "        c = \"#%02x%02x%02x\" % (r, g, b)\n",
    "        ax.scatter(\n",
    "            pca[i, 0],\n",
    "            pca[i, 1],\n",
    "            c=c,\n",
    "            alpha=1,\n",
    "            marker=markers.get(y[i]),\n",
    "            linewidth=1,\n",
    "        )\n",
    "\n",
    "fig.suptitle(\"Visualize clustering of 3 species\")\n",
    "plt.show()\n"
   ]
  },
  {
   "cell_type": "code",
   "execution_count": 55,
   "metadata": {},
   "outputs": [
    {
     "data": {
      "application/javascript": [
       "\n",
       "            setTimeout(function() {\n",
       "                var nbb_cell_id = 55;\n",
       "                var nbb_unformatted_code = \"compare = pd.merge(results, stats.reset_index(), how=\\\"inner\\\", on=\\\"k_group\\\")\\ncompare[\\\"class_pred\\\"] = compare[\\\"mean\\\"].apply(lambda x: int(round(x)))\";\n",
       "                var nbb_formatted_code = \"compare = pd.merge(results, stats.reset_index(), how=\\\"inner\\\", on=\\\"k_group\\\")\\ncompare[\\\"class_pred\\\"] = compare[\\\"mean\\\"].apply(lambda x: int(round(x)))\";\n",
       "                var nbb_cells = Jupyter.notebook.get_cells();\n",
       "                for (var i = 0; i < nbb_cells.length; ++i) {\n",
       "                    if (nbb_cells[i].input_prompt_number == nbb_cell_id) {\n",
       "                        if (nbb_cells[i].get_text() == nbb_unformatted_code) {\n",
       "                             nbb_cells[i].set_text(nbb_formatted_code);\n",
       "                        }\n",
       "                        break;\n",
       "                    }\n",
       "                }\n",
       "            }, 500);\n",
       "            "
      ],
      "text/plain": [
       "<IPython.core.display.Javascript object>"
      ]
     },
     "metadata": {},
     "output_type": "display_data"
    }
   ],
   "source": [
    "compare = pd.merge(results, stats.reset_index(), how=\"inner\", on=\"k_group\")\n",
    "compare[\"class_pred\"] = compare[\"mean\"].apply(lambda x: int(round(x)))"
   ]
  },
  {
   "cell_type": "code",
   "execution_count": 56,
   "metadata": {},
   "outputs": [
    {
     "name": "stdout",
     "output_type": "stream",
     "text": [
      "Precision: 92.1%\n",
      "Recall: 100.0%\n",
      "F1: 95.9%\n"
     ]
    },
    {
     "data": {
      "text/plain": [
       "array([[3872,  336],\n",
       "       [   0, 3916]])"
      ]
     },
     "execution_count": 56,
     "metadata": {},
     "output_type": "execute_result"
    },
    {
     "data": {
      "application/javascript": [
       "\n",
       "            setTimeout(function() {\n",
       "                var nbb_cell_id = 56;\n",
       "                var nbb_unformatted_code = \"precision = precision_score(compare[\\\"class\\\"], compare[\\\"class_pred\\\"])\\nrecall = recall_score(compare[\\\"class\\\"], compare[\\\"class_pred\\\"])\\nf1 = f1_score(compare[\\\"class\\\"], compare[\\\"class_pred\\\"])\\n\\nprint(f\\\"Precision: {round(precision*100,1)}%\\\")\\nprint(f\\\"Recall: {round(recall*100,1)}%\\\")\\nprint(f\\\"F1: {round(f1*100,1)}%\\\")\\n\\nconfusion_matrix(compare[\\\"class\\\"], compare[\\\"class_pred\\\"])\";\n",
       "                var nbb_formatted_code = \"precision = precision_score(compare[\\\"class\\\"], compare[\\\"class_pred\\\"])\\nrecall = recall_score(compare[\\\"class\\\"], compare[\\\"class_pred\\\"])\\nf1 = f1_score(compare[\\\"class\\\"], compare[\\\"class_pred\\\"])\\n\\nprint(f\\\"Precision: {round(precision*100,1)}%\\\")\\nprint(f\\\"Recall: {round(recall*100,1)}%\\\")\\nprint(f\\\"F1: {round(f1*100,1)}%\\\")\\n\\nconfusion_matrix(compare[\\\"class\\\"], compare[\\\"class_pred\\\"])\";\n",
       "                var nbb_cells = Jupyter.notebook.get_cells();\n",
       "                for (var i = 0; i < nbb_cells.length; ++i) {\n",
       "                    if (nbb_cells[i].input_prompt_number == nbb_cell_id) {\n",
       "                        if (nbb_cells[i].get_text() == nbb_unformatted_code) {\n",
       "                             nbb_cells[i].set_text(nbb_formatted_code);\n",
       "                        }\n",
       "                        break;\n",
       "                    }\n",
       "                }\n",
       "            }, 500);\n",
       "            "
      ],
      "text/plain": [
       "<IPython.core.display.Javascript object>"
      ]
     },
     "metadata": {},
     "output_type": "display_data"
    }
   ],
   "source": [
    "precision = precision_score(compare[\"class\"], compare[\"class_pred\"])\n",
    "recall = recall_score(compare[\"class\"], compare[\"class_pred\"])\n",
    "f1 = f1_score(compare[\"class\"], compare[\"class_pred\"])\n",
    "\n",
    "print(f\"Precision: {round(precision*100,1)}%\")\n",
    "print(f\"Recall: {round(recall*100,1)}%\")\n",
    "print(f\"F1: {round(f1*100,1)}%\")\n",
    "\n",
    "confusion_matrix(compare[\"class\"], compare[\"class_pred\"])"
   ]
  },
  {
   "cell_type": "markdown",
   "metadata": {},
   "source": [
    "It's better to have a higher recall score (less false negatives), since eating a poisonous mushroom could be deadly."
   ]
  },
  {
   "cell_type": "markdown",
   "metadata": {},
   "source": [
    "## Test Models"
   ]
  },
  {
   "cell_type": "code",
   "execution_count": 118,
   "metadata": {},
   "outputs": [
    {
     "data": {
      "application/javascript": [
       "\n",
       "            setTimeout(function() {\n",
       "                var nbb_cell_id = 118;\n",
       "                var nbb_unformatted_code = \"from sklearn.model_selection import GridSearchCV\\nfrom sklearn.linear_model import LogisticRegression\\nfrom sklearn.tree import DecisionTreeClassifier\\nfrom sklearn.ensemble import RandomForestClassifier\\nfrom sklearn.neighbors import KNeighborsClassifier\\nfrom sklearn import svm\";\n",
       "                var nbb_formatted_code = \"from sklearn.model_selection import GridSearchCV\\nfrom sklearn.linear_model import LogisticRegression\\nfrom sklearn.tree import DecisionTreeClassifier\\nfrom sklearn.ensemble import RandomForestClassifier\\nfrom sklearn.neighbors import KNeighborsClassifier\\nfrom sklearn import svm\";\n",
       "                var nbb_cells = Jupyter.notebook.get_cells();\n",
       "                for (var i = 0; i < nbb_cells.length; ++i) {\n",
       "                    if (nbb_cells[i].input_prompt_number == nbb_cell_id) {\n",
       "                        if (nbb_cells[i].get_text() == nbb_unformatted_code) {\n",
       "                             nbb_cells[i].set_text(nbb_formatted_code);\n",
       "                        }\n",
       "                        break;\n",
       "                    }\n",
       "                }\n",
       "            }, 500);\n",
       "            "
      ],
      "text/plain": [
       "<IPython.core.display.Javascript object>"
      ]
     },
     "metadata": {},
     "output_type": "display_data"
    }
   ],
   "source": [
    "from sklearn.model_selection import GridSearchCV\n",
    "from sklearn.linear_model import LogisticRegression\n",
    "from sklearn.tree import DecisionTreeClassifier\n",
    "from sklearn.ensemble import RandomForestClassifier\n",
    "from sklearn.neighbors import KNeighborsClassifier\n",
    "from sklearn import svm"
   ]
  },
  {
   "cell_type": "code",
   "execution_count": 119,
   "metadata": {},
   "outputs": [
    {
     "data": {
      "application/javascript": [
       "\n",
       "            setTimeout(function() {\n",
       "                var nbb_cell_id = 119;\n",
       "                var nbb_unformatted_code = \"def evaluate(model, x_test, y_test):\\n    \\\"\\\"\\\"\\n    Print scores for a given model and training sets+labels.\\n    \\\"\\\"\\\"\\n    precision = precision_score(y_test, model.predict(x_test))\\n    recall = recall_score(y_test, model.predict(x_test))\\n    f1 = f1_score(y_test, model.predict(x_test))\\n    accuracy = accuracy_score(y_test, model.predict(x_test))\\n\\n    print(f\\\"Precision: {round(precision*100,1)}%\\\")\\n    print(f\\\"Recall: {round(recall*100,1)}%\\\")\\n    print(f\\\"F1: {round(f1*100,1)}%\\\")\\n    print(f\\\"Accuracy: {round(accuracy*100,1)}%\\\")\";\n",
       "                var nbb_formatted_code = \"def evaluate(model, x_test, y_test):\\n    \\\"\\\"\\\"\\n    Print scores for a given model and training sets+labels.\\n    \\\"\\\"\\\"\\n    precision = precision_score(y_test, model.predict(x_test))\\n    recall = recall_score(y_test, model.predict(x_test))\\n    f1 = f1_score(y_test, model.predict(x_test))\\n    accuracy = accuracy_score(y_test, model.predict(x_test))\\n\\n    print(f\\\"Precision: {round(precision*100,1)}%\\\")\\n    print(f\\\"Recall: {round(recall*100,1)}%\\\")\\n    print(f\\\"F1: {round(f1*100,1)}%\\\")\\n    print(f\\\"Accuracy: {round(accuracy*100,1)}%\\\")\";\n",
       "                var nbb_cells = Jupyter.notebook.get_cells();\n",
       "                for (var i = 0; i < nbb_cells.length; ++i) {\n",
       "                    if (nbb_cells[i].input_prompt_number == nbb_cell_id) {\n",
       "                        if (nbb_cells[i].get_text() == nbb_unformatted_code) {\n",
       "                             nbb_cells[i].set_text(nbb_formatted_code);\n",
       "                        }\n",
       "                        break;\n",
       "                    }\n",
       "                }\n",
       "            }, 500);\n",
       "            "
      ],
      "text/plain": [
       "<IPython.core.display.Javascript object>"
      ]
     },
     "metadata": {},
     "output_type": "display_data"
    }
   ],
   "source": [
    "def evaluate(model, x_test, y_test):\n",
    "    \"\"\"\n",
    "    Print scores for a given model and training sets+labels.\n",
    "    \"\"\"\n",
    "    precision = precision_score(y_test, model.predict(x_test))\n",
    "    recall = recall_score(y_test, model.predict(x_test))\n",
    "    f1 = f1_score(y_test, model.predict(x_test))\n",
    "    accuracy = accuracy_score(y_test, model.predict(x_test))\n",
    "\n",
    "    print(f\"Precision: {round(precision*100,1)}%\")\n",
    "    print(f\"Recall: {round(recall*100,1)}%\")\n",
    "    print(f\"F1: {round(f1*100,1)}%\")\n",
    "    print(f\"Accuracy: {round(accuracy*100,1)}%\")"
   ]
  },
  {
   "cell_type": "markdown",
   "metadata": {},
   "source": [
    "### Logistic Regression"
   ]
  },
  {
   "cell_type": "code",
   "execution_count": 128,
   "metadata": {},
   "outputs": [
    {
     "name": "stdout",
     "output_type": "stream",
     "text": [
      "Precision: 100.0%\n",
      "Recall: 99.9%\n",
      "F1: 100.0%\n",
      "Accuracy: 100.0%\n"
     ]
    },
    {
     "data": {
      "application/javascript": [
       "\n",
       "            setTimeout(function() {\n",
       "                var nbb_cell_id = 128;\n",
       "                var nbb_unformatted_code = \"lr = LogisticRegression(random_state=42)\\nlr.fit(x_train, y_train)\\n\\nevaluate(lr, x_test, y_test)\";\n",
       "                var nbb_formatted_code = \"lr = LogisticRegression(random_state=42)\\nlr.fit(x_train, y_train)\\n\\nevaluate(lr, x_test, y_test)\";\n",
       "                var nbb_cells = Jupyter.notebook.get_cells();\n",
       "                for (var i = 0; i < nbb_cells.length; ++i) {\n",
       "                    if (nbb_cells[i].input_prompt_number == nbb_cell_id) {\n",
       "                        if (nbb_cells[i].get_text() == nbb_unformatted_code) {\n",
       "                             nbb_cells[i].set_text(nbb_formatted_code);\n",
       "                        }\n",
       "                        break;\n",
       "                    }\n",
       "                }\n",
       "            }, 500);\n",
       "            "
      ],
      "text/plain": [
       "<IPython.core.display.Javascript object>"
      ]
     },
     "metadata": {},
     "output_type": "display_data"
    }
   ],
   "source": [
    "lr = LogisticRegression(random_state=42)\n",
    "lr.fit(x_train, y_train)\n",
    "\n",
    "evaluate(lr, x_test, y_test)"
   ]
  },
  {
   "cell_type": "markdown",
   "metadata": {},
   "source": [
    "### Decision Tree"
   ]
  },
  {
   "cell_type": "code",
   "execution_count": 129,
   "metadata": {},
   "outputs": [
    {
     "name": "stdout",
     "output_type": "stream",
     "text": [
      "Precision: 100.0%\n",
      "Recall: 100.0%\n",
      "F1: 100.0%\n",
      "Accuracy: 100.0%\n"
     ]
    },
    {
     "data": {
      "application/javascript": [
       "\n",
       "            setTimeout(function() {\n",
       "                var nbb_cell_id = 129;\n",
       "                var nbb_unformatted_code = \"dtc = DecisionTreeClassifier(random_state=42)\\nparameters = {\\\"max_leaf_nodes\\\": [5, 10, 15]}\\n\\n# Use Grid Search for parameters\\ndtc = GridSearchCV(dtc, parameters)\\ndtc.fit(x_train, y_train)\\n\\ndtc = DecisionTreeClassifier(max_leaf_nodes=dtc.best_params_[\\\"max_leaf_nodes\\\"])\\ndtc.fit(x_train, y_train)\\nevaluate(dtc, x_test, y_test)\";\n",
       "                var nbb_formatted_code = \"dtc = DecisionTreeClassifier(random_state=42)\\nparameters = {\\\"max_leaf_nodes\\\": [5, 10, 15]}\\n\\n# Use Grid Search for parameters\\ndtc = GridSearchCV(dtc, parameters)\\ndtc.fit(x_train, y_train)\\n\\ndtc = DecisionTreeClassifier(max_leaf_nodes=dtc.best_params_[\\\"max_leaf_nodes\\\"])\\ndtc.fit(x_train, y_train)\\nevaluate(dtc, x_test, y_test)\";\n",
       "                var nbb_cells = Jupyter.notebook.get_cells();\n",
       "                for (var i = 0; i < nbb_cells.length; ++i) {\n",
       "                    if (nbb_cells[i].input_prompt_number == nbb_cell_id) {\n",
       "                        if (nbb_cells[i].get_text() == nbb_unformatted_code) {\n",
       "                             nbb_cells[i].set_text(nbb_formatted_code);\n",
       "                        }\n",
       "                        break;\n",
       "                    }\n",
       "                }\n",
       "            }, 500);\n",
       "            "
      ],
      "text/plain": [
       "<IPython.core.display.Javascript object>"
      ]
     },
     "metadata": {},
     "output_type": "display_data"
    }
   ],
   "source": [
    "dtc = DecisionTreeClassifier(random_state=42)\n",
    "parameters = {\"max_leaf_nodes\": [5, 10, 15]}\n",
    "\n",
    "# Use Grid Search for parameters\n",
    "dtc = GridSearchCV(dtc, parameters)\n",
    "dtc.fit(x_train, y_train)\n",
    "\n",
    "dtc = DecisionTreeClassifier(max_leaf_nodes=dtc.best_params_[\"max_leaf_nodes\"])\n",
    "dtc.fit(x_train, y_train)\n",
    "evaluate(dtc, x_test, y_test)"
   ]
  },
  {
   "cell_type": "markdown",
   "metadata": {},
   "source": [
    "## Random Forest "
   ]
  },
  {
   "cell_type": "code",
   "execution_count": 130,
   "metadata": {},
   "outputs": [
    {
     "name": "stdout",
     "output_type": "stream",
     "text": [
      "{'bootstrap': True, 'criterion': 'entropy', 'max_leaf_nodes': 15}\n",
      "Precision: 100.0%\n",
      "Recall: 99.8%\n",
      "F1: 99.9%\n",
      "Accuracy: 99.9%\n"
     ]
    },
    {
     "data": {
      "application/javascript": [
       "\n",
       "            setTimeout(function() {\n",
       "                var nbb_cell_id = 130;\n",
       "                var nbb_unformatted_code = \"rf = RandomForestClassifier(random_state=42)\\nparameters = {\\n    \\\"max_leaf_nodes\\\": [5, 10, 15],\\n    \\\"criterion\\\": [\\\"gini\\\", \\\"entropy\\\"],\\n    \\\"bootstrap\\\": [True, False],\\n}\\n\\n# Use Grid Search for parameters\\nrf = GridSearchCV(rf, parameters)\\nrf.fit(x_train, y_train)\\n\\nprint(rf.best_params_)\\nrf = RandomForestClassifier(\\n    max_leaf_nodes=rf.best_params_[\\\"max_leaf_nodes\\\"],\\n    criterion=rf.best_params_[\\\"criterion\\\"],\\n    bootstrap=rf.best_params_[\\\"bootstrap\\\"],\\n)\\nrf.fit(x_train, y_train)\\nevaluate(rf, x_test, y_test)\";\n",
       "                var nbb_formatted_code = \"rf = RandomForestClassifier(random_state=42)\\nparameters = {\\n    \\\"max_leaf_nodes\\\": [5, 10, 15],\\n    \\\"criterion\\\": [\\\"gini\\\", \\\"entropy\\\"],\\n    \\\"bootstrap\\\": [True, False],\\n}\\n\\n# Use Grid Search for parameters\\nrf = GridSearchCV(rf, parameters)\\nrf.fit(x_train, y_train)\\n\\nprint(rf.best_params_)\\nrf = RandomForestClassifier(\\n    max_leaf_nodes=rf.best_params_[\\\"max_leaf_nodes\\\"],\\n    criterion=rf.best_params_[\\\"criterion\\\"],\\n    bootstrap=rf.best_params_[\\\"bootstrap\\\"],\\n)\\nrf.fit(x_train, y_train)\\nevaluate(rf, x_test, y_test)\";\n",
       "                var nbb_cells = Jupyter.notebook.get_cells();\n",
       "                for (var i = 0; i < nbb_cells.length; ++i) {\n",
       "                    if (nbb_cells[i].input_prompt_number == nbb_cell_id) {\n",
       "                        if (nbb_cells[i].get_text() == nbb_unformatted_code) {\n",
       "                             nbb_cells[i].set_text(nbb_formatted_code);\n",
       "                        }\n",
       "                        break;\n",
       "                    }\n",
       "                }\n",
       "            }, 500);\n",
       "            "
      ],
      "text/plain": [
       "<IPython.core.display.Javascript object>"
      ]
     },
     "metadata": {},
     "output_type": "display_data"
    }
   ],
   "source": [
    "rf = RandomForestClassifier(random_state=42)\n",
    "parameters = {\n",
    "    \"max_leaf_nodes\": [5, 10, 15],\n",
    "    \"criterion\": [\"gini\", \"entropy\"],\n",
    "    \"bootstrap\": [True, False],\n",
    "}\n",
    "\n",
    "# Use Grid Search for parameters\n",
    "rf = GridSearchCV(rf, parameters)\n",
    "rf.fit(x_train, y_train)\n",
    "\n",
    "print(rf.best_params_)\n",
    "rf = RandomForestClassifier(\n",
    "    max_leaf_nodes=rf.best_params_[\"max_leaf_nodes\"],\n",
    "    criterion=rf.best_params_[\"criterion\"],\n",
    "    bootstrap=rf.best_params_[\"bootstrap\"],\n",
    ")\n",
    "rf.fit(x_train, y_train)\n",
    "evaluate(rf, x_test, y_test)"
   ]
  },
  {
   "cell_type": "markdown",
   "metadata": {},
   "source": [
    "### K Neighbors"
   ]
  },
  {
   "cell_type": "code",
   "execution_count": 131,
   "metadata": {},
   "outputs": [
    {
     "name": "stdout",
     "output_type": "stream",
     "text": [
      "Precision: 100.0%\n",
      "Recall: 100.0%\n",
      "F1: 100.0%\n",
      "Accuracy: 100.0%\n"
     ]
    },
    {
     "data": {
      "application/javascript": [
       "\n",
       "            setTimeout(function() {\n",
       "                var nbb_cell_id = 131;\n",
       "                var nbb_unformatted_code = \"kn = KNeighborsClassifier()\\nkn.fit(x_train, y_train)\\n\\nevaluate(kn, x_test, y_test)\";\n",
       "                var nbb_formatted_code = \"kn = KNeighborsClassifier()\\nkn.fit(x_train, y_train)\\n\\nevaluate(kn, x_test, y_test)\";\n",
       "                var nbb_cells = Jupyter.notebook.get_cells();\n",
       "                for (var i = 0; i < nbb_cells.length; ++i) {\n",
       "                    if (nbb_cells[i].input_prompt_number == nbb_cell_id) {\n",
       "                        if (nbb_cells[i].get_text() == nbb_unformatted_code) {\n",
       "                             nbb_cells[i].set_text(nbb_formatted_code);\n",
       "                        }\n",
       "                        break;\n",
       "                    }\n",
       "                }\n",
       "            }, 500);\n",
       "            "
      ],
      "text/plain": [
       "<IPython.core.display.Javascript object>"
      ]
     },
     "metadata": {},
     "output_type": "display_data"
    }
   ],
   "source": [
    "kn = KNeighborsClassifier()\n",
    "kn.fit(x_train, y_train)\n",
    "\n",
    "evaluate(kn, x_test, y_test)"
   ]
  },
  {
   "cell_type": "markdown",
   "metadata": {},
   "source": [
    "## Conclusion"
   ]
  },
  {
   "cell_type": "markdown",
   "metadata": {},
   "source": [
    "With 40% of the dataset as the test set and 60% as the training set, most models perform well very well for identifying mushroom edibility. Accuracy is near 100% for these models."
   ]
  }
 ],
 "metadata": {
  "kernelspec": {
   "display_name": "Python 3",
   "language": "python",
   "name": "python3"
  },
  "language_info": {
   "codemirror_mode": {
    "name": "ipython",
    "version": 3
   },
   "file_extension": ".py",
   "mimetype": "text/x-python",
   "name": "python",
   "nbconvert_exporter": "python",
   "pygments_lexer": "ipython3",
   "version": "3.7.6"
  }
 },
 "nbformat": 4,
 "nbformat_minor": 4
}
