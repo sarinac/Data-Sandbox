{
 "cells": [
  {
   "cell_type": "markdown",
   "metadata": {},
   "source": [
    "# Titanic Predictions\n",
    "\n",
    "This dataset contains information on the passengers aboard the Titanic, and the goal is to predict which passengers survive.\n",
    "\n",
    "**Table of Contents**\n",
    "* [Cleaning](#clean)\n",
    "* [Exploring](#explore)\n",
    "* [Predicting](#predict)"
   ]
  },
  {
   "cell_type": "code",
   "execution_count": 1,
   "metadata": {},
   "outputs": [
    {
     "data": {
      "application/javascript": [
       "\n",
       "            setTimeout(function() {\n",
       "                var nbb_cell_id = 1;\n",
       "                var nbb_unformatted_code = \"# import packages\\nimport pandas as pd\\nimport numpy as np\\nimport re\\n\\n# visualization\\nimport seaborn as sns\\nimport matplotlib.pyplot as plt\\nfrom pandas.plotting import scatter_matrix\\n\\n%matplotlib inline\\n\\n%load_ext nb_black\";\n",
       "                var nbb_formatted_code = \"# import packages\\nimport pandas as pd\\nimport numpy as np\\nimport re\\n\\n# visualization\\nimport seaborn as sns\\nimport matplotlib.pyplot as plt\\nfrom pandas.plotting import scatter_matrix\\n\\n%matplotlib inline\\n\\n%load_ext nb_black\";\n",
       "                var nbb_cells = Jupyter.notebook.get_cells();\n",
       "                for (var i = 0; i < nbb_cells.length; ++i) {\n",
       "                    if (nbb_cells[i].input_prompt_number == nbb_cell_id) {\n",
       "                        if (nbb_cells[i].get_text() == nbb_unformatted_code) {\n",
       "                             nbb_cells[i].set_text(nbb_formatted_code);\n",
       "                        }\n",
       "                        break;\n",
       "                    }\n",
       "                }\n",
       "            }, 500);\n",
       "            "
      ],
      "text/plain": [
       "<IPython.core.display.Javascript object>"
      ]
     },
     "metadata": {},
     "output_type": "display_data"
    }
   ],
   "source": [
    "# import packages\n",
    "import pandas as pd\n",
    "import numpy as np\n",
    "import re\n",
    "\n",
    "# visualization\n",
    "import seaborn as sns\n",
    "import matplotlib.pyplot as plt\n",
    "from pandas.plotting import scatter_matrix\n",
    "\n",
    "%matplotlib inline\n",
    "\n",
    "%load_ext nb_black"
   ]
  },
  {
   "cell_type": "code",
   "execution_count": 2,
   "metadata": {},
   "outputs": [
    {
     "data": {
      "text/html": [
       "<div>\n",
       "<style scoped>\n",
       "    .dataframe tbody tr th:only-of-type {\n",
       "        vertical-align: middle;\n",
       "    }\n",
       "\n",
       "    .dataframe tbody tr th {\n",
       "        vertical-align: top;\n",
       "    }\n",
       "\n",
       "    .dataframe thead th {\n",
       "        text-align: right;\n",
       "    }\n",
       "</style>\n",
       "<table border=\"1\" class=\"dataframe\">\n",
       "  <thead>\n",
       "    <tr style=\"text-align: right;\">\n",
       "      <th></th>\n",
       "      <th>PassengerId</th>\n",
       "      <th>Survived</th>\n",
       "      <th>Pclass</th>\n",
       "      <th>Name</th>\n",
       "      <th>Sex</th>\n",
       "      <th>Age</th>\n",
       "      <th>SibSp</th>\n",
       "      <th>Parch</th>\n",
       "      <th>Ticket</th>\n",
       "      <th>Fare</th>\n",
       "      <th>Cabin</th>\n",
       "      <th>Embarked</th>\n",
       "    </tr>\n",
       "  </thead>\n",
       "  <tbody>\n",
       "    <tr>\n",
       "      <th>0</th>\n",
       "      <td>1</td>\n",
       "      <td>0</td>\n",
       "      <td>3</td>\n",
       "      <td>Braund, Mr. Owen Harris</td>\n",
       "      <td>male</td>\n",
       "      <td>22.0</td>\n",
       "      <td>1</td>\n",
       "      <td>0</td>\n",
       "      <td>A/5 21171</td>\n",
       "      <td>7.2500</td>\n",
       "      <td>NaN</td>\n",
       "      <td>S</td>\n",
       "    </tr>\n",
       "    <tr>\n",
       "      <th>1</th>\n",
       "      <td>2</td>\n",
       "      <td>1</td>\n",
       "      <td>1</td>\n",
       "      <td>Cumings, Mrs. John Bradley (Florence Briggs Th...</td>\n",
       "      <td>female</td>\n",
       "      <td>38.0</td>\n",
       "      <td>1</td>\n",
       "      <td>0</td>\n",
       "      <td>PC 17599</td>\n",
       "      <td>71.2833</td>\n",
       "      <td>C85</td>\n",
       "      <td>C</td>\n",
       "    </tr>\n",
       "  </tbody>\n",
       "</table>\n",
       "</div>"
      ],
      "text/plain": [
       "   PassengerId  Survived  Pclass  \\\n",
       "0            1         0       3   \n",
       "1            2         1       1   \n",
       "\n",
       "                                                Name     Sex   Age  SibSp  \\\n",
       "0                            Braund, Mr. Owen Harris    male  22.0      1   \n",
       "1  Cumings, Mrs. John Bradley (Florence Briggs Th...  female  38.0      1   \n",
       "\n",
       "   Parch     Ticket     Fare Cabin Embarked  \n",
       "0      0  A/5 21171   7.2500   NaN        S  \n",
       "1      0   PC 17599  71.2833   C85        C  "
      ]
     },
     "execution_count": 2,
     "metadata": {},
     "output_type": "execute_result"
    },
    {
     "data": {
      "application/javascript": [
       "\n",
       "            setTimeout(function() {\n",
       "                var nbb_cell_id = 2;\n",
       "                var nbb_unformatted_code = \"# load dataset\\ntrain_df = pd.read_csv(\\\"train.csv\\\")\\n\\ntrain_df.head(2)\";\n",
       "                var nbb_formatted_code = \"# load dataset\\ntrain_df = pd.read_csv(\\\"train.csv\\\")\\n\\ntrain_df.head(2)\";\n",
       "                var nbb_cells = Jupyter.notebook.get_cells();\n",
       "                for (var i = 0; i < nbb_cells.length; ++i) {\n",
       "                    if (nbb_cells[i].input_prompt_number == nbb_cell_id) {\n",
       "                        if (nbb_cells[i].get_text() == nbb_unformatted_code) {\n",
       "                             nbb_cells[i].set_text(nbb_formatted_code);\n",
       "                        }\n",
       "                        break;\n",
       "                    }\n",
       "                }\n",
       "            }, 500);\n",
       "            "
      ],
      "text/plain": [
       "<IPython.core.display.Javascript object>"
      ]
     },
     "metadata": {},
     "output_type": "display_data"
    }
   ],
   "source": [
    "# load dataset\n",
    "train_df = pd.read_csv(\"train.csv\")\n",
    "\n",
    "train_df.head(2)"
   ]
  },
  {
   "cell_type": "code",
   "execution_count": 3,
   "metadata": {},
   "outputs": [
    {
     "data": {
      "text/html": [
       "<div>\n",
       "<style scoped>\n",
       "    .dataframe tbody tr th:only-of-type {\n",
       "        vertical-align: middle;\n",
       "    }\n",
       "\n",
       "    .dataframe tbody tr th {\n",
       "        vertical-align: top;\n",
       "    }\n",
       "\n",
       "    .dataframe thead th {\n",
       "        text-align: right;\n",
       "    }\n",
       "</style>\n",
       "<table border=\"1\" class=\"dataframe\">\n",
       "  <thead>\n",
       "    <tr style=\"text-align: right;\">\n",
       "      <th></th>\n",
       "      <th>PassengerId</th>\n",
       "      <th>Pclass</th>\n",
       "      <th>Name</th>\n",
       "      <th>Sex</th>\n",
       "      <th>Age</th>\n",
       "      <th>SibSp</th>\n",
       "      <th>Parch</th>\n",
       "      <th>Ticket</th>\n",
       "      <th>Fare</th>\n",
       "      <th>Cabin</th>\n",
       "      <th>Embarked</th>\n",
       "    </tr>\n",
       "  </thead>\n",
       "  <tbody>\n",
       "    <tr>\n",
       "      <th>0</th>\n",
       "      <td>892</td>\n",
       "      <td>3</td>\n",
       "      <td>Kelly, Mr. James</td>\n",
       "      <td>male</td>\n",
       "      <td>34.5</td>\n",
       "      <td>0</td>\n",
       "      <td>0</td>\n",
       "      <td>330911</td>\n",
       "      <td>7.8292</td>\n",
       "      <td>NaN</td>\n",
       "      <td>Q</td>\n",
       "    </tr>\n",
       "    <tr>\n",
       "      <th>1</th>\n",
       "      <td>893</td>\n",
       "      <td>3</td>\n",
       "      <td>Wilkes, Mrs. James (Ellen Needs)</td>\n",
       "      <td>female</td>\n",
       "      <td>47.0</td>\n",
       "      <td>1</td>\n",
       "      <td>0</td>\n",
       "      <td>363272</td>\n",
       "      <td>7.0000</td>\n",
       "      <td>NaN</td>\n",
       "      <td>S</td>\n",
       "    </tr>\n",
       "  </tbody>\n",
       "</table>\n",
       "</div>"
      ],
      "text/plain": [
       "   PassengerId  Pclass                              Name     Sex   Age  SibSp  \\\n",
       "0          892       3                  Kelly, Mr. James    male  34.5      0   \n",
       "1          893       3  Wilkes, Mrs. James (Ellen Needs)  female  47.0      1   \n",
       "\n",
       "   Parch  Ticket    Fare Cabin Embarked  \n",
       "0      0  330911  7.8292   NaN        Q  \n",
       "1      0  363272  7.0000   NaN        S  "
      ]
     },
     "execution_count": 3,
     "metadata": {},
     "output_type": "execute_result"
    },
    {
     "data": {
      "application/javascript": [
       "\n",
       "            setTimeout(function() {\n",
       "                var nbb_cell_id = 3;\n",
       "                var nbb_unformatted_code = \"# load dataset\\ntest_df = pd.read_csv(\\\"test.csv\\\")\\n\\ntest_df.head(2)\";\n",
       "                var nbb_formatted_code = \"# load dataset\\ntest_df = pd.read_csv(\\\"test.csv\\\")\\n\\ntest_df.head(2)\";\n",
       "                var nbb_cells = Jupyter.notebook.get_cells();\n",
       "                for (var i = 0; i < nbb_cells.length; ++i) {\n",
       "                    if (nbb_cells[i].input_prompt_number == nbb_cell_id) {\n",
       "                        if (nbb_cells[i].get_text() == nbb_unformatted_code) {\n",
       "                             nbb_cells[i].set_text(nbb_formatted_code);\n",
       "                        }\n",
       "                        break;\n",
       "                    }\n",
       "                }\n",
       "            }, 500);\n",
       "            "
      ],
      "text/plain": [
       "<IPython.core.display.Javascript object>"
      ]
     },
     "metadata": {},
     "output_type": "display_data"
    }
   ],
   "source": [
    "# load dataset\n",
    "test_df = pd.read_csv(\"test.csv\")\n",
    "\n",
    "test_df.head(2)"
   ]
  },
  {
   "cell_type": "markdown",
   "metadata": {},
   "source": [
    "We are given 2 files:\n",
    "* `train.csv` contains training data and the result (`Survived`)\n",
    "* `test.csv` contains the test data on which to make predictions\n",
    "\n",
    "Both data files have some messy data, so we will need to clean both."
   ]
  },
  {
   "cell_type": "markdown",
   "metadata": {},
   "source": [
    "<a id=\"clean\"></a>\n",
    "## Cleaning data"
   ]
  },
  {
   "cell_type": "markdown",
   "metadata": {},
   "source": [
    "Explore the dataset to figure out what parts of the data need to be cleaned."
   ]
  },
  {
   "cell_type": "code",
   "execution_count": 4,
   "metadata": {
    "scrolled": true
   },
   "outputs": [
    {
     "name": "stdout",
     "output_type": "stream",
     "text": [
      "<class 'pandas.core.frame.DataFrame'>\n",
      "Int64Index: 1309 entries, 0 to 417\n",
      "Data columns (total 12 columns):\n",
      " #   Column       Non-Null Count  Dtype  \n",
      "---  ------       --------------  -----  \n",
      " 0   PassengerId  1309 non-null   int64  \n",
      " 1   Survived     891 non-null    float64\n",
      " 2   Pclass       1309 non-null   int64  \n",
      " 3   Name         1309 non-null   object \n",
      " 4   Sex          1309 non-null   object \n",
      " 5   Age          1046 non-null   float64\n",
      " 6   SibSp        1309 non-null   int64  \n",
      " 7   Parch        1309 non-null   int64  \n",
      " 8   Ticket       1309 non-null   object \n",
      " 9   Fare         1308 non-null   float64\n",
      " 10  Cabin        295 non-null    object \n",
      " 11  Embarked     1307 non-null   object \n",
      "dtypes: float64(3), int64(4), object(5)\n",
      "memory usage: 132.9+ KB\n"
     ]
    },
    {
     "data": {
      "application/javascript": [
       "\n",
       "            setTimeout(function() {\n",
       "                var nbb_cell_id = 4;\n",
       "                var nbb_unformatted_code = \"# Combine dataframe to see what data needs to be cleaned\\nconcat_df = pd.concat([train_df, test_df])\\n\\nconcat_df.info()\";\n",
       "                var nbb_formatted_code = \"# Combine dataframe to see what data needs to be cleaned\\nconcat_df = pd.concat([train_df, test_df])\\n\\nconcat_df.info()\";\n",
       "                var nbb_cells = Jupyter.notebook.get_cells();\n",
       "                for (var i = 0; i < nbb_cells.length; ++i) {\n",
       "                    if (nbb_cells[i].input_prompt_number == nbb_cell_id) {\n",
       "                        if (nbb_cells[i].get_text() == nbb_unformatted_code) {\n",
       "                             nbb_cells[i].set_text(nbb_formatted_code);\n",
       "                        }\n",
       "                        break;\n",
       "                    }\n",
       "                }\n",
       "            }, 500);\n",
       "            "
      ],
      "text/plain": [
       "<IPython.core.display.Javascript object>"
      ]
     },
     "metadata": {},
     "output_type": "display_data"
    }
   ],
   "source": [
    "# Combine dataframe to see what data needs to be cleaned\n",
    "concat_df = pd.concat([train_df, test_df])\n",
    "\n",
    "concat_df.info()"
   ]
  },
  {
   "cell_type": "markdown",
   "metadata": {},
   "source": [
    "* `Age` has missing values\n",
    "* `Cabin` has missing values\n",
    "* `Fare` has 1 missing value\n",
    "* `Embarked` has 2 missing values"
   ]
  },
  {
   "cell_type": "code",
   "execution_count": 5,
   "metadata": {},
   "outputs": [
    {
     "data": {
      "text/html": [
       "<div>\n",
       "<style scoped>\n",
       "    .dataframe tbody tr th:only-of-type {\n",
       "        vertical-align: middle;\n",
       "    }\n",
       "\n",
       "    .dataframe tbody tr th {\n",
       "        vertical-align: top;\n",
       "    }\n",
       "\n",
       "    .dataframe thead th {\n",
       "        text-align: right;\n",
       "    }\n",
       "</style>\n",
       "<table border=\"1\" class=\"dataframe\">\n",
       "  <thead>\n",
       "    <tr style=\"text-align: right;\">\n",
       "      <th></th>\n",
       "      <th>Survived</th>\n",
       "      <th>Pclass</th>\n",
       "      <th>Name</th>\n",
       "      <th>Sex</th>\n",
       "      <th>Age</th>\n",
       "      <th>SibSp</th>\n",
       "      <th>Parch</th>\n",
       "      <th>Ticket</th>\n",
       "      <th>Fare</th>\n",
       "      <th>Cabin</th>\n",
       "      <th>Embarked</th>\n",
       "    </tr>\n",
       "    <tr>\n",
       "      <th>PassengerId</th>\n",
       "      <th></th>\n",
       "      <th></th>\n",
       "      <th></th>\n",
       "      <th></th>\n",
       "      <th></th>\n",
       "      <th></th>\n",
       "      <th></th>\n",
       "      <th></th>\n",
       "      <th></th>\n",
       "      <th></th>\n",
       "      <th></th>\n",
       "    </tr>\n",
       "  </thead>\n",
       "  <tbody>\n",
       "    <tr>\n",
       "      <th>1</th>\n",
       "      <td>0.0</td>\n",
       "      <td>3</td>\n",
       "      <td>Braund, Mr. Owen Harris</td>\n",
       "      <td>male</td>\n",
       "      <td>22.0</td>\n",
       "      <td>1</td>\n",
       "      <td>0</td>\n",
       "      <td>A/5 21171</td>\n",
       "      <td>7.2500</td>\n",
       "      <td>NaN</td>\n",
       "      <td>S</td>\n",
       "    </tr>\n",
       "    <tr>\n",
       "      <th>2</th>\n",
       "      <td>1.0</td>\n",
       "      <td>1</td>\n",
       "      <td>Cumings, Mrs. John Bradley (Florence Briggs Th...</td>\n",
       "      <td>female</td>\n",
       "      <td>38.0</td>\n",
       "      <td>1</td>\n",
       "      <td>0</td>\n",
       "      <td>PC 17599</td>\n",
       "      <td>71.2833</td>\n",
       "      <td>C85</td>\n",
       "      <td>C</td>\n",
       "    </tr>\n",
       "    <tr>\n",
       "      <th>3</th>\n",
       "      <td>1.0</td>\n",
       "      <td>3</td>\n",
       "      <td>Heikkinen, Miss. Laina</td>\n",
       "      <td>female</td>\n",
       "      <td>26.0</td>\n",
       "      <td>0</td>\n",
       "      <td>0</td>\n",
       "      <td>STON/O2. 3101282</td>\n",
       "      <td>7.9250</td>\n",
       "      <td>NaN</td>\n",
       "      <td>S</td>\n",
       "    </tr>\n",
       "    <tr>\n",
       "      <th>4</th>\n",
       "      <td>1.0</td>\n",
       "      <td>1</td>\n",
       "      <td>Futrelle, Mrs. Jacques Heath (Lily May Peel)</td>\n",
       "      <td>female</td>\n",
       "      <td>35.0</td>\n",
       "      <td>1</td>\n",
       "      <td>0</td>\n",
       "      <td>113803</td>\n",
       "      <td>53.1000</td>\n",
       "      <td>C123</td>\n",
       "      <td>S</td>\n",
       "    </tr>\n",
       "    <tr>\n",
       "      <th>5</th>\n",
       "      <td>0.0</td>\n",
       "      <td>3</td>\n",
       "      <td>Allen, Mr. William Henry</td>\n",
       "      <td>male</td>\n",
       "      <td>35.0</td>\n",
       "      <td>0</td>\n",
       "      <td>0</td>\n",
       "      <td>373450</td>\n",
       "      <td>8.0500</td>\n",
       "      <td>NaN</td>\n",
       "      <td>S</td>\n",
       "    </tr>\n",
       "  </tbody>\n",
       "</table>\n",
       "</div>"
      ],
      "text/plain": [
       "             Survived  Pclass  \\\n",
       "PassengerId                     \n",
       "1                 0.0       3   \n",
       "2                 1.0       1   \n",
       "3                 1.0       3   \n",
       "4                 1.0       1   \n",
       "5                 0.0       3   \n",
       "\n",
       "                                                          Name     Sex   Age  \\\n",
       "PassengerId                                                                    \n",
       "1                                      Braund, Mr. Owen Harris    male  22.0   \n",
       "2            Cumings, Mrs. John Bradley (Florence Briggs Th...  female  38.0   \n",
       "3                                       Heikkinen, Miss. Laina  female  26.0   \n",
       "4                 Futrelle, Mrs. Jacques Heath (Lily May Peel)  female  35.0   \n",
       "5                                     Allen, Mr. William Henry    male  35.0   \n",
       "\n",
       "             SibSp  Parch            Ticket     Fare Cabin Embarked  \n",
       "PassengerId                                                          \n",
       "1                1      0         A/5 21171   7.2500   NaN        S  \n",
       "2                1      0          PC 17599  71.2833   C85        C  \n",
       "3                0      0  STON/O2. 3101282   7.9250   NaN        S  \n",
       "4                1      0            113803  53.1000  C123        S  \n",
       "5                0      0            373450   8.0500   NaN        S  "
      ]
     },
     "execution_count": 5,
     "metadata": {},
     "output_type": "execute_result"
    },
    {
     "data": {
      "application/javascript": [
       "\n",
       "            setTimeout(function() {\n",
       "                var nbb_cell_id = 5;\n",
       "                var nbb_unformatted_code = \"concat_df = concat_df.set_index(\\\"PassengerId\\\").sort_index()\\nconcat_df.head()\";\n",
       "                var nbb_formatted_code = \"concat_df = concat_df.set_index(\\\"PassengerId\\\").sort_index()\\nconcat_df.head()\";\n",
       "                var nbb_cells = Jupyter.notebook.get_cells();\n",
       "                for (var i = 0; i < nbb_cells.length; ++i) {\n",
       "                    if (nbb_cells[i].input_prompt_number == nbb_cell_id) {\n",
       "                        if (nbb_cells[i].get_text() == nbb_unformatted_code) {\n",
       "                             nbb_cells[i].set_text(nbb_formatted_code);\n",
       "                        }\n",
       "                        break;\n",
       "                    }\n",
       "                }\n",
       "            }, 500);\n",
       "            "
      ],
      "text/plain": [
       "<IPython.core.display.Javascript object>"
      ]
     },
     "metadata": {},
     "output_type": "display_data"
    }
   ],
   "source": [
    "concat_df = concat_df.set_index(\"PassengerId\").sort_index()\n",
    "concat_df.head()"
   ]
  },
  {
   "cell_type": "markdown",
   "metadata": {},
   "source": [
    "* `Name` can be split out by `title`, `first_name`, and `last_name`\n",
    "  * `last_name` comes first before the comma\n",
    "  * `title` comes right after the comma\n",
    "  * `nickname` is in parenthesis (not sure what this other name is)\n",
    "* `Cabin` can be split somehow\n",
    "* `Ticket` can be split somehow"
   ]
  },
  {
   "cell_type": "code",
   "execution_count": 6,
   "metadata": {},
   "outputs": [
    {
     "data": {
      "text/html": [
       "<div>\n",
       "<style scoped>\n",
       "    .dataframe tbody tr th:only-of-type {\n",
       "        vertical-align: middle;\n",
       "    }\n",
       "\n",
       "    .dataframe tbody tr th {\n",
       "        vertical-align: top;\n",
       "    }\n",
       "\n",
       "    .dataframe thead th {\n",
       "        text-align: right;\n",
       "    }\n",
       "</style>\n",
       "<table border=\"1\" class=\"dataframe\">\n",
       "  <thead>\n",
       "    <tr style=\"text-align: right;\">\n",
       "      <th></th>\n",
       "      <th>Survived</th>\n",
       "      <th>Pclass</th>\n",
       "      <th>Age</th>\n",
       "      <th>SibSp</th>\n",
       "      <th>Parch</th>\n",
       "      <th>Fare</th>\n",
       "    </tr>\n",
       "  </thead>\n",
       "  <tbody>\n",
       "    <tr>\n",
       "      <th>count</th>\n",
       "      <td>891.000000</td>\n",
       "      <td>1309.000000</td>\n",
       "      <td>1046.000000</td>\n",
       "      <td>1309.000000</td>\n",
       "      <td>1309.000000</td>\n",
       "      <td>1308.000000</td>\n",
       "    </tr>\n",
       "    <tr>\n",
       "      <th>mean</th>\n",
       "      <td>0.383838</td>\n",
       "      <td>2.294882</td>\n",
       "      <td>29.881138</td>\n",
       "      <td>0.498854</td>\n",
       "      <td>0.385027</td>\n",
       "      <td>33.295479</td>\n",
       "    </tr>\n",
       "    <tr>\n",
       "      <th>std</th>\n",
       "      <td>0.486592</td>\n",
       "      <td>0.837836</td>\n",
       "      <td>14.413493</td>\n",
       "      <td>1.041658</td>\n",
       "      <td>0.865560</td>\n",
       "      <td>51.758668</td>\n",
       "    </tr>\n",
       "    <tr>\n",
       "      <th>min</th>\n",
       "      <td>0.000000</td>\n",
       "      <td>1.000000</td>\n",
       "      <td>0.170000</td>\n",
       "      <td>0.000000</td>\n",
       "      <td>0.000000</td>\n",
       "      <td>0.000000</td>\n",
       "    </tr>\n",
       "    <tr>\n",
       "      <th>25%</th>\n",
       "      <td>0.000000</td>\n",
       "      <td>2.000000</td>\n",
       "      <td>21.000000</td>\n",
       "      <td>0.000000</td>\n",
       "      <td>0.000000</td>\n",
       "      <td>7.895800</td>\n",
       "    </tr>\n",
       "    <tr>\n",
       "      <th>50%</th>\n",
       "      <td>0.000000</td>\n",
       "      <td>3.000000</td>\n",
       "      <td>28.000000</td>\n",
       "      <td>0.000000</td>\n",
       "      <td>0.000000</td>\n",
       "      <td>14.454200</td>\n",
       "    </tr>\n",
       "    <tr>\n",
       "      <th>75%</th>\n",
       "      <td>1.000000</td>\n",
       "      <td>3.000000</td>\n",
       "      <td>39.000000</td>\n",
       "      <td>1.000000</td>\n",
       "      <td>0.000000</td>\n",
       "      <td>31.275000</td>\n",
       "    </tr>\n",
       "    <tr>\n",
       "      <th>max</th>\n",
       "      <td>1.000000</td>\n",
       "      <td>3.000000</td>\n",
       "      <td>80.000000</td>\n",
       "      <td>8.000000</td>\n",
       "      <td>9.000000</td>\n",
       "      <td>512.329200</td>\n",
       "    </tr>\n",
       "  </tbody>\n",
       "</table>\n",
       "</div>"
      ],
      "text/plain": [
       "         Survived       Pclass          Age        SibSp        Parch  \\\n",
       "count  891.000000  1309.000000  1046.000000  1309.000000  1309.000000   \n",
       "mean     0.383838     2.294882    29.881138     0.498854     0.385027   \n",
       "std      0.486592     0.837836    14.413493     1.041658     0.865560   \n",
       "min      0.000000     1.000000     0.170000     0.000000     0.000000   \n",
       "25%      0.000000     2.000000    21.000000     0.000000     0.000000   \n",
       "50%      0.000000     3.000000    28.000000     0.000000     0.000000   \n",
       "75%      1.000000     3.000000    39.000000     1.000000     0.000000   \n",
       "max      1.000000     3.000000    80.000000     8.000000     9.000000   \n",
       "\n",
       "              Fare  \n",
       "count  1308.000000  \n",
       "mean     33.295479  \n",
       "std      51.758668  \n",
       "min       0.000000  \n",
       "25%       7.895800  \n",
       "50%      14.454200  \n",
       "75%      31.275000  \n",
       "max     512.329200  "
      ]
     },
     "execution_count": 6,
     "metadata": {},
     "output_type": "execute_result"
    },
    {
     "data": {
      "application/javascript": [
       "\n",
       "            setTimeout(function() {\n",
       "                var nbb_cell_id = 6;\n",
       "                var nbb_unformatted_code = \"concat_df.describe()\";\n",
       "                var nbb_formatted_code = \"concat_df.describe()\";\n",
       "                var nbb_cells = Jupyter.notebook.get_cells();\n",
       "                for (var i = 0; i < nbb_cells.length; ++i) {\n",
       "                    if (nbb_cells[i].input_prompt_number == nbb_cell_id) {\n",
       "                        if (nbb_cells[i].get_text() == nbb_unformatted_code) {\n",
       "                             nbb_cells[i].set_text(nbb_formatted_code);\n",
       "                        }\n",
       "                        break;\n",
       "                    }\n",
       "                }\n",
       "            }, 500);\n",
       "            "
      ],
      "text/plain": [
       "<IPython.core.display.Javascript object>"
      ]
     },
     "metadata": {},
     "output_type": "display_data"
    }
   ],
   "source": [
    "concat_df.describe()"
   ]
  },
  {
   "cell_type": "markdown",
   "metadata": {},
   "source": [
    "* Survival rate is 38%\n",
    "* Average `Age` is 30, and the distribution is slightly skewed left\n",
    "* Most passengers have at most 1 sibling/spouse\n",
    "* Most passengers do not have a parent/child onboard\n",
    "* `Fare` is suspiciously skewed right (max of \\$512 seems too high for 1 passenger)"
   ]
  },
  {
   "cell_type": "markdown",
   "metadata": {},
   "source": [
    "#### Extract names"
   ]
  },
  {
   "cell_type": "code",
   "execution_count": 7,
   "metadata": {},
   "outputs": [
    {
     "data": {
      "text/html": [
       "<div>\n",
       "<style scoped>\n",
       "    .dataframe tbody tr th:only-of-type {\n",
       "        vertical-align: middle;\n",
       "    }\n",
       "\n",
       "    .dataframe tbody tr th {\n",
       "        vertical-align: top;\n",
       "    }\n",
       "\n",
       "    .dataframe thead th {\n",
       "        text-align: right;\n",
       "    }\n",
       "</style>\n",
       "<table border=\"1\" class=\"dataframe\">\n",
       "  <thead>\n",
       "    <tr style=\"text-align: right;\">\n",
       "      <th></th>\n",
       "      <th>survived</th>\n",
       "      <th>pclass</th>\n",
       "      <th>name</th>\n",
       "      <th>sex</th>\n",
       "      <th>age</th>\n",
       "      <th>sibsp</th>\n",
       "      <th>parch</th>\n",
       "      <th>ticket</th>\n",
       "      <th>fare</th>\n",
       "      <th>cabin</th>\n",
       "      <th>embarked</th>\n",
       "    </tr>\n",
       "    <tr>\n",
       "      <th>PassengerId</th>\n",
       "      <th></th>\n",
       "      <th></th>\n",
       "      <th></th>\n",
       "      <th></th>\n",
       "      <th></th>\n",
       "      <th></th>\n",
       "      <th></th>\n",
       "      <th></th>\n",
       "      <th></th>\n",
       "      <th></th>\n",
       "      <th></th>\n",
       "    </tr>\n",
       "  </thead>\n",
       "  <tbody>\n",
       "    <tr>\n",
       "      <th>1309</th>\n",
       "      <td>NaN</td>\n",
       "      <td>3</td>\n",
       "      <td>Peter, Master. Michael J</td>\n",
       "      <td>male</td>\n",
       "      <td>NaN</td>\n",
       "      <td>1</td>\n",
       "      <td>1</td>\n",
       "      <td>2668</td>\n",
       "      <td>22.3583</td>\n",
       "      <td>NaN</td>\n",
       "      <td>C</td>\n",
       "    </tr>\n",
       "  </tbody>\n",
       "</table>\n",
       "</div>"
      ],
      "text/plain": [
       "             survived  pclass                      name   sex  age  sibsp  \\\n",
       "PassengerId                                                                 \n",
       "1309              NaN       3  Peter, Master. Michael J  male  NaN      1   \n",
       "\n",
       "             parch ticket     fare cabin embarked  \n",
       "PassengerId                                        \n",
       "1309             1   2668  22.3583   NaN        C  "
      ]
     },
     "execution_count": 7,
     "metadata": {},
     "output_type": "execute_result"
    },
    {
     "data": {
      "application/javascript": [
       "\n",
       "            setTimeout(function() {\n",
       "                var nbb_cell_id = 7;\n",
       "                var nbb_unformatted_code = \"# Make column names lower case\\nconcat_df.rename(columns=lambda x: x.lower(), inplace=True)\\n\\nconcat_df.tail(1)\";\n",
       "                var nbb_formatted_code = \"# Make column names lower case\\nconcat_df.rename(columns=lambda x: x.lower(), inplace=True)\\n\\nconcat_df.tail(1)\";\n",
       "                var nbb_cells = Jupyter.notebook.get_cells();\n",
       "                for (var i = 0; i < nbb_cells.length; ++i) {\n",
       "                    if (nbb_cells[i].input_prompt_number == nbb_cell_id) {\n",
       "                        if (nbb_cells[i].get_text() == nbb_unformatted_code) {\n",
       "                             nbb_cells[i].set_text(nbb_formatted_code);\n",
       "                        }\n",
       "                        break;\n",
       "                    }\n",
       "                }\n",
       "            }, 500);\n",
       "            "
      ],
      "text/plain": [
       "<IPython.core.display.Javascript object>"
      ]
     },
     "metadata": {},
     "output_type": "display_data"
    }
   ],
   "source": [
    "# Make column names lower case\n",
    "concat_df.rename(columns=lambda x: x.lower(), inplace=True)\n",
    "\n",
    "concat_df.tail(1)"
   ]
  },
  {
   "cell_type": "code",
   "execution_count": 8,
   "metadata": {
    "scrolled": false
   },
   "outputs": [
    {
     "data": {
      "text/html": [
       "<div>\n",
       "<style scoped>\n",
       "    .dataframe tbody tr th:only-of-type {\n",
       "        vertical-align: middle;\n",
       "    }\n",
       "\n",
       "    .dataframe tbody tr th {\n",
       "        vertical-align: top;\n",
       "    }\n",
       "\n",
       "    .dataframe thead th {\n",
       "        text-align: right;\n",
       "    }\n",
       "</style>\n",
       "<table border=\"1\" class=\"dataframe\">\n",
       "  <thead>\n",
       "    <tr style=\"text-align: right;\">\n",
       "      <th></th>\n",
       "      <th>survived</th>\n",
       "      <th>pclass</th>\n",
       "      <th>name</th>\n",
       "      <th>sex</th>\n",
       "      <th>age</th>\n",
       "      <th>sibsp</th>\n",
       "      <th>parch</th>\n",
       "      <th>ticket</th>\n",
       "      <th>fare</th>\n",
       "      <th>cabin</th>\n",
       "      <th>embarked</th>\n",
       "      <th>last_name</th>\n",
       "    </tr>\n",
       "    <tr>\n",
       "      <th>PassengerId</th>\n",
       "      <th></th>\n",
       "      <th></th>\n",
       "      <th></th>\n",
       "      <th></th>\n",
       "      <th></th>\n",
       "      <th></th>\n",
       "      <th></th>\n",
       "      <th></th>\n",
       "      <th></th>\n",
       "      <th></th>\n",
       "      <th></th>\n",
       "      <th></th>\n",
       "    </tr>\n",
       "  </thead>\n",
       "  <tbody>\n",
       "  </tbody>\n",
       "</table>\n",
       "</div>"
      ],
      "text/plain": [
       "Empty DataFrame\n",
       "Columns: [survived, pclass, name, sex, age, sibsp, parch, ticket, fare, cabin, embarked, last_name]\n",
       "Index: []"
      ]
     },
     "execution_count": 8,
     "metadata": {},
     "output_type": "execute_result"
    },
    {
     "data": {
      "application/javascript": [
       "\n",
       "            setTimeout(function() {\n",
       "                var nbb_cell_id = 8;\n",
       "                var nbb_unformatted_code = \"# Extract last_name from name\\nconcat_df[\\\"last_name\\\"] = concat_df.name.apply(lambda x: x.split(\\\",\\\")[0])\\n\\n# Check for records without a last name\\nconcat_df[concat_df.last_name.isna()]\";\n",
       "                var nbb_formatted_code = \"# Extract last_name from name\\nconcat_df[\\\"last_name\\\"] = concat_df.name.apply(lambda x: x.split(\\\",\\\")[0])\\n\\n# Check for records without a last name\\nconcat_df[concat_df.last_name.isna()]\";\n",
       "                var nbb_cells = Jupyter.notebook.get_cells();\n",
       "                for (var i = 0; i < nbb_cells.length; ++i) {\n",
       "                    if (nbb_cells[i].input_prompt_number == nbb_cell_id) {\n",
       "                        if (nbb_cells[i].get_text() == nbb_unformatted_code) {\n",
       "                             nbb_cells[i].set_text(nbb_formatted_code);\n",
       "                        }\n",
       "                        break;\n",
       "                    }\n",
       "                }\n",
       "            }, 500);\n",
       "            "
      ],
      "text/plain": [
       "<IPython.core.display.Javascript object>"
      ]
     },
     "metadata": {},
     "output_type": "display_data"
    }
   ],
   "source": [
    "# Extract last_name from name\n",
    "concat_df[\"last_name\"] = concat_df.name.apply(lambda x: x.split(\",\")[0])\n",
    "\n",
    "# Check for records without a last name\n",
    "concat_df[concat_df.last_name.isna()]"
   ]
  },
  {
   "cell_type": "code",
   "execution_count": 9,
   "metadata": {},
   "outputs": [
    {
     "name": "stdout",
     "output_type": "stream",
     "text": [
      "['Mr.' 'Mrs.' 'Miss.' 'Master.' 'Don.' 'Rev.' 'Dr.' 'Mme.' 'Ms.' 'Major.'\n",
      " 'Lady.' 'Sir.' 'Mlle.' 'Col.' 'Capt.' 'the' 'Jonkheer.' 'Dona.']\n"
     ]
    },
    {
     "data": {
      "text/html": [
       "<div>\n",
       "<style scoped>\n",
       "    .dataframe tbody tr th:only-of-type {\n",
       "        vertical-align: middle;\n",
       "    }\n",
       "\n",
       "    .dataframe tbody tr th {\n",
       "        vertical-align: top;\n",
       "    }\n",
       "\n",
       "    .dataframe thead th {\n",
       "        text-align: right;\n",
       "    }\n",
       "</style>\n",
       "<table border=\"1\" class=\"dataframe\">\n",
       "  <thead>\n",
       "    <tr style=\"text-align: right;\">\n",
       "      <th></th>\n",
       "      <th>survived</th>\n",
       "      <th>pclass</th>\n",
       "      <th>name</th>\n",
       "      <th>sex</th>\n",
       "      <th>age</th>\n",
       "      <th>sibsp</th>\n",
       "      <th>parch</th>\n",
       "      <th>ticket</th>\n",
       "      <th>fare</th>\n",
       "      <th>cabin</th>\n",
       "      <th>embarked</th>\n",
       "      <th>last_name</th>\n",
       "      <th>title</th>\n",
       "    </tr>\n",
       "    <tr>\n",
       "      <th>PassengerId</th>\n",
       "      <th></th>\n",
       "      <th></th>\n",
       "      <th></th>\n",
       "      <th></th>\n",
       "      <th></th>\n",
       "      <th></th>\n",
       "      <th></th>\n",
       "      <th></th>\n",
       "      <th></th>\n",
       "      <th></th>\n",
       "      <th></th>\n",
       "      <th></th>\n",
       "      <th></th>\n",
       "    </tr>\n",
       "  </thead>\n",
       "  <tbody>\n",
       "  </tbody>\n",
       "</table>\n",
       "</div>"
      ],
      "text/plain": [
       "Empty DataFrame\n",
       "Columns: [survived, pclass, name, sex, age, sibsp, parch, ticket, fare, cabin, embarked, last_name, title]\n",
       "Index: []"
      ]
     },
     "execution_count": 9,
     "metadata": {},
     "output_type": "execute_result"
    },
    {
     "data": {
      "application/javascript": [
       "\n",
       "            setTimeout(function() {\n",
       "                var nbb_cell_id = 9;\n",
       "                var nbb_unformatted_code = \"# Extract title from name\\nconcat_df[\\\"title\\\"] = concat_df.name.apply(lambda x: x.split(\\\",\\\")[1].split()[0])\\n\\n# Print all unique titles\\nprint(concat_df.title.unique())\\n\\n# Check for records without a title\\nconcat_df[concat_df.title.isna()]\";\n",
       "                var nbb_formatted_code = \"# Extract title from name\\nconcat_df[\\\"title\\\"] = concat_df.name.apply(lambda x: x.split(\\\",\\\")[1].split()[0])\\n\\n# Print all unique titles\\nprint(concat_df.title.unique())\\n\\n# Check for records without a title\\nconcat_df[concat_df.title.isna()]\";\n",
       "                var nbb_cells = Jupyter.notebook.get_cells();\n",
       "                for (var i = 0; i < nbb_cells.length; ++i) {\n",
       "                    if (nbb_cells[i].input_prompt_number == nbb_cell_id) {\n",
       "                        if (nbb_cells[i].get_text() == nbb_unformatted_code) {\n",
       "                             nbb_cells[i].set_text(nbb_formatted_code);\n",
       "                        }\n",
       "                        break;\n",
       "                    }\n",
       "                }\n",
       "            }, 500);\n",
       "            "
      ],
      "text/plain": [
       "<IPython.core.display.Javascript object>"
      ]
     },
     "metadata": {},
     "output_type": "display_data"
    }
   ],
   "source": [
    "# Extract title from name\n",
    "concat_df[\"title\"] = concat_df.name.apply(lambda x: x.split(\",\")[1].split()[0])\n",
    "\n",
    "# Print all unique titles\n",
    "print(concat_df.title.unique())\n",
    "\n",
    "# Check for records without a title\n",
    "concat_df[concat_df.title.isna()]"
   ]
  },
  {
   "cell_type": "code",
   "execution_count": 10,
   "metadata": {},
   "outputs": [
    {
     "data": {
      "text/plain": [
       "title\n",
       "Mr.          517\n",
       "Miss.        182\n",
       "Mrs.         125\n",
       "Master.       40\n",
       "Dr.            7\n",
       "Rev.           6\n",
       "Col.           2\n",
       "Mlle.          2\n",
       "Major.         2\n",
       "Jonkheer.      1\n",
       "Don.           1\n",
       "the            1\n",
       "Lady.          1\n",
       "Sir.           1\n",
       "Mme.           1\n",
       "Ms.            1\n",
       "Capt.          1\n",
       "Dona.          0\n",
       "Name: survived, dtype: int64"
      ]
     },
     "execution_count": 10,
     "metadata": {},
     "output_type": "execute_result"
    },
    {
     "data": {
      "application/javascript": [
       "\n",
       "            setTimeout(function() {\n",
       "                var nbb_cell_id = 10;\n",
       "                var nbb_unformatted_code = \"# Check counts for each title\\nconcat_df.groupby(\\\"title\\\").count().iloc[:, 0].sort_values(ascending=False)\";\n",
       "                var nbb_formatted_code = \"# Check counts for each title\\nconcat_df.groupby(\\\"title\\\").count().iloc[:, 0].sort_values(ascending=False)\";\n",
       "                var nbb_cells = Jupyter.notebook.get_cells();\n",
       "                for (var i = 0; i < nbb_cells.length; ++i) {\n",
       "                    if (nbb_cells[i].input_prompt_number == nbb_cell_id) {\n",
       "                        if (nbb_cells[i].get_text() == nbb_unformatted_code) {\n",
       "                             nbb_cells[i].set_text(nbb_formatted_code);\n",
       "                        }\n",
       "                        break;\n",
       "                    }\n",
       "                }\n",
       "            }, 500);\n",
       "            "
      ],
      "text/plain": [
       "<IPython.core.display.Javascript object>"
      ]
     },
     "metadata": {},
     "output_type": "display_data"
    }
   ],
   "source": [
    "# Check counts for each title\n",
    "concat_df.groupby(\"title\").count().iloc[:, 0].sort_values(ascending=False)"
   ]
  },
  {
   "cell_type": "code",
   "execution_count": 11,
   "metadata": {
    "scrolled": false
   },
   "outputs": [
    {
     "data": {
      "image/png": "[encoded data removed]",
      "text/plain": [
       "<Figure size 720x288 with 8 Axes>"
      ]
     },
     "metadata": {
      "needs_background": "light"
     },
     "output_type": "display_data"
    },
    {
     "data": {
      "application/javascript": [
       "\n",
       "            setTimeout(function() {\n",
       "                var nbb_cell_id = 11;\n",
       "                var nbb_unformatted_code = \"# Compare against the popular titles (by sex, age)\\ngreater_titles = (\\n    concat_df.groupby(\\\"title\\\").count().iloc[:, 0].sort_values(ascending=False).index[:4]\\n)\\n\\ncolumns = [\\\"sex\\\", \\\"age\\\"]\\nfig, axes = plt.subplots(2, 4, figsize=[10, 4])\\n\\nfor index, title in enumerate(greater_titles):\\n\\n    # Filter to title\\n    p1 = concat_df[concat_df.title == title]\\n\\n    for i, c in enumerate(columns):\\n\\n        ax = axes[i, index]\\n\\n        # Filter out missing values\\n        p2 = p1[~p1[c].isna()]\\n\\n        # Count by dimension\\n        p2 = p2.groupby(c).count().iloc[:, 0].reset_index()\\n        p2.columns = [c, \\\"counts\\\"]\\n\\n        ax.bar(x=p2[c], height=p2.counts)\\n        ax.set_title(f\\\"{title} - {c}\\\")\\n\\nfig.tight_layout()\";\n",
       "                var nbb_formatted_code = \"# Compare against the popular titles (by sex, age)\\ngreater_titles = (\\n    concat_df.groupby(\\\"title\\\").count().iloc[:, 0].sort_values(ascending=False).index[:4]\\n)\\n\\ncolumns = [\\\"sex\\\", \\\"age\\\"]\\nfig, axes = plt.subplots(2, 4, figsize=[10, 4])\\n\\nfor index, title in enumerate(greater_titles):\\n\\n    # Filter to title\\n    p1 = concat_df[concat_df.title == title]\\n\\n    for i, c in enumerate(columns):\\n\\n        ax = axes[i, index]\\n\\n        # Filter out missing values\\n        p2 = p1[~p1[c].isna()]\\n\\n        # Count by dimension\\n        p2 = p2.groupby(c).count().iloc[:, 0].reset_index()\\n        p2.columns = [c, \\\"counts\\\"]\\n\\n        ax.bar(x=p2[c], height=p2.counts)\\n        ax.set_title(f\\\"{title} - {c}\\\")\\n\\nfig.tight_layout()\";\n",
       "                var nbb_cells = Jupyter.notebook.get_cells();\n",
       "                for (var i = 0; i < nbb_cells.length; ++i) {\n",
       "                    if (nbb_cells[i].input_prompt_number == nbb_cell_id) {\n",
       "                        if (nbb_cells[i].get_text() == nbb_unformatted_code) {\n",
       "                             nbb_cells[i].set_text(nbb_formatted_code);\n",
       "                        }\n",
       "                        break;\n",
       "                    }\n",
       "                }\n",
       "            }, 500);\n",
       "            "
      ],
      "text/plain": [
       "<IPython.core.display.Javascript object>"
      ]
     },
     "metadata": {},
     "output_type": "display_data"
    }
   ],
   "source": [
    "# Compare against the popular titles (by sex, age)\n",
    "greater_titles = (\n",
    "    concat_df.groupby(\"title\").count().iloc[:, 0].sort_values(ascending=False).index[:4]\n",
    ")\n",
    "\n",
    "columns = [\"sex\", \"age\"]\n",
    "fig, axes = plt.subplots(2, 4, figsize=[10, 4])\n",
    "\n",
    "for index, title in enumerate(greater_titles):\n",
    "\n",
    "    # Filter to title\n",
    "    p1 = concat_df[concat_df.title == title]\n",
    "\n",
    "    for i, c in enumerate(columns):\n",
    "\n",
    "        ax = axes[i, index]\n",
    "\n",
    "        # Filter out missing values\n",
    "        p2 = p1[~p1[c].isna()]\n",
    "\n",
    "        # Count by dimension\n",
    "        p2 = p2.groupby(c).count().iloc[:, 0].reset_index()\n",
    "        p2.columns = [c, \"counts\"]\n",
    "\n",
    "        ax.bar(x=p2[c], height=p2.counts)\n",
    "        ax.set_title(f\"{title} - {c}\")\n",
    "\n",
    "fig.tight_layout()"
   ]
  },
  {
   "cell_type": "markdown",
   "metadata": {},
   "source": [
    "* Mr. is male of all ages (mostly 20-30s).\n",
    "* Master. is young male (under 15 years old).\n",
    "* Mrs. is female of all ages. Avg age is above 20.\n",
    "* Miss. is (unmarried) female of all ages but mostly under 40. Avg age is 20."
   ]
  },
  {
   "cell_type": "code",
   "execution_count": 12,
   "metadata": {},
   "outputs": [
    {
     "data": {
      "text/html": [
       "<div>\n",
       "<style scoped>\n",
       "    .dataframe tbody tr th:only-of-type {\n",
       "        vertical-align: middle;\n",
       "    }\n",
       "\n",
       "    .dataframe tbody tr th {\n",
       "        vertical-align: top;\n",
       "    }\n",
       "\n",
       "    .dataframe thead th {\n",
       "        text-align: right;\n",
       "    }\n",
       "</style>\n",
       "<table border=\"1\" class=\"dataframe\">\n",
       "  <thead>\n",
       "    <tr style=\"text-align: right;\">\n",
       "      <th></th>\n",
       "      <th>survived</th>\n",
       "      <th>pclass</th>\n",
       "      <th>name</th>\n",
       "      <th>sex</th>\n",
       "      <th>age</th>\n",
       "      <th>sibsp</th>\n",
       "      <th>parch</th>\n",
       "      <th>ticket</th>\n",
       "      <th>fare</th>\n",
       "      <th>cabin</th>\n",
       "      <th>embarked</th>\n",
       "      <th>last_name</th>\n",
       "      <th>title</th>\n",
       "    </tr>\n",
       "    <tr>\n",
       "      <th>PassengerId</th>\n",
       "      <th></th>\n",
       "      <th></th>\n",
       "      <th></th>\n",
       "      <th></th>\n",
       "      <th></th>\n",
       "      <th></th>\n",
       "      <th></th>\n",
       "      <th></th>\n",
       "      <th></th>\n",
       "      <th></th>\n",
       "      <th></th>\n",
       "      <th></th>\n",
       "      <th></th>\n",
       "    </tr>\n",
       "  </thead>\n",
       "  <tbody>\n",
       "    <tr>\n",
       "      <th>746</th>\n",
       "      <td>0.0</td>\n",
       "      <td>1</td>\n",
       "      <td>Crosby, Capt. Edward Gifford</td>\n",
       "      <td>male</td>\n",
       "      <td>70.0</td>\n",
       "      <td>1</td>\n",
       "      <td>1</td>\n",
       "      <td>WE/P 5735</td>\n",
       "      <td>71.0000</td>\n",
       "      <td>B22</td>\n",
       "      <td>S</td>\n",
       "      <td>Crosby</td>\n",
       "      <td>Capt.</td>\n",
       "    </tr>\n",
       "    <tr>\n",
       "      <th>648</th>\n",
       "      <td>1.0</td>\n",
       "      <td>1</td>\n",
       "      <td>Simonius-Blumer, Col. Oberst Alfons</td>\n",
       "      <td>male</td>\n",
       "      <td>56.0</td>\n",
       "      <td>0</td>\n",
       "      <td>0</td>\n",
       "      <td>13213</td>\n",
       "      <td>35.5000</td>\n",
       "      <td>A26</td>\n",
       "      <td>C</td>\n",
       "      <td>Simonius-Blumer</td>\n",
       "      <td>Col.</td>\n",
       "    </tr>\n",
       "    <tr>\n",
       "      <th>1094</th>\n",
       "      <td>NaN</td>\n",
       "      <td>1</td>\n",
       "      <td>Astor, Col. John Jacob</td>\n",
       "      <td>male</td>\n",
       "      <td>47.0</td>\n",
       "      <td>1</td>\n",
       "      <td>0</td>\n",
       "      <td>PC 17757</td>\n",
       "      <td>227.5250</td>\n",
       "      <td>C62 C64</td>\n",
       "      <td>C</td>\n",
       "      <td>Astor</td>\n",
       "      <td>Col.</td>\n",
       "    </tr>\n",
       "    <tr>\n",
       "      <th>1023</th>\n",
       "      <td>NaN</td>\n",
       "      <td>1</td>\n",
       "      <td>Gracie, Col. Archibald IV</td>\n",
       "      <td>male</td>\n",
       "      <td>53.0</td>\n",
       "      <td>0</td>\n",
       "      <td>0</td>\n",
       "      <td>113780</td>\n",
       "      <td>28.5000</td>\n",
       "      <td>C51</td>\n",
       "      <td>C</td>\n",
       "      <td>Gracie</td>\n",
       "      <td>Col.</td>\n",
       "    </tr>\n",
       "    <tr>\n",
       "      <th>695</th>\n",
       "      <td>0.0</td>\n",
       "      <td>1</td>\n",
       "      <td>Weir, Col. John</td>\n",
       "      <td>male</td>\n",
       "      <td>60.0</td>\n",
       "      <td>0</td>\n",
       "      <td>0</td>\n",
       "      <td>113800</td>\n",
       "      <td>26.5500</td>\n",
       "      <td>NaN</td>\n",
       "      <td>S</td>\n",
       "      <td>Weir</td>\n",
       "      <td>Col.</td>\n",
       "    </tr>\n",
       "    <tr>\n",
       "      <th>31</th>\n",
       "      <td>0.0</td>\n",
       "      <td>1</td>\n",
       "      <td>Uruchurtu, Don. Manuel E</td>\n",
       "      <td>male</td>\n",
       "      <td>40.0</td>\n",
       "      <td>0</td>\n",
       "      <td>0</td>\n",
       "      <td>PC 17601</td>\n",
       "      <td>27.7208</td>\n",
       "      <td>NaN</td>\n",
       "      <td>C</td>\n",
       "      <td>Uruchurtu</td>\n",
       "      <td>Don.</td>\n",
       "    </tr>\n",
       "    <tr>\n",
       "      <th>1306</th>\n",
       "      <td>NaN</td>\n",
       "      <td>1</td>\n",
       "      <td>Oliva y Ocana, Dona. Fermina</td>\n",
       "      <td>female</td>\n",
       "      <td>39.0</td>\n",
       "      <td>0</td>\n",
       "      <td>0</td>\n",
       "      <td>PC 17758</td>\n",
       "      <td>108.9000</td>\n",
       "      <td>C105</td>\n",
       "      <td>C</td>\n",
       "      <td>Oliva y Ocana</td>\n",
       "      <td>Dona.</td>\n",
       "    </tr>\n",
       "    <tr>\n",
       "      <th>399</th>\n",
       "      <td>0.0</td>\n",
       "      <td>2</td>\n",
       "      <td>Pain, Dr. Alfred</td>\n",
       "      <td>male</td>\n",
       "      <td>23.0</td>\n",
       "      <td>0</td>\n",
       "      <td>0</td>\n",
       "      <td>244278</td>\n",
       "      <td>10.5000</td>\n",
       "      <td>NaN</td>\n",
       "      <td>S</td>\n",
       "      <td>Pain</td>\n",
       "      <td>Dr.</td>\n",
       "    </tr>\n",
       "    <tr>\n",
       "      <th>797</th>\n",
       "      <td>1.0</td>\n",
       "      <td>1</td>\n",
       "      <td>Leader, Dr. Alice (Farnham)</td>\n",
       "      <td>female</td>\n",
       "      <td>49.0</td>\n",
       "      <td>0</td>\n",
       "      <td>0</td>\n",
       "      <td>17465</td>\n",
       "      <td>25.9292</td>\n",
       "      <td>D17</td>\n",
       "      <td>S</td>\n",
       "      <td>Leader</td>\n",
       "      <td>Dr.</td>\n",
       "    </tr>\n",
       "    <tr>\n",
       "      <th>767</th>\n",
       "      <td>0.0</td>\n",
       "      <td>1</td>\n",
       "      <td>Brewe, Dr. Arthur Jackson</td>\n",
       "      <td>male</td>\n",
       "      <td>NaN</td>\n",
       "      <td>0</td>\n",
       "      <td>0</td>\n",
       "      <td>112379</td>\n",
       "      <td>39.6000</td>\n",
       "      <td>NaN</td>\n",
       "      <td>C</td>\n",
       "      <td>Brewe</td>\n",
       "      <td>Dr.</td>\n",
       "    </tr>\n",
       "    <tr>\n",
       "      <th>633</th>\n",
       "      <td>1.0</td>\n",
       "      <td>1</td>\n",
       "      <td>Stahelin-Maeglin, Dr. Max</td>\n",
       "      <td>male</td>\n",
       "      <td>32.0</td>\n",
       "      <td>0</td>\n",
       "      <td>0</td>\n",
       "      <td>13214</td>\n",
       "      <td>30.5000</td>\n",
       "      <td>B50</td>\n",
       "      <td>C</td>\n",
       "      <td>Stahelin-Maeglin</td>\n",
       "      <td>Dr.</td>\n",
       "    </tr>\n",
       "    <tr>\n",
       "      <th>246</th>\n",
       "      <td>0.0</td>\n",
       "      <td>1</td>\n",
       "      <td>Minahan, Dr. William Edward</td>\n",
       "      <td>male</td>\n",
       "      <td>44.0</td>\n",
       "      <td>2</td>\n",
       "      <td>0</td>\n",
       "      <td>19928</td>\n",
       "      <td>90.0000</td>\n",
       "      <td>C78</td>\n",
       "      <td>Q</td>\n",
       "      <td>Minahan</td>\n",
       "      <td>Dr.</td>\n",
       "    </tr>\n",
       "    <tr>\n",
       "      <th>1185</th>\n",
       "      <td>NaN</td>\n",
       "      <td>1</td>\n",
       "      <td>Dodge, Dr. Washington</td>\n",
       "      <td>male</td>\n",
       "      <td>53.0</td>\n",
       "      <td>1</td>\n",
       "      <td>1</td>\n",
       "      <td>33638</td>\n",
       "      <td>81.8583</td>\n",
       "      <td>A34</td>\n",
       "      <td>S</td>\n",
       "      <td>Dodge</td>\n",
       "      <td>Dr.</td>\n",
       "    </tr>\n",
       "    <tr>\n",
       "      <th>661</th>\n",
       "      <td>1.0</td>\n",
       "      <td>1</td>\n",
       "      <td>Frauenthal, Dr. Henry William</td>\n",
       "      <td>male</td>\n",
       "      <td>50.0</td>\n",
       "      <td>2</td>\n",
       "      <td>0</td>\n",
       "      <td>PC 17611</td>\n",
       "      <td>133.6500</td>\n",
       "      <td>NaN</td>\n",
       "      <td>S</td>\n",
       "      <td>Frauenthal</td>\n",
       "      <td>Dr.</td>\n",
       "    </tr>\n",
       "    <tr>\n",
       "      <th>318</th>\n",
       "      <td>0.0</td>\n",
       "      <td>2</td>\n",
       "      <td>Moraweck, Dr. Ernest</td>\n",
       "      <td>male</td>\n",
       "      <td>54.0</td>\n",
       "      <td>0</td>\n",
       "      <td>0</td>\n",
       "      <td>29011</td>\n",
       "      <td>14.0000</td>\n",
       "      <td>NaN</td>\n",
       "      <td>S</td>\n",
       "      <td>Moraweck</td>\n",
       "      <td>Dr.</td>\n",
       "    </tr>\n",
       "    <tr>\n",
       "      <th>823</th>\n",
       "      <td>0.0</td>\n",
       "      <td>1</td>\n",
       "      <td>Reuchlin, Jonkheer. John George</td>\n",
       "      <td>male</td>\n",
       "      <td>38.0</td>\n",
       "      <td>0</td>\n",
       "      <td>0</td>\n",
       "      <td>19972</td>\n",
       "      <td>0.0000</td>\n",
       "      <td>NaN</td>\n",
       "      <td>S</td>\n",
       "      <td>Reuchlin</td>\n",
       "      <td>Jonkheer.</td>\n",
       "    </tr>\n",
       "    <tr>\n",
       "      <th>557</th>\n",
       "      <td>1.0</td>\n",
       "      <td>1</td>\n",
       "      <td>Duff Gordon, Lady. (Lucille Christiana Sutherl...</td>\n",
       "      <td>female</td>\n",
       "      <td>48.0</td>\n",
       "      <td>1</td>\n",
       "      <td>0</td>\n",
       "      <td>11755</td>\n",
       "      <td>39.6000</td>\n",
       "      <td>A16</td>\n",
       "      <td>C</td>\n",
       "      <td>Duff Gordon</td>\n",
       "      <td>Lady.</td>\n",
       "    </tr>\n",
       "    <tr>\n",
       "      <th>450</th>\n",
       "      <td>1.0</td>\n",
       "      <td>1</td>\n",
       "      <td>Peuchen, Major. Arthur Godfrey</td>\n",
       "      <td>male</td>\n",
       "      <td>52.0</td>\n",
       "      <td>0</td>\n",
       "      <td>0</td>\n",
       "      <td>113786</td>\n",
       "      <td>30.5000</td>\n",
       "      <td>C104</td>\n",
       "      <td>S</td>\n",
       "      <td>Peuchen</td>\n",
       "      <td>Major.</td>\n",
       "    </tr>\n",
       "    <tr>\n",
       "      <th>537</th>\n",
       "      <td>0.0</td>\n",
       "      <td>1</td>\n",
       "      <td>Butt, Major. Archibald Willingham</td>\n",
       "      <td>male</td>\n",
       "      <td>45.0</td>\n",
       "      <td>0</td>\n",
       "      <td>0</td>\n",
       "      <td>113050</td>\n",
       "      <td>26.5500</td>\n",
       "      <td>B38</td>\n",
       "      <td>S</td>\n",
       "      <td>Butt</td>\n",
       "      <td>Major.</td>\n",
       "    </tr>\n",
       "    <tr>\n",
       "      <th>711</th>\n",
       "      <td>1.0</td>\n",
       "      <td>1</td>\n",
       "      <td>Mayne, Mlle. Berthe Antonine (\"Mrs de Villiers\")</td>\n",
       "      <td>female</td>\n",
       "      <td>24.0</td>\n",
       "      <td>0</td>\n",
       "      <td>0</td>\n",
       "      <td>PC 17482</td>\n",
       "      <td>49.5042</td>\n",
       "      <td>C90</td>\n",
       "      <td>C</td>\n",
       "      <td>Mayne</td>\n",
       "      <td>Mlle.</td>\n",
       "    </tr>\n",
       "    <tr>\n",
       "      <th>642</th>\n",
       "      <td>1.0</td>\n",
       "      <td>1</td>\n",
       "      <td>Sagesser, Mlle. Emma</td>\n",
       "      <td>female</td>\n",
       "      <td>24.0</td>\n",
       "      <td>0</td>\n",
       "      <td>0</td>\n",
       "      <td>PC 17477</td>\n",
       "      <td>69.3000</td>\n",
       "      <td>B35</td>\n",
       "      <td>C</td>\n",
       "      <td>Sagesser</td>\n",
       "      <td>Mlle.</td>\n",
       "    </tr>\n",
       "    <tr>\n",
       "      <th>370</th>\n",
       "      <td>1.0</td>\n",
       "      <td>1</td>\n",
       "      <td>Aubart, Mme. Leontine Pauline</td>\n",
       "      <td>female</td>\n",
       "      <td>24.0</td>\n",
       "      <td>0</td>\n",
       "      <td>0</td>\n",
       "      <td>PC 17477</td>\n",
       "      <td>69.3000</td>\n",
       "      <td>B35</td>\n",
       "      <td>C</td>\n",
       "      <td>Aubart</td>\n",
       "      <td>Mme.</td>\n",
       "    </tr>\n",
       "    <tr>\n",
       "      <th>444</th>\n",
       "      <td>1.0</td>\n",
       "      <td>2</td>\n",
       "      <td>Reynaldo, Ms. Encarnacion</td>\n",
       "      <td>female</td>\n",
       "      <td>28.0</td>\n",
       "      <td>0</td>\n",
       "      <td>0</td>\n",
       "      <td>230434</td>\n",
       "      <td>13.0000</td>\n",
       "      <td>NaN</td>\n",
       "      <td>S</td>\n",
       "      <td>Reynaldo</td>\n",
       "      <td>Ms.</td>\n",
       "    </tr>\n",
       "    <tr>\n",
       "      <th>980</th>\n",
       "      <td>NaN</td>\n",
       "      <td>3</td>\n",
       "      <td>O'Donoghue, Ms. Bridget</td>\n",
       "      <td>female</td>\n",
       "      <td>NaN</td>\n",
       "      <td>0</td>\n",
       "      <td>0</td>\n",
       "      <td>364856</td>\n",
       "      <td>7.7500</td>\n",
       "      <td>NaN</td>\n",
       "      <td>Q</td>\n",
       "      <td>O'Donoghue</td>\n",
       "      <td>Ms.</td>\n",
       "    </tr>\n",
       "    <tr>\n",
       "      <th>627</th>\n",
       "      <td>0.0</td>\n",
       "      <td>2</td>\n",
       "      <td>Kirkland, Rev. Charles Leonard</td>\n",
       "      <td>male</td>\n",
       "      <td>57.0</td>\n",
       "      <td>0</td>\n",
       "      <td>0</td>\n",
       "      <td>219533</td>\n",
       "      <td>12.3500</td>\n",
       "      <td>NaN</td>\n",
       "      <td>Q</td>\n",
       "      <td>Kirkland</td>\n",
       "      <td>Rev.</td>\n",
       "    </tr>\n",
       "    <tr>\n",
       "      <th>849</th>\n",
       "      <td>0.0</td>\n",
       "      <td>2</td>\n",
       "      <td>Harper, Rev. John</td>\n",
       "      <td>male</td>\n",
       "      <td>28.0</td>\n",
       "      <td>0</td>\n",
       "      <td>1</td>\n",
       "      <td>248727</td>\n",
       "      <td>33.0000</td>\n",
       "      <td>NaN</td>\n",
       "      <td>S</td>\n",
       "      <td>Harper</td>\n",
       "      <td>Rev.</td>\n",
       "    </tr>\n",
       "    <tr>\n",
       "      <th>887</th>\n",
       "      <td>0.0</td>\n",
       "      <td>2</td>\n",
       "      <td>Montvila, Rev. Juozas</td>\n",
       "      <td>male</td>\n",
       "      <td>27.0</td>\n",
       "      <td>0</td>\n",
       "      <td>0</td>\n",
       "      <td>211536</td>\n",
       "      <td>13.0000</td>\n",
       "      <td>NaN</td>\n",
       "      <td>S</td>\n",
       "      <td>Montvila</td>\n",
       "      <td>Rev.</td>\n",
       "    </tr>\n",
       "    <tr>\n",
       "      <th>151</th>\n",
       "      <td>0.0</td>\n",
       "      <td>2</td>\n",
       "      <td>Bateman, Rev. Robert James</td>\n",
       "      <td>male</td>\n",
       "      <td>51.0</td>\n",
       "      <td>0</td>\n",
       "      <td>0</td>\n",
       "      <td>S.O.P. 1166</td>\n",
       "      <td>12.5250</td>\n",
       "      <td>NaN</td>\n",
       "      <td>S</td>\n",
       "      <td>Bateman</td>\n",
       "      <td>Rev.</td>\n",
       "    </tr>\n",
       "    <tr>\n",
       "      <th>1041</th>\n",
       "      <td>NaN</td>\n",
       "      <td>2</td>\n",
       "      <td>Lahtinen, Rev. William</td>\n",
       "      <td>male</td>\n",
       "      <td>30.0</td>\n",
       "      <td>1</td>\n",
       "      <td>1</td>\n",
       "      <td>250651</td>\n",
       "      <td>26.0000</td>\n",
       "      <td>NaN</td>\n",
       "      <td>S</td>\n",
       "      <td>Lahtinen</td>\n",
       "      <td>Rev.</td>\n",
       "    </tr>\n",
       "    <tr>\n",
       "      <th>1056</th>\n",
       "      <td>NaN</td>\n",
       "      <td>2</td>\n",
       "      <td>Peruschitz, Rev. Joseph Maria</td>\n",
       "      <td>male</td>\n",
       "      <td>41.0</td>\n",
       "      <td>0</td>\n",
       "      <td>0</td>\n",
       "      <td>237393</td>\n",
       "      <td>13.0000</td>\n",
       "      <td>NaN</td>\n",
       "      <td>S</td>\n",
       "      <td>Peruschitz</td>\n",
       "      <td>Rev.</td>\n",
       "    </tr>\n",
       "    <tr>\n",
       "      <th>150</th>\n",
       "      <td>0.0</td>\n",
       "      <td>2</td>\n",
       "      <td>Byles, Rev. Thomas Roussel Davids</td>\n",
       "      <td>male</td>\n",
       "      <td>42.0</td>\n",
       "      <td>0</td>\n",
       "      <td>0</td>\n",
       "      <td>244310</td>\n",
       "      <td>13.0000</td>\n",
       "      <td>NaN</td>\n",
       "      <td>S</td>\n",
       "      <td>Byles</td>\n",
       "      <td>Rev.</td>\n",
       "    </tr>\n",
       "    <tr>\n",
       "      <th>250</th>\n",
       "      <td>0.0</td>\n",
       "      <td>2</td>\n",
       "      <td>Carter, Rev. Ernest Courtenay</td>\n",
       "      <td>male</td>\n",
       "      <td>54.0</td>\n",
       "      <td>1</td>\n",
       "      <td>0</td>\n",
       "      <td>244252</td>\n",
       "      <td>26.0000</td>\n",
       "      <td>NaN</td>\n",
       "      <td>S</td>\n",
       "      <td>Carter</td>\n",
       "      <td>Rev.</td>\n",
       "    </tr>\n",
       "    <tr>\n",
       "      <th>600</th>\n",
       "      <td>1.0</td>\n",
       "      <td>1</td>\n",
       "      <td>Duff Gordon, Sir. Cosmo Edmund (\"Mr Morgan\")</td>\n",
       "      <td>male</td>\n",
       "      <td>49.0</td>\n",
       "      <td>1</td>\n",
       "      <td>0</td>\n",
       "      <td>PC 17485</td>\n",
       "      <td>56.9292</td>\n",
       "      <td>A20</td>\n",
       "      <td>C</td>\n",
       "      <td>Duff Gordon</td>\n",
       "      <td>Sir.</td>\n",
       "    </tr>\n",
       "    <tr>\n",
       "      <th>760</th>\n",
       "      <td>1.0</td>\n",
       "      <td>1</td>\n",
       "      <td>Rothes, the Countess. of (Lucy Noel Martha Dye...</td>\n",
       "      <td>female</td>\n",
       "      <td>33.0</td>\n",
       "      <td>0</td>\n",
       "      <td>0</td>\n",
       "      <td>110152</td>\n",
       "      <td>86.5000</td>\n",
       "      <td>B77</td>\n",
       "      <td>S</td>\n",
       "      <td>Rothes</td>\n",
       "      <td>the</td>\n",
       "    </tr>\n",
       "  </tbody>\n",
       "</table>\n",
       "</div>"
      ],
      "text/plain": [
       "             survived  pclass  \\\n",
       "PassengerId                     \n",
       "746               0.0       1   \n",
       "648               1.0       1   \n",
       "1094              NaN       1   \n",
       "1023              NaN       1   \n",
       "695               0.0       1   \n",
       "31                0.0       1   \n",
       "1306              NaN       1   \n",
       "399               0.0       2   \n",
       "797               1.0       1   \n",
       "767               0.0       1   \n",
       "633               1.0       1   \n",
       "246               0.0       1   \n",
       "1185              NaN       1   \n",
       "661               1.0       1   \n",
       "318               0.0       2   \n",
       "823               0.0       1   \n",
       "557               1.0       1   \n",
       "450               1.0       1   \n",
       "537               0.0       1   \n",
       "711               1.0       1   \n",
       "642               1.0       1   \n",
       "370               1.0       1   \n",
       "444               1.0       2   \n",
       "980               NaN       3   \n",
       "627               0.0       2   \n",
       "849               0.0       2   \n",
       "887               0.0       2   \n",
       "151               0.0       2   \n",
       "1041              NaN       2   \n",
       "1056              NaN       2   \n",
       "150               0.0       2   \n",
       "250               0.0       2   \n",
       "600               1.0       1   \n",
       "760               1.0       1   \n",
       "\n",
       "                                                          name     sex   age  \\\n",
       "PassengerId                                                                    \n",
       "746                               Crosby, Capt. Edward Gifford    male  70.0   \n",
       "648                        Simonius-Blumer, Col. Oberst Alfons    male  56.0   \n",
       "1094                                    Astor, Col. John Jacob    male  47.0   \n",
       "1023                                 Gracie, Col. Archibald IV    male  53.0   \n",
       "695                                            Weir, Col. John    male  60.0   \n",
       "31                                    Uruchurtu, Don. Manuel E    male  40.0   \n",
       "1306                              Oliva y Ocana, Dona. Fermina  female  39.0   \n",
       "399                                           Pain, Dr. Alfred    male  23.0   \n",
       "797                                Leader, Dr. Alice (Farnham)  female  49.0   \n",
       "767                                  Brewe, Dr. Arthur Jackson    male   NaN   \n",
       "633                                  Stahelin-Maeglin, Dr. Max    male  32.0   \n",
       "246                                Minahan, Dr. William Edward    male  44.0   \n",
       "1185                                     Dodge, Dr. Washington    male  53.0   \n",
       "661                              Frauenthal, Dr. Henry William    male  50.0   \n",
       "318                                       Moraweck, Dr. Ernest    male  54.0   \n",
       "823                            Reuchlin, Jonkheer. John George    male  38.0   \n",
       "557          Duff Gordon, Lady. (Lucille Christiana Sutherl...  female  48.0   \n",
       "450                             Peuchen, Major. Arthur Godfrey    male  52.0   \n",
       "537                          Butt, Major. Archibald Willingham    male  45.0   \n",
       "711           Mayne, Mlle. Berthe Antonine (\"Mrs de Villiers\")  female  24.0   \n",
       "642                                       Sagesser, Mlle. Emma  female  24.0   \n",
       "370                              Aubart, Mme. Leontine Pauline  female  24.0   \n",
       "444                                  Reynaldo, Ms. Encarnacion  female  28.0   \n",
       "980                                    O'Donoghue, Ms. Bridget  female   NaN   \n",
       "627                             Kirkland, Rev. Charles Leonard    male  57.0   \n",
       "849                                          Harper, Rev. John    male  28.0   \n",
       "887                                      Montvila, Rev. Juozas    male  27.0   \n",
       "151                                 Bateman, Rev. Robert James    male  51.0   \n",
       "1041                                    Lahtinen, Rev. William    male  30.0   \n",
       "1056                             Peruschitz, Rev. Joseph Maria    male  41.0   \n",
       "150                          Byles, Rev. Thomas Roussel Davids    male  42.0   \n",
       "250                              Carter, Rev. Ernest Courtenay    male  54.0   \n",
       "600               Duff Gordon, Sir. Cosmo Edmund (\"Mr Morgan\")    male  49.0   \n",
       "760          Rothes, the Countess. of (Lucy Noel Martha Dye...  female  33.0   \n",
       "\n",
       "             sibsp  parch       ticket      fare    cabin embarked  \\\n",
       "PassengerId                                                          \n",
       "746              1      1    WE/P 5735   71.0000      B22        S   \n",
       "648              0      0        13213   35.5000      A26        C   \n",
       "1094             1      0     PC 17757  227.5250  C62 C64        C   \n",
       "1023             0      0       113780   28.5000      C51        C   \n",
       "695              0      0       113800   26.5500      NaN        S   \n",
       "31               0      0     PC 17601   27.7208      NaN        C   \n",
       "1306             0      0     PC 17758  108.9000     C105        C   \n",
       "399              0      0       244278   10.5000      NaN        S   \n",
       "797              0      0        17465   25.9292      D17        S   \n",
       "767              0      0       112379   39.6000      NaN        C   \n",
       "633              0      0        13214   30.5000      B50        C   \n",
       "246              2      0        19928   90.0000      C78        Q   \n",
       "1185             1      1        33638   81.8583      A34        S   \n",
       "661              2      0     PC 17611  133.6500      NaN        S   \n",
       "318              0      0        29011   14.0000      NaN        S   \n",
       "823              0      0        19972    0.0000      NaN        S   \n",
       "557              1      0        11755   39.6000      A16        C   \n",
       "450              0      0       113786   30.5000     C104        S   \n",
       "537              0      0       113050   26.5500      B38        S   \n",
       "711              0      0     PC 17482   49.5042      C90        C   \n",
       "642              0      0     PC 17477   69.3000      B35        C   \n",
       "370              0      0     PC 17477   69.3000      B35        C   \n",
       "444              0      0       230434   13.0000      NaN        S   \n",
       "980              0      0       364856    7.7500      NaN        Q   \n",
       "627              0      0       219533   12.3500      NaN        Q   \n",
       "849              0      1       248727   33.0000      NaN        S   \n",
       "887              0      0       211536   13.0000      NaN        S   \n",
       "151              0      0  S.O.P. 1166   12.5250      NaN        S   \n",
       "1041             1      1       250651   26.0000      NaN        S   \n",
       "1056             0      0       237393   13.0000      NaN        S   \n",
       "150              0      0       244310   13.0000      NaN        S   \n",
       "250              1      0       244252   26.0000      NaN        S   \n",
       "600              1      0     PC 17485   56.9292      A20        C   \n",
       "760              0      0       110152   86.5000      B77        S   \n",
       "\n",
       "                    last_name      title  \n",
       "PassengerId                               \n",
       "746                    Crosby      Capt.  \n",
       "648           Simonius-Blumer       Col.  \n",
       "1094                    Astor       Col.  \n",
       "1023                   Gracie       Col.  \n",
       "695                      Weir       Col.  \n",
       "31                  Uruchurtu       Don.  \n",
       "1306            Oliva y Ocana      Dona.  \n",
       "399                      Pain        Dr.  \n",
       "797                    Leader        Dr.  \n",
       "767                     Brewe        Dr.  \n",
       "633          Stahelin-Maeglin        Dr.  \n",
       "246                   Minahan        Dr.  \n",
       "1185                    Dodge        Dr.  \n",
       "661                Frauenthal        Dr.  \n",
       "318                  Moraweck        Dr.  \n",
       "823                  Reuchlin  Jonkheer.  \n",
       "557               Duff Gordon      Lady.  \n",
       "450                   Peuchen     Major.  \n",
       "537                      Butt     Major.  \n",
       "711                     Mayne      Mlle.  \n",
       "642                  Sagesser      Mlle.  \n",
       "370                    Aubart       Mme.  \n",
       "444                  Reynaldo        Ms.  \n",
       "980                O'Donoghue        Ms.  \n",
       "627                  Kirkland       Rev.  \n",
       "849                    Harper       Rev.  \n",
       "887                  Montvila       Rev.  \n",
       "151                   Bateman       Rev.  \n",
       "1041                 Lahtinen       Rev.  \n",
       "1056               Peruschitz       Rev.  \n",
       "150                     Byles       Rev.  \n",
       "250                    Carter       Rev.  \n",
       "600               Duff Gordon       Sir.  \n",
       "760                    Rothes        the  "
      ]
     },
     "execution_count": 12,
     "metadata": {},
     "output_type": "execute_result"
    },
    {
     "data": {
      "application/javascript": [
       "\n",
       "            setTimeout(function() {\n",
       "                var nbb_cell_id = 12;\n",
       "                var nbb_unformatted_code = \"# Get list of titles not in the top 4\\nlesser_titles = (\\n    concat_df.groupby(\\\"title\\\").count().iloc[:, 0].sort_values(ascending=False).index[4:]\\n)\\n\\nconcat_df[concat_df.title.isin(lesser_titles)].sort_values(by=\\\"title\\\")\";\n",
       "                var nbb_formatted_code = \"# Get list of titles not in the top 4\\nlesser_titles = (\\n    concat_df.groupby(\\\"title\\\").count().iloc[:, 0].sort_values(ascending=False).index[4:]\\n)\\n\\nconcat_df[concat_df.title.isin(lesser_titles)].sort_values(by=\\\"title\\\")\";\n",
       "                var nbb_cells = Jupyter.notebook.get_cells();\n",
       "                for (var i = 0; i < nbb_cells.length; ++i) {\n",
       "                    if (nbb_cells[i].input_prompt_number == nbb_cell_id) {\n",
       "                        if (nbb_cells[i].get_text() == nbb_unformatted_code) {\n",
       "                             nbb_cells[i].set_text(nbb_formatted_code);\n",
       "                        }\n",
       "                        break;\n",
       "                    }\n",
       "                }\n",
       "            }, 500);\n",
       "            "
      ],
      "text/plain": [
       "<IPython.core.display.Javascript object>"
      ]
     },
     "metadata": {},
     "output_type": "display_data"
    }
   ],
   "source": [
    "# Get list of titles not in the top 4\n",
    "lesser_titles = (\n",
    "    concat_df.groupby(\"title\").count().iloc[:, 0].sort_values(ascending=False).index[4:]\n",
    ")\n",
    "\n",
    "concat_df[concat_df.title.isin(lesser_titles)].sort_values(by=\"title\")"
   ]
  },
  {
   "cell_type": "markdown",
   "metadata": {},
   "source": [
    "* Capt. + Col. are older men (age > 40) → Change to Mr. \n",
    "* Don. is male, 40 years old → Change to Mr. \n",
    "* Dona. is female, 39 years old → Change to Mrs.\n",
    "* Dr. is male or female (age 20 - 45) → Change to Mr. or Mrs.\n",
    "* Jonkheer. is the lowest rank of nobility (his cabin might be A or B) → Change to Mr.\n",
    "* Lady. is female (48 years old) with 100% survival rate → Change to Mrs. or keep\n",
    "* Major. is 45-55 male → Change to Mr.\n",
    "* Mme. and Mlle. are female with 100% survival rate → Change to Mrs. or conform with Lady.\n",
    "* Ms. is female with unknown age (but \"Ms.\" is used for female when marital status is unknown. She must be at least 20 years old) → Change to Miss.\n",
    "* Rev. is male of high class with low survival rate  → Change to Mr. or keep Rev.\n",
    "* Sir. is a high class male (cabin A) → Change to Mr.\n",
    "* the should be Countess, who is female in 30s and high class → Change to Mrs. or conform with Lady.\n"
   ]
  },
  {
   "cell_type": "code",
   "execution_count": 13,
   "metadata": {},
   "outputs": [
    {
     "data": {
      "text/plain": [
       "array(['Mr.', 'Mrs.', 'Miss.', 'Master.', 'Rev.', 'Lady.'], dtype=object)"
      ]
     },
     "execution_count": 13,
     "metadata": {},
     "output_type": "execute_result"
    },
    {
     "data": {
      "application/javascript": [
       "\n",
       "            setTimeout(function() {\n",
       "                var nbb_cell_id = 13;\n",
       "                var nbb_unformatted_code = \"# Create cleaned_title field\\ndef clean_title(row):\\n\\n    title = row.title\\n    sex = row.sex\\n\\n    if title in [\\\"Capt.\\\", \\\"Col.\\\", \\\"Don.\\\", \\\"Jonkheer.\\\", \\\"Major.\\\", \\\"Sir.\\\"]:\\n        return \\\"Mr.\\\"\\n    elif title in [\\\"Dona.\\\"]:\\n        return \\\"Mrs.\\\"\\n    elif title in [\\\"Lady.\\\", \\\"Mme.\\\", \\\"Mlle.\\\", \\\"the\\\"]:\\n        return \\\"Lady.\\\"\\n    elif title in [\\\"Ms.\\\"]:\\n        return \\\"Miss.\\\"\\n    elif title == \\\"Dr.\\\" and sex == \\\"male\\\":\\n        return \\\"Mr.\\\"\\n    elif title == \\\"Dr.\\\" and sex == \\\"female\\\":\\n        return \\\"Mrs.\\\"\\n    else:\\n        return title\\n\\n\\nconcat_df[\\\"title_clean\\\"] = concat_df.apply(lambda x: clean_title(x), axis=1)\\n\\n# Check if cleaning was successful\\nconcat_df.title_clean.unique()\";\n",
       "                var nbb_formatted_code = \"# Create cleaned_title field\\ndef clean_title(row):\\n\\n    title = row.title\\n    sex = row.sex\\n\\n    if title in [\\\"Capt.\\\", \\\"Col.\\\", \\\"Don.\\\", \\\"Jonkheer.\\\", \\\"Major.\\\", \\\"Sir.\\\"]:\\n        return \\\"Mr.\\\"\\n    elif title in [\\\"Dona.\\\"]:\\n        return \\\"Mrs.\\\"\\n    elif title in [\\\"Lady.\\\", \\\"Mme.\\\", \\\"Mlle.\\\", \\\"the\\\"]:\\n        return \\\"Lady.\\\"\\n    elif title in [\\\"Ms.\\\"]:\\n        return \\\"Miss.\\\"\\n    elif title == \\\"Dr.\\\" and sex == \\\"male\\\":\\n        return \\\"Mr.\\\"\\n    elif title == \\\"Dr.\\\" and sex == \\\"female\\\":\\n        return \\\"Mrs.\\\"\\n    else:\\n        return title\\n\\n\\nconcat_df[\\\"title_clean\\\"] = concat_df.apply(lambda x: clean_title(x), axis=1)\\n\\n# Check if cleaning was successful\\nconcat_df.title_clean.unique()\";\n",
       "                var nbb_cells = Jupyter.notebook.get_cells();\n",
       "                for (var i = 0; i < nbb_cells.length; ++i) {\n",
       "                    if (nbb_cells[i].input_prompt_number == nbb_cell_id) {\n",
       "                        if (nbb_cells[i].get_text() == nbb_unformatted_code) {\n",
       "                             nbb_cells[i].set_text(nbb_formatted_code);\n",
       "                        }\n",
       "                        break;\n",
       "                    }\n",
       "                }\n",
       "            }, 500);\n",
       "            "
      ],
      "text/plain": [
       "<IPython.core.display.Javascript object>"
      ]
     },
     "metadata": {},
     "output_type": "display_data"
    }
   ],
   "source": [
    "# Create cleaned_title field\n",
    "def clean_title(row):\n",
    "\n",
    "    title = row.title\n",
    "    sex = row.sex\n",
    "\n",
    "    if title in [\"Capt.\", \"Col.\", \"Don.\", \"Jonkheer.\", \"Major.\", \"Sir.\"]:\n",
    "        return \"Mr.\"\n",
    "    elif title in [\"Dona.\"]:\n",
    "        return \"Mrs.\"\n",
    "    elif title in [\"Lady.\", \"Mme.\", \"Mlle.\", \"the\"]:\n",
    "        return \"Lady.\"\n",
    "    elif title in [\"Ms.\"]:\n",
    "        return \"Miss.\"\n",
    "    elif title == \"Dr.\" and sex == \"male\":\n",
    "        return \"Mr.\"\n",
    "    elif title == \"Dr.\" and sex == \"female\":\n",
    "        return \"Mrs.\"\n",
    "    else:\n",
    "        return title\n",
    "\n",
    "\n",
    "concat_df[\"title_clean\"] = concat_df.apply(lambda x: clean_title(x), axis=1)\n",
    "\n",
    "# Check if cleaning was successful\n",
    "concat_df.title_clean.unique()"
   ]
  },
  {
   "cell_type": "code",
   "execution_count": 14,
   "metadata": {},
   "outputs": [
    {
     "data": {
      "text/html": [
       "<div>\n",
       "<style scoped>\n",
       "    .dataframe tbody tr th:only-of-type {\n",
       "        vertical-align: middle;\n",
       "    }\n",
       "\n",
       "    .dataframe tbody tr th {\n",
       "        vertical-align: top;\n",
       "    }\n",
       "\n",
       "    .dataframe thead th {\n",
       "        text-align: right;\n",
       "    }\n",
       "</style>\n",
       "<table border=\"1\" class=\"dataframe\">\n",
       "  <thead>\n",
       "    <tr style=\"text-align: right;\">\n",
       "      <th></th>\n",
       "      <th>survived</th>\n",
       "      <th>pclass</th>\n",
       "      <th>name</th>\n",
       "      <th>sex</th>\n",
       "      <th>age</th>\n",
       "      <th>sibsp</th>\n",
       "      <th>parch</th>\n",
       "      <th>ticket</th>\n",
       "      <th>fare</th>\n",
       "      <th>cabin</th>\n",
       "      <th>embarked</th>\n",
       "      <th>last_name</th>\n",
       "      <th>title</th>\n",
       "      <th>title_clean</th>\n",
       "      <th>first_name</th>\n",
       "    </tr>\n",
       "    <tr>\n",
       "      <th>PassengerId</th>\n",
       "      <th></th>\n",
       "      <th></th>\n",
       "      <th></th>\n",
       "      <th></th>\n",
       "      <th></th>\n",
       "      <th></th>\n",
       "      <th></th>\n",
       "      <th></th>\n",
       "      <th></th>\n",
       "      <th></th>\n",
       "      <th></th>\n",
       "      <th></th>\n",
       "      <th></th>\n",
       "      <th></th>\n",
       "      <th></th>\n",
       "    </tr>\n",
       "  </thead>\n",
       "  <tbody>\n",
       "    <tr>\n",
       "      <th>1</th>\n",
       "      <td>0.0</td>\n",
       "      <td>3</td>\n",
       "      <td>Braund, Mr. Owen Harris</td>\n",
       "      <td>male</td>\n",
       "      <td>22.0</td>\n",
       "      <td>1</td>\n",
       "      <td>0</td>\n",
       "      <td>A/5 21171</td>\n",
       "      <td>7.25</td>\n",
       "      <td>NaN</td>\n",
       "      <td>S</td>\n",
       "      <td>Braund</td>\n",
       "      <td>Mr.</td>\n",
       "      <td>Mr.</td>\n",
       "      <td>Owen Harris</td>\n",
       "    </tr>\n",
       "  </tbody>\n",
       "</table>\n",
       "</div>"
      ],
      "text/plain": [
       "             survived  pclass                     name   sex   age  sibsp  \\\n",
       "PassengerId                                                                 \n",
       "1                 0.0       3  Braund, Mr. Owen Harris  male  22.0      1   \n",
       "\n",
       "             parch     ticket  fare cabin embarked last_name title  \\\n",
       "PassengerId                                                          \n",
       "1                0  A/5 21171  7.25   NaN        S    Braund   Mr.   \n",
       "\n",
       "            title_clean   first_name  \n",
       "PassengerId                           \n",
       "1                   Mr.  Owen Harris  "
      ]
     },
     "execution_count": 14,
     "metadata": {},
     "output_type": "execute_result"
    },
    {
     "data": {
      "application/javascript": [
       "\n",
       "            setTimeout(function() {\n",
       "                var nbb_cell_id = 14;\n",
       "                var nbb_unformatted_code = \"# Extract first_name from name\\nconcat_df[\\\"first_name\\\"] = concat_df.name.apply(\\n    lambda x: \\\" \\\".join(x.split(\\\",\\\")[1].split()[1:])\\n)\\n\\nconcat_df.head(1)\";\n",
       "                var nbb_formatted_code = \"# Extract first_name from name\\nconcat_df[\\\"first_name\\\"] = concat_df.name.apply(\\n    lambda x: \\\" \\\".join(x.split(\\\",\\\")[1].split()[1:])\\n)\\n\\nconcat_df.head(1)\";\n",
       "                var nbb_cells = Jupyter.notebook.get_cells();\n",
       "                for (var i = 0; i < nbb_cells.length; ++i) {\n",
       "                    if (nbb_cells[i].input_prompt_number == nbb_cell_id) {\n",
       "                        if (nbb_cells[i].get_text() == nbb_unformatted_code) {\n",
       "                             nbb_cells[i].set_text(nbb_formatted_code);\n",
       "                        }\n",
       "                        break;\n",
       "                    }\n",
       "                }\n",
       "            }, 500);\n",
       "            "
      ],
      "text/plain": [
       "<IPython.core.display.Javascript object>"
      ]
     },
     "metadata": {},
     "output_type": "display_data"
    }
   ],
   "source": [
    "# Extract first_name from name\n",
    "concat_df[\"first_name\"] = concat_df.name.apply(\n",
    "    lambda x: \" \".join(x.split(\",\")[1].split()[1:])\n",
    ")\n",
    "\n",
    "concat_df.head(1)"
   ]
  },
  {
   "cell_type": "code",
   "execution_count": 15,
   "metadata": {},
   "outputs": [
    {
     "data": {
      "image/png": "[encoded data removed]",
      "text/plain": [
       "<Figure size 1080x288 with 2 Axes>"
      ]
     },
     "metadata": {
      "needs_background": "light"
     },
     "output_type": "display_data"
    },
    {
     "data": {
      "application/javascript": [
       "\n",
       "            setTimeout(function() {\n",
       "                var nbb_cell_id = 15;\n",
       "                var nbb_unformatted_code = \"# Check which names have parenthesis\\np1 = concat_df[concat_df.first_name.str.contains(\\\"\\\\(\\\")]\\ncolumns = [\\\"age\\\", \\\"sex\\\"]\\nfig, axes = plt.subplots(1, 2, figsize=[15, 4])\\n\\nfor i, c in enumerate(columns):\\n    ax = axes[i]\\n    p2 = p1.groupby([c, \\\"survived\\\"]).count().iloc[:, 0].reset_index()\\n    p2.columns = [c, \\\"survived\\\", \\\"counts\\\"]\\n    sns.barplot(data=p2, hue=\\\"survived\\\", x=c, y=\\\"counts\\\", ax=ax)\\n    ax.set_title(f\\\"{c}\\\")\";\n",
       "                var nbb_formatted_code = \"# Check which names have parenthesis\\np1 = concat_df[concat_df.first_name.str.contains(\\\"\\\\(\\\")]\\ncolumns = [\\\"age\\\", \\\"sex\\\"]\\nfig, axes = plt.subplots(1, 2, figsize=[15, 4])\\n\\nfor i, c in enumerate(columns):\\n    ax = axes[i]\\n    p2 = p1.groupby([c, \\\"survived\\\"]).count().iloc[:, 0].reset_index()\\n    p2.columns = [c, \\\"survived\\\", \\\"counts\\\"]\\n    sns.barplot(data=p2, hue=\\\"survived\\\", x=c, y=\\\"counts\\\", ax=ax)\\n    ax.set_title(f\\\"{c}\\\")\";\n",
       "                var nbb_cells = Jupyter.notebook.get_cells();\n",
       "                for (var i = 0; i < nbb_cells.length; ++i) {\n",
       "                    if (nbb_cells[i].input_prompt_number == nbb_cell_id) {\n",
       "                        if (nbb_cells[i].get_text() == nbb_unformatted_code) {\n",
       "                             nbb_cells[i].set_text(nbb_formatted_code);\n",
       "                        }\n",
       "                        break;\n",
       "                    }\n",
       "                }\n",
       "            }, 500);\n",
       "            "
      ],
      "text/plain": [
       "<IPython.core.display.Javascript object>"
      ]
     },
     "metadata": {},
     "output_type": "display_data"
    }
   ],
   "source": [
    "# Check which names have parenthesis\n",
    "p1 = concat_df[concat_df.first_name.str.contains(\"\\(\")]\n",
    "columns = [\"age\", \"sex\"]\n",
    "fig, axes = plt.subplots(1, 2, figsize=[15, 4])\n",
    "\n",
    "for i, c in enumerate(columns):\n",
    "    ax = axes[i]\n",
    "    p2 = p1.groupby([c, \"survived\"]).count().iloc[:, 0].reset_index()\n",
    "    p2.columns = [c, \"survived\", \"counts\"]\n",
    "    sns.barplot(data=p2, hue=\"survived\", x=c, y=\"counts\", ax=ax)\n",
    "    ax.set_title(f\"{c}\")"
   ]
  },
  {
   "cell_type": "code",
   "execution_count": 16,
   "metadata": {},
   "outputs": [
    {
     "data": {
      "application/javascript": [
       "\n",
       "            setTimeout(function() {\n",
       "                var nbb_cell_id = 16;\n",
       "                var nbb_unformatted_code = \"# Create has_nickname flag (it might be a useful predictor because survivability is high)\\nconcat_df[\\\"has_nickname\\\"] = concat_df.first_name.str.contains(\\\"\\\\(\\\").astype(\\\"int\\\")\";\n",
       "                var nbb_formatted_code = \"# Create has_nickname flag (it might be a useful predictor because survivability is high)\\nconcat_df[\\\"has_nickname\\\"] = concat_df.first_name.str.contains(\\\"\\\\(\\\").astype(\\\"int\\\")\";\n",
       "                var nbb_cells = Jupyter.notebook.get_cells();\n",
       "                for (var i = 0; i < nbb_cells.length; ++i) {\n",
       "                    if (nbb_cells[i].input_prompt_number == nbb_cell_id) {\n",
       "                        if (nbb_cells[i].get_text() == nbb_unformatted_code) {\n",
       "                             nbb_cells[i].set_text(nbb_formatted_code);\n",
       "                        }\n",
       "                        break;\n",
       "                    }\n",
       "                }\n",
       "            }, 500);\n",
       "            "
      ],
      "text/plain": [
       "<IPython.core.display.Javascript object>"
      ]
     },
     "metadata": {},
     "output_type": "display_data"
    }
   ],
   "source": [
    "# Create has_nickname flag (it might be a useful predictor because survivability is high)\n",
    "concat_df[\"has_nickname\"] = concat_df.first_name.str.contains(\"\\(\").astype(\"int\")"
   ]
  },
  {
   "cell_type": "markdown",
   "metadata": {},
   "source": [
    "#### Fill in missing ages\n",
    "\n",
    "Take the average age by each title to fill in the missing ages. Use `title_clean` instead of `title` because there are some raw titles missing age data for its entire group. "
   ]
  },
  {
   "cell_type": "code",
   "execution_count": 17,
   "metadata": {},
   "outputs": [
    {
     "data": {
      "text/html": [
       "<div>\n",
       "<style scoped>\n",
       "    .dataframe tbody tr th:only-of-type {\n",
       "        vertical-align: middle;\n",
       "    }\n",
       "\n",
       "    .dataframe tbody tr th {\n",
       "        vertical-align: top;\n",
       "    }\n",
       "\n",
       "    .dataframe thead th {\n",
       "        text-align: right;\n",
       "    }\n",
       "</style>\n",
       "<table border=\"1\" class=\"dataframe\">\n",
       "  <thead>\n",
       "    <tr style=\"text-align: right;\">\n",
       "      <th></th>\n",
       "      <th>survived</th>\n",
       "      <th>pclass</th>\n",
       "      <th>name</th>\n",
       "      <th>sex</th>\n",
       "      <th>age</th>\n",
       "      <th>sibsp</th>\n",
       "      <th>parch</th>\n",
       "      <th>ticket</th>\n",
       "      <th>fare</th>\n",
       "      <th>cabin</th>\n",
       "      <th>embarked</th>\n",
       "      <th>last_name</th>\n",
       "      <th>title</th>\n",
       "      <th>title_clean</th>\n",
       "      <th>first_name</th>\n",
       "      <th>has_nickname</th>\n",
       "      <th>age_clean</th>\n",
       "    </tr>\n",
       "    <tr>\n",
       "      <th>PassengerId</th>\n",
       "      <th></th>\n",
       "      <th></th>\n",
       "      <th></th>\n",
       "      <th></th>\n",
       "      <th></th>\n",
       "      <th></th>\n",
       "      <th></th>\n",
       "      <th></th>\n",
       "      <th></th>\n",
       "      <th></th>\n",
       "      <th></th>\n",
       "      <th></th>\n",
       "      <th></th>\n",
       "      <th></th>\n",
       "      <th></th>\n",
       "      <th></th>\n",
       "      <th></th>\n",
       "    </tr>\n",
       "  </thead>\n",
       "  <tbody>\n",
       "    <tr>\n",
       "      <th>1305</th>\n",
       "      <td>NaN</td>\n",
       "      <td>3</td>\n",
       "      <td>Spector, Mr. Woolf</td>\n",
       "      <td>male</td>\n",
       "      <td>NaN</td>\n",
       "      <td>0</td>\n",
       "      <td>0</td>\n",
       "      <td>A.5. 3236</td>\n",
       "      <td>8.0500</td>\n",
       "      <td>NaN</td>\n",
       "      <td>S</td>\n",
       "      <td>Spector</td>\n",
       "      <td>Mr.</td>\n",
       "      <td>Mr.</td>\n",
       "      <td>Woolf</td>\n",
       "      <td>0</td>\n",
       "      <td>33.0</td>\n",
       "    </tr>\n",
       "    <tr>\n",
       "      <th>1306</th>\n",
       "      <td>NaN</td>\n",
       "      <td>1</td>\n",
       "      <td>Oliva y Ocana, Dona. Fermina</td>\n",
       "      <td>female</td>\n",
       "      <td>39.0</td>\n",
       "      <td>0</td>\n",
       "      <td>0</td>\n",
       "      <td>PC 17758</td>\n",
       "      <td>108.9000</td>\n",
       "      <td>C105</td>\n",
       "      <td>C</td>\n",
       "      <td>Oliva y Ocana</td>\n",
       "      <td>Dona.</td>\n",
       "      <td>Mrs.</td>\n",
       "      <td>Fermina</td>\n",
       "      <td>0</td>\n",
       "      <td>39.0</td>\n",
       "    </tr>\n",
       "    <tr>\n",
       "      <th>1307</th>\n",
       "      <td>NaN</td>\n",
       "      <td>3</td>\n",
       "      <td>Saether, Mr. Simon Sivertsen</td>\n",
       "      <td>male</td>\n",
       "      <td>38.5</td>\n",
       "      <td>0</td>\n",
       "      <td>0</td>\n",
       "      <td>SOTON/O.Q. 3101262</td>\n",
       "      <td>7.2500</td>\n",
       "      <td>NaN</td>\n",
       "      <td>S</td>\n",
       "      <td>Saether</td>\n",
       "      <td>Mr.</td>\n",
       "      <td>Mr.</td>\n",
       "      <td>Simon Sivertsen</td>\n",
       "      <td>0</td>\n",
       "      <td>38.5</td>\n",
       "    </tr>\n",
       "    <tr>\n",
       "      <th>1308</th>\n",
       "      <td>NaN</td>\n",
       "      <td>3</td>\n",
       "      <td>Ware, Mr. Frederick</td>\n",
       "      <td>male</td>\n",
       "      <td>NaN</td>\n",
       "      <td>0</td>\n",
       "      <td>0</td>\n",
       "      <td>359309</td>\n",
       "      <td>8.0500</td>\n",
       "      <td>NaN</td>\n",
       "      <td>S</td>\n",
       "      <td>Ware</td>\n",
       "      <td>Mr.</td>\n",
       "      <td>Mr.</td>\n",
       "      <td>Frederick</td>\n",
       "      <td>0</td>\n",
       "      <td>33.0</td>\n",
       "    </tr>\n",
       "    <tr>\n",
       "      <th>1309</th>\n",
       "      <td>NaN</td>\n",
       "      <td>3</td>\n",
       "      <td>Peter, Master. Michael J</td>\n",
       "      <td>male</td>\n",
       "      <td>NaN</td>\n",
       "      <td>1</td>\n",
       "      <td>1</td>\n",
       "      <td>2668</td>\n",
       "      <td>22.3583</td>\n",
       "      <td>NaN</td>\n",
       "      <td>C</td>\n",
       "      <td>Peter</td>\n",
       "      <td>Master.</td>\n",
       "      <td>Master.</td>\n",
       "      <td>Michael J</td>\n",
       "      <td>0</td>\n",
       "      <td>5.0</td>\n",
       "    </tr>\n",
       "  </tbody>\n",
       "</table>\n",
       "</div>"
      ],
      "text/plain": [
       "             survived  pclass                          name     sex   age  \\\n",
       "PassengerId                                                                 \n",
       "1305              NaN       3            Spector, Mr. Woolf    male   NaN   \n",
       "1306              NaN       1  Oliva y Ocana, Dona. Fermina  female  39.0   \n",
       "1307              NaN       3  Saether, Mr. Simon Sivertsen    male  38.5   \n",
       "1308              NaN       3           Ware, Mr. Frederick    male   NaN   \n",
       "1309              NaN       3      Peter, Master. Michael J    male   NaN   \n",
       "\n",
       "             sibsp  parch              ticket      fare cabin embarked  \\\n",
       "PassengerId                                                              \n",
       "1305             0      0           A.5. 3236    8.0500   NaN        S   \n",
       "1306             0      0            PC 17758  108.9000  C105        C   \n",
       "1307             0      0  SOTON/O.Q. 3101262    7.2500   NaN        S   \n",
       "1308             0      0              359309    8.0500   NaN        S   \n",
       "1309             1      1                2668   22.3583   NaN        C   \n",
       "\n",
       "                 last_name    title title_clean       first_name  \\\n",
       "PassengerId                                                        \n",
       "1305               Spector      Mr.         Mr.            Woolf   \n",
       "1306         Oliva y Ocana    Dona.        Mrs.          Fermina   \n",
       "1307               Saether      Mr.         Mr.  Simon Sivertsen   \n",
       "1308                  Ware      Mr.         Mr.        Frederick   \n",
       "1309                 Peter  Master.     Master.        Michael J   \n",
       "\n",
       "             has_nickname  age_clean  \n",
       "PassengerId                           \n",
       "1305                    0       33.0  \n",
       "1306                    0       39.0  \n",
       "1307                    0       38.5  \n",
       "1308                    0       33.0  \n",
       "1309                    0        5.0  "
      ]
     },
     "execution_count": 17,
     "metadata": {},
     "output_type": "execute_result"
    },
    {
     "data": {
      "application/javascript": [
       "\n",
       "            setTimeout(function() {\n",
       "                var nbb_cell_id = 17;\n",
       "                var nbb_unformatted_code = \"ages = (\\n    concat_df.groupby(\\\"title_clean\\\").mean().age.apply(lambda x: round(x)).reset_index()\\n)\\n\\nconcat_df = pd.merge(\\n    concat_df.reset_index(),\\n    ages,\\n    left_on=\\\"title_clean\\\",\\n    right_on=\\\"title_clean\\\",\\n    how=\\\"left\\\",\\n    suffixes=(\\\"\\\", \\\"_y\\\"),\\n).set_index(\\\"PassengerId\\\")\\n\\nconcat_df[\\\"age_clean\\\"] = concat_df[\\\"age\\\"].fillna(concat_df[\\\"age_y\\\"])\\nconcat_df.drop([\\\"age_y\\\"], axis=1, inplace=True)\\n\\nconcat_df.tail()\";\n",
       "                var nbb_formatted_code = \"ages = (\\n    concat_df.groupby(\\\"title_clean\\\").mean().age.apply(lambda x: round(x)).reset_index()\\n)\\n\\nconcat_df = pd.merge(\\n    concat_df.reset_index(),\\n    ages,\\n    left_on=\\\"title_clean\\\",\\n    right_on=\\\"title_clean\\\",\\n    how=\\\"left\\\",\\n    suffixes=(\\\"\\\", \\\"_y\\\"),\\n).set_index(\\\"PassengerId\\\")\\n\\nconcat_df[\\\"age_clean\\\"] = concat_df[\\\"age\\\"].fillna(concat_df[\\\"age_y\\\"])\\nconcat_df.drop([\\\"age_y\\\"], axis=1, inplace=True)\\n\\nconcat_df.tail()\";\n",
       "                var nbb_cells = Jupyter.notebook.get_cells();\n",
       "                for (var i = 0; i < nbb_cells.length; ++i) {\n",
       "                    if (nbb_cells[i].input_prompt_number == nbb_cell_id) {\n",
       "                        if (nbb_cells[i].get_text() == nbb_unformatted_code) {\n",
       "                             nbb_cells[i].set_text(nbb_formatted_code);\n",
       "                        }\n",
       "                        break;\n",
       "                    }\n",
       "                }\n",
       "            }, 500);\n",
       "            "
      ],
      "text/plain": [
       "<IPython.core.display.Javascript object>"
      ]
     },
     "metadata": {},
     "output_type": "display_data"
    }
   ],
   "source": [
    "ages = (\n",
    "    concat_df.groupby(\"title_clean\").mean().age.apply(lambda x: round(x)).reset_index()\n",
    ")\n",
    "\n",
    "concat_df = pd.merge(\n",
    "    concat_df.reset_index(),\n",
    "    ages,\n",
    "    left_on=\"title_clean\",\n",
    "    right_on=\"title_clean\",\n",
    "    how=\"left\",\n",
    "    suffixes=(\"\", \"_y\"),\n",
    ").set_index(\"PassengerId\")\n",
    "\n",
    "concat_df[\"age_clean\"] = concat_df[\"age\"].fillna(concat_df[\"age_y\"])\n",
    "concat_df.drop([\"age_y\"], axis=1, inplace=True)\n",
    "\n",
    "concat_df.tail()"
   ]
  },
  {
   "cell_type": "markdown",
   "metadata": {},
   "source": [
    "#### Extract Cabin\n",
    "\n",
    "Cabin might be a good predictor because it indicates the floor of the ship (distance from escaping)."
   ]
  },
  {
   "cell_type": "code",
   "execution_count": 18,
   "metadata": {},
   "outputs": [
    {
     "data": {
      "application/javascript": [
       "\n",
       "            setTimeout(function() {\n",
       "                var nbb_cell_id = 18;\n",
       "                var nbb_unformatted_code = \"def get_cabin_floor(cabin):\\n    if str(cabin) == \\\"nan\\\":\\n        return cabin\\n    else:\\n        return str(cabin)[0]\\n\\n\\nconcat_df[\\\"cabin_floor\\\"] = concat_df.cabin.apply(lambda x: get_cabin_floor(x))\";\n",
       "                var nbb_formatted_code = \"def get_cabin_floor(cabin):\\n    if str(cabin) == \\\"nan\\\":\\n        return cabin\\n    else:\\n        return str(cabin)[0]\\n\\n\\nconcat_df[\\\"cabin_floor\\\"] = concat_df.cabin.apply(lambda x: get_cabin_floor(x))\";\n",
       "                var nbb_cells = Jupyter.notebook.get_cells();\n",
       "                for (var i = 0; i < nbb_cells.length; ++i) {\n",
       "                    if (nbb_cells[i].input_prompt_number == nbb_cell_id) {\n",
       "                        if (nbb_cells[i].get_text() == nbb_unformatted_code) {\n",
       "                             nbb_cells[i].set_text(nbb_formatted_code);\n",
       "                        }\n",
       "                        break;\n",
       "                    }\n",
       "                }\n",
       "            }, 500);\n",
       "            "
      ],
      "text/plain": [
       "<IPython.core.display.Javascript object>"
      ]
     },
     "metadata": {},
     "output_type": "display_data"
    }
   ],
   "source": [
    "def get_cabin_floor(cabin):\n",
    "    if str(cabin) == \"nan\":\n",
    "        return cabin\n",
    "    else:\n",
    "        return str(cabin)[0]\n",
    "\n",
    "\n",
    "concat_df[\"cabin_floor\"] = concat_df.cabin.apply(lambda x: get_cabin_floor(x))"
   ]
  },
  {
   "cell_type": "code",
   "execution_count": 19,
   "metadata": {
    "scrolled": true
   },
   "outputs": [
    {
     "data": {
      "application/javascript": [
       "\n",
       "            setTimeout(function() {\n",
       "                var nbb_cell_id = 19;\n",
       "                var nbb_unformatted_code = \"def get_cabin_room(cabin):\\n    if str(cabin) == \\\"nan\\\":\\n        return cabin\\n    else:\\n        return cabin.split()[-1:][0][1:]\\n\\n\\nconcat_df[\\\"cabin_room\\\"] = concat_df.cabin.apply(lambda x: get_cabin_room(x))\\nconcat_df[\\\"cabin_room\\\"] = concat_df[\\\"cabin_room\\\"].replace(\\\"\\\", np.nan)\\nconcat_df[\\\"cabin_room\\\"] = concat_df[\\\"cabin_room\\\"].astype(\\\"float\\\")\\nconcat_df[\\\"has_cabin_info\\\"] = pd.DataFrame(~concat_df.cabin.isna()).astype(int)\";\n",
       "                var nbb_formatted_code = \"def get_cabin_room(cabin):\\n    if str(cabin) == \\\"nan\\\":\\n        return cabin\\n    else:\\n        return cabin.split()[-1:][0][1:]\\n\\n\\nconcat_df[\\\"cabin_room\\\"] = concat_df.cabin.apply(lambda x: get_cabin_room(x))\\nconcat_df[\\\"cabin_room\\\"] = concat_df[\\\"cabin_room\\\"].replace(\\\"\\\", np.nan)\\nconcat_df[\\\"cabin_room\\\"] = concat_df[\\\"cabin_room\\\"].astype(\\\"float\\\")\\nconcat_df[\\\"has_cabin_info\\\"] = pd.DataFrame(~concat_df.cabin.isna()).astype(int)\";\n",
       "                var nbb_cells = Jupyter.notebook.get_cells();\n",
       "                for (var i = 0; i < nbb_cells.length; ++i) {\n",
       "                    if (nbb_cells[i].input_prompt_number == nbb_cell_id) {\n",
       "                        if (nbb_cells[i].get_text() == nbb_unformatted_code) {\n",
       "                             nbb_cells[i].set_text(nbb_formatted_code);\n",
       "                        }\n",
       "                        break;\n",
       "                    }\n",
       "                }\n",
       "            }, 500);\n",
       "            "
      ],
      "text/plain": [
       "<IPython.core.display.Javascript object>"
      ]
     },
     "metadata": {},
     "output_type": "display_data"
    }
   ],
   "source": [
    "def get_cabin_room(cabin):\n",
    "    if str(cabin) == \"nan\":\n",
    "        return cabin\n",
    "    else:\n",
    "        return cabin.split()[-1:][0][1:]\n",
    "\n",
    "\n",
    "concat_df[\"cabin_room\"] = concat_df.cabin.apply(lambda x: get_cabin_room(x))\n",
    "concat_df[\"cabin_room\"] = concat_df[\"cabin_room\"].replace(\"\", np.nan)\n",
    "concat_df[\"cabin_room\"] = concat_df[\"cabin_room\"].astype(\"float\")\n",
    "concat_df[\"has_cabin_info\"] = pd.DataFrame(~concat_df.cabin.isna()).astype(int)"
   ]
  },
  {
   "cell_type": "markdown",
   "metadata": {},
   "source": [
    "#### Fill in missing fare\n",
    "\n",
    "Fill in missing fare based on pclass."
   ]
  },
  {
   "cell_type": "code",
   "execution_count": 20,
   "metadata": {},
   "outputs": [
    {
     "data": {
      "text/html": [
       "<div>\n",
       "<style scoped>\n",
       "    .dataframe tbody tr th:only-of-type {\n",
       "        vertical-align: middle;\n",
       "    }\n",
       "\n",
       "    .dataframe tbody tr th {\n",
       "        vertical-align: top;\n",
       "    }\n",
       "\n",
       "    .dataframe thead th {\n",
       "        text-align: right;\n",
       "    }\n",
       "</style>\n",
       "<table border=\"1\" class=\"dataframe\">\n",
       "  <thead>\n",
       "    <tr style=\"text-align: right;\">\n",
       "      <th></th>\n",
       "      <th>survived</th>\n",
       "      <th>pclass</th>\n",
       "      <th>name</th>\n",
       "      <th>sex</th>\n",
       "      <th>age</th>\n",
       "      <th>sibsp</th>\n",
       "      <th>parch</th>\n",
       "      <th>ticket</th>\n",
       "      <th>fare</th>\n",
       "      <th>cabin</th>\n",
       "      <th>embarked</th>\n",
       "      <th>last_name</th>\n",
       "      <th>title</th>\n",
       "      <th>title_clean</th>\n",
       "      <th>first_name</th>\n",
       "      <th>has_nickname</th>\n",
       "      <th>age_clean</th>\n",
       "      <th>cabin_floor</th>\n",
       "      <th>cabin_room</th>\n",
       "      <th>has_cabin_info</th>\n",
       "    </tr>\n",
       "    <tr>\n",
       "      <th>PassengerId</th>\n",
       "      <th></th>\n",
       "      <th></th>\n",
       "      <th></th>\n",
       "      <th></th>\n",
       "      <th></th>\n",
       "      <th></th>\n",
       "      <th></th>\n",
       "      <th></th>\n",
       "      <th></th>\n",
       "      <th></th>\n",
       "      <th></th>\n",
       "      <th></th>\n",
       "      <th></th>\n",
       "      <th></th>\n",
       "      <th></th>\n",
       "      <th></th>\n",
       "      <th></th>\n",
       "      <th></th>\n",
       "      <th></th>\n",
       "      <th></th>\n",
       "    </tr>\n",
       "  </thead>\n",
       "  <tbody>\n",
       "    <tr>\n",
       "      <th>1044</th>\n",
       "      <td>NaN</td>\n",
       "      <td>3</td>\n",
       "      <td>Storey, Mr. Thomas</td>\n",
       "      <td>male</td>\n",
       "      <td>60.5</td>\n",
       "      <td>0</td>\n",
       "      <td>0</td>\n",
       "      <td>3701</td>\n",
       "      <td>NaN</td>\n",
       "      <td>NaN</td>\n",
       "      <td>S</td>\n",
       "      <td>Storey</td>\n",
       "      <td>Mr.</td>\n",
       "      <td>Mr.</td>\n",
       "      <td>Thomas</td>\n",
       "      <td>0</td>\n",
       "      <td>60.5</td>\n",
       "      <td>NaN</td>\n",
       "      <td>NaN</td>\n",
       "      <td>0</td>\n",
       "    </tr>\n",
       "  </tbody>\n",
       "</table>\n",
       "</div>"
      ],
      "text/plain": [
       "             survived  pclass                name   sex   age  sibsp  parch  \\\n",
       "PassengerId                                                                   \n",
       "1044              NaN       3  Storey, Mr. Thomas  male  60.5      0      0   \n",
       "\n",
       "            ticket  fare cabin embarked last_name title title_clean  \\\n",
       "PassengerId                                                           \n",
       "1044          3701   NaN   NaN        S    Storey   Mr.         Mr.   \n",
       "\n",
       "            first_name  has_nickname  age_clean cabin_floor  cabin_room  \\\n",
       "PassengerId                                                               \n",
       "1044            Thomas             0       60.5         NaN         NaN   \n",
       "\n",
       "             has_cabin_info  \n",
       "PassengerId                  \n",
       "1044                      0  "
      ]
     },
     "execution_count": 20,
     "metadata": {},
     "output_type": "execute_result"
    },
    {
     "data": {
      "application/javascript": [
       "\n",
       "            setTimeout(function() {\n",
       "                var nbb_cell_id = 20;\n",
       "                var nbb_unformatted_code = \"# Find which record has missing fare\\nconcat_df[concat_df.fare.isna()]\";\n",
       "                var nbb_formatted_code = \"# Find which record has missing fare\\nconcat_df[concat_df.fare.isna()]\";\n",
       "                var nbb_cells = Jupyter.notebook.get_cells();\n",
       "                for (var i = 0; i < nbb_cells.length; ++i) {\n",
       "                    if (nbb_cells[i].input_prompt_number == nbb_cell_id) {\n",
       "                        if (nbb_cells[i].get_text() == nbb_unformatted_code) {\n",
       "                             nbb_cells[i].set_text(nbb_formatted_code);\n",
       "                        }\n",
       "                        break;\n",
       "                    }\n",
       "                }\n",
       "            }, 500);\n",
       "            "
      ],
      "text/plain": [
       "<IPython.core.display.Javascript object>"
      ]
     },
     "metadata": {},
     "output_type": "display_data"
    }
   ],
   "source": [
    "# Find which record has missing fare\n",
    "concat_df[concat_df.fare.isna()]"
   ]
  },
  {
   "cell_type": "code",
   "execution_count": 21,
   "metadata": {},
   "outputs": [
    {
     "data": {
      "text/plain": [
       "<matplotlib.axes._subplots.AxesSubplot at 0x1a27786c50>"
      ]
     },
     "execution_count": 21,
     "metadata": {},
     "output_type": "execute_result"
    },
    {
     "data": {
      "image/png": "[encoded data removed]",
      "text/plain": [
       "<Figure size 432x288 with 1 Axes>"
      ]
     },
     "metadata": {
      "needs_background": "light"
     },
     "output_type": "display_data"
    },
    {
     "data": {
      "application/javascript": [
       "\n",
       "            setTimeout(function() {\n",
       "                var nbb_cell_id = 21;\n",
       "                var nbb_unformatted_code = \"# Plot distribution\\nconcat_df[concat_df.pclass == 3].fare.hist()\";\n",
       "                var nbb_formatted_code = \"# Plot distribution\\nconcat_df[concat_df.pclass == 3].fare.hist()\";\n",
       "                var nbb_cells = Jupyter.notebook.get_cells();\n",
       "                for (var i = 0; i < nbb_cells.length; ++i) {\n",
       "                    if (nbb_cells[i].input_prompt_number == nbb_cell_id) {\n",
       "                        if (nbb_cells[i].get_text() == nbb_unformatted_code) {\n",
       "                             nbb_cells[i].set_text(nbb_formatted_code);\n",
       "                        }\n",
       "                        break;\n",
       "                    }\n",
       "                }\n",
       "            }, 500);\n",
       "            "
      ],
      "text/plain": [
       "<IPython.core.display.Javascript object>"
      ]
     },
     "metadata": {},
     "output_type": "display_data"
    }
   ],
   "source": [
    "# Plot distribution\n",
    "concat_df[concat_df.pclass == 3].fare.hist()"
   ]
  },
  {
   "cell_type": "code",
   "execution_count": 22,
   "metadata": {
    "scrolled": true
   },
   "outputs": [
    {
     "data": {
      "text/plain": [
       "8.05"
      ]
     },
     "execution_count": 22,
     "metadata": {},
     "output_type": "execute_result"
    },
    {
     "data": {
      "application/javascript": [
       "\n",
       "            setTimeout(function() {\n",
       "                var nbb_cell_id = 22;\n",
       "                var nbb_unformatted_code = \"# Since distribution is skewed right, use the median\\nconcat_df.at[1044, \\\"fare\\\"] = concat_df[concat_df.pclass == 3].fare.median()\\n\\n# Check\\nconcat_df[\\\"fare\\\"][1044]\";\n",
       "                var nbb_formatted_code = \"# Since distribution is skewed right, use the median\\nconcat_df.at[1044, \\\"fare\\\"] = concat_df[concat_df.pclass == 3].fare.median()\\n\\n# Check\\nconcat_df[\\\"fare\\\"][1044]\";\n",
       "                var nbb_cells = Jupyter.notebook.get_cells();\n",
       "                for (var i = 0; i < nbb_cells.length; ++i) {\n",
       "                    if (nbb_cells[i].input_prompt_number == nbb_cell_id) {\n",
       "                        if (nbb_cells[i].get_text() == nbb_unformatted_code) {\n",
       "                             nbb_cells[i].set_text(nbb_formatted_code);\n",
       "                        }\n",
       "                        break;\n",
       "                    }\n",
       "                }\n",
       "            }, 500);\n",
       "            "
      ],
      "text/plain": [
       "<IPython.core.display.Javascript object>"
      ]
     },
     "metadata": {},
     "output_type": "display_data"
    }
   ],
   "source": [
    "# Since distribution is skewed right, use the median\n",
    "concat_df.at[1044, \"fare\"] = concat_df[concat_df.pclass == 3].fare.median()\n",
    "\n",
    "# Check\n",
    "concat_df[\"fare\"][1044]"
   ]
  },
  {
   "cell_type": "markdown",
   "metadata": {},
   "source": [
    "#### Fill in missing port (embarked)"
   ]
  },
  {
   "cell_type": "markdown",
   "metadata": {},
   "source": [
    "Use the port from which the majority of passengers came."
   ]
  },
  {
   "cell_type": "code",
   "execution_count": 23,
   "metadata": {},
   "outputs": [
    {
     "data": {
      "text/plain": [
       "embarked\n",
       "C    168\n",
       "Q     77\n",
       "S    644\n",
       "Name: survived, dtype: int64"
      ]
     },
     "execution_count": 23,
     "metadata": {},
     "output_type": "execute_result"
    },
    {
     "data": {
      "application/javascript": [
       "\n",
       "            setTimeout(function() {\n",
       "                var nbb_cell_id = 23;\n",
       "                var nbb_unformatted_code = \"# Find port with highest volume\\nconcat_df.groupby(\\\"embarked\\\").count().iloc[:, 0]\";\n",
       "                var nbb_formatted_code = \"# Find port with highest volume\\nconcat_df.groupby(\\\"embarked\\\").count().iloc[:, 0]\";\n",
       "                var nbb_cells = Jupyter.notebook.get_cells();\n",
       "                for (var i = 0; i < nbb_cells.length; ++i) {\n",
       "                    if (nbb_cells[i].input_prompt_number == nbb_cell_id) {\n",
       "                        if (nbb_cells[i].get_text() == nbb_unformatted_code) {\n",
       "                             nbb_cells[i].set_text(nbb_formatted_code);\n",
       "                        }\n",
       "                        break;\n",
       "                    }\n",
       "                }\n",
       "            }, 500);\n",
       "            "
      ],
      "text/plain": [
       "<IPython.core.display.Javascript object>"
      ]
     },
     "metadata": {},
     "output_type": "display_data"
    }
   ],
   "source": [
    "# Find port with highest volume\n",
    "concat_df.groupby(\"embarked\").count().iloc[:, 0]"
   ]
  },
  {
   "cell_type": "code",
   "execution_count": 24,
   "metadata": {},
   "outputs": [
    {
     "data": {
      "text/html": [
       "<div>\n",
       "<style scoped>\n",
       "    .dataframe tbody tr th:only-of-type {\n",
       "        vertical-align: middle;\n",
       "    }\n",
       "\n",
       "    .dataframe tbody tr th {\n",
       "        vertical-align: top;\n",
       "    }\n",
       "\n",
       "    .dataframe thead th {\n",
       "        text-align: right;\n",
       "    }\n",
       "</style>\n",
       "<table border=\"1\" class=\"dataframe\">\n",
       "  <thead>\n",
       "    <tr style=\"text-align: right;\">\n",
       "      <th></th>\n",
       "      <th>survived</th>\n",
       "      <th>pclass</th>\n",
       "      <th>name</th>\n",
       "      <th>sex</th>\n",
       "      <th>age</th>\n",
       "      <th>sibsp</th>\n",
       "      <th>parch</th>\n",
       "      <th>ticket</th>\n",
       "      <th>fare</th>\n",
       "      <th>cabin</th>\n",
       "      <th>embarked</th>\n",
       "      <th>last_name</th>\n",
       "      <th>title</th>\n",
       "      <th>title_clean</th>\n",
       "      <th>first_name</th>\n",
       "      <th>has_nickname</th>\n",
       "      <th>age_clean</th>\n",
       "      <th>cabin_floor</th>\n",
       "      <th>cabin_room</th>\n",
       "      <th>has_cabin_info</th>\n",
       "    </tr>\n",
       "    <tr>\n",
       "      <th>PassengerId</th>\n",
       "      <th></th>\n",
       "      <th></th>\n",
       "      <th></th>\n",
       "      <th></th>\n",
       "      <th></th>\n",
       "      <th></th>\n",
       "      <th></th>\n",
       "      <th></th>\n",
       "      <th></th>\n",
       "      <th></th>\n",
       "      <th></th>\n",
       "      <th></th>\n",
       "      <th></th>\n",
       "      <th></th>\n",
       "      <th></th>\n",
       "      <th></th>\n",
       "      <th></th>\n",
       "      <th></th>\n",
       "      <th></th>\n",
       "      <th></th>\n",
       "    </tr>\n",
       "  </thead>\n",
       "  <tbody>\n",
       "  </tbody>\n",
       "</table>\n",
       "</div>"
      ],
      "text/plain": [
       "Empty DataFrame\n",
       "Columns: [survived, pclass, name, sex, age, sibsp, parch, ticket, fare, cabin, embarked, last_name, title, title_clean, first_name, has_nickname, age_clean, cabin_floor, cabin_room, has_cabin_info]\n",
       "Index: []"
      ]
     },
     "execution_count": 24,
     "metadata": {},
     "output_type": "execute_result"
    },
    {
     "data": {
      "application/javascript": [
       "\n",
       "            setTimeout(function() {\n",
       "                var nbb_cell_id = 24;\n",
       "                var nbb_unformatted_code = \"# Fill in missing embarked with \\\"S\\\"\\nfor i in concat_df[concat_df.embarked.isna()].index:\\n    concat_df.at[i, \\\"embarked\\\"] = \\\"S\\\"\\n\\n# Check\\nconcat_df[concat_df.embarked.isna()]\";\n",
       "                var nbb_formatted_code = \"# Fill in missing embarked with \\\"S\\\"\\nfor i in concat_df[concat_df.embarked.isna()].index:\\n    concat_df.at[i, \\\"embarked\\\"] = \\\"S\\\"\\n\\n# Check\\nconcat_df[concat_df.embarked.isna()]\";\n",
       "                var nbb_cells = Jupyter.notebook.get_cells();\n",
       "                for (var i = 0; i < nbb_cells.length; ++i) {\n",
       "                    if (nbb_cells[i].input_prompt_number == nbb_cell_id) {\n",
       "                        if (nbb_cells[i].get_text() == nbb_unformatted_code) {\n",
       "                             nbb_cells[i].set_text(nbb_formatted_code);\n",
       "                        }\n",
       "                        break;\n",
       "                    }\n",
       "                }\n",
       "            }, 500);\n",
       "            "
      ],
      "text/plain": [
       "<IPython.core.display.Javascript object>"
      ]
     },
     "metadata": {},
     "output_type": "display_data"
    }
   ],
   "source": [
    "# Fill in missing embarked with \"S\"\n",
    "for i in concat_df[concat_df.embarked.isna()].index:\n",
    "    concat_df.at[i, \"embarked\"] = \"S\"\n",
    "\n",
    "# Check\n",
    "concat_df[concat_df.embarked.isna()]"
   ]
  },
  {
   "cell_type": "markdown",
   "metadata": {},
   "source": [
    "#### Create feature for family members"
   ]
  },
  {
   "cell_type": "code",
   "execution_count": 25,
   "metadata": {},
   "outputs": [
    {
     "data": {
      "application/javascript": [
       "\n",
       "            setTimeout(function() {\n",
       "                var nbb_cell_id = 25;\n",
       "                var nbb_unformatted_code = \"# Create family_members feature\\nconcat_df[\\\"family_members\\\"] = concat_df.sibsp + concat_df.parch\";\n",
       "                var nbb_formatted_code = \"# Create family_members feature\\nconcat_df[\\\"family_members\\\"] = concat_df.sibsp + concat_df.parch\";\n",
       "                var nbb_cells = Jupyter.notebook.get_cells();\n",
       "                for (var i = 0; i < nbb_cells.length; ++i) {\n",
       "                    if (nbb_cells[i].input_prompt_number == nbb_cell_id) {\n",
       "                        if (nbb_cells[i].get_text() == nbb_unformatted_code) {\n",
       "                             nbb_cells[i].set_text(nbb_formatted_code);\n",
       "                        }\n",
       "                        break;\n",
       "                    }\n",
       "                }\n",
       "            }, 500);\n",
       "            "
      ],
      "text/plain": [
       "<IPython.core.display.Javascript object>"
      ]
     },
     "metadata": {},
     "output_type": "display_data"
    }
   ],
   "source": [
    "# Create family_members feature\n",
    "concat_df[\"family_members\"] = concat_df.sibsp + concat_df.parch"
   ]
  },
  {
   "cell_type": "markdown",
   "metadata": {},
   "source": [
    "#### Cleaning data summary\n",
    "\n",
    "* Extracted title, first name, last name, and nickname-flag from `name`\n",
    "* Filled in missing ages by using the average `age` for a given title  \n",
    "* Extracted cabin floor and room from `cabin`\n",
    "* Filled in missing `fare` by using the median fare price for the given pclass\n",
    "* Filled in missing `embarked` with the port with highest volume (\"S\")\n",
    "* Created feature for `family_members`"
   ]
  },
  {
   "cell_type": "markdown",
   "metadata": {},
   "source": [
    "<a id=\"explore\"></a>\n",
    "## Exploring data"
   ]
  },
  {
   "cell_type": "markdown",
   "metadata": {},
   "source": [
    "**Questions**\n",
    "* What is survivability by the following factors?\n",
    "  * `age` (numerical)\n",
    "  * `sex` (categorical, nominal)\n",
    "  * `title` (categorical, nominal)\n",
    "  * `has_nickname` (categorical, nominal)\n",
    "  * `cabin` (categorical, ordinal)\n",
    "  * `pclass` (categorical, ordinal)\n",
    "  * `embarked` (categorical, nominal)\n",
    "  * `sibsp` (numerical)\n",
    "  * `parch` (numerical)\n",
    "  * `family_members` (numerical)\n",
    "* What is the correlation between these factors (e.g. pclass + cabin)?"
   ]
  },
  {
   "cell_type": "code",
   "execution_count": 26,
   "metadata": {},
   "outputs": [
    {
     "data": {
      "application/javascript": [
       "\n",
       "            setTimeout(function() {\n",
       "                var nbb_cell_id = 26;\n",
       "                var nbb_unformatted_code = \"# Only use training data for exploratory analysis\\nexplore_df = concat_df[~concat_df.survived.isna()]\";\n",
       "                var nbb_formatted_code = \"# Only use training data for exploratory analysis\\nexplore_df = concat_df[~concat_df.survived.isna()]\";\n",
       "                var nbb_cells = Jupyter.notebook.get_cells();\n",
       "                for (var i = 0; i < nbb_cells.length; ++i) {\n",
       "                    if (nbb_cells[i].input_prompt_number == nbb_cell_id) {\n",
       "                        if (nbb_cells[i].get_text() == nbb_unformatted_code) {\n",
       "                             nbb_cells[i].set_text(nbb_formatted_code);\n",
       "                        }\n",
       "                        break;\n",
       "                    }\n",
       "                }\n",
       "            }, 500);\n",
       "            "
      ],
      "text/plain": [
       "<IPython.core.display.Javascript object>"
      ]
     },
     "metadata": {},
     "output_type": "display_data"
    }
   ],
   "source": [
    "# Only use training data for exploratory analysis\n",
    "explore_df = concat_df[~concat_df.survived.isna()]"
   ]
  },
  {
   "cell_type": "code",
   "execution_count": 27,
   "metadata": {},
   "outputs": [
    {
     "name": "stderr",
     "output_type": "stream",
     "text": [
      "/Users/sarinachen/opt/anaconda3/lib/python3.7/site-packages/ipykernel_launcher.py:2: SettingWithCopyWarning: \n",
      "A value is trying to be set on a copy of a slice from a DataFrame.\n",
      "Try using .loc[row_indexer,col_indexer] = value instead\n",
      "\n",
      "See the caveats in the documentation: https://pandas.pydata.org/pandas-docs/stable/user_guide/indexing.html#returning-a-view-versus-a-copy\n",
      "  \n",
      "/Users/sarinachen/opt/anaconda3/lib/python3.7/site-packages/ipykernel_launcher.py:4: SettingWithCopyWarning: \n",
      "A value is trying to be set on a copy of a slice from a DataFrame.\n",
      "Try using .loc[row_indexer,col_indexer] = value instead\n",
      "\n",
      "See the caveats in the documentation: https://pandas.pydata.org/pandas-docs/stable/user_guide/indexing.html#returning-a-view-versus-a-copy\n",
      "  after removing the cwd from sys.path.\n"
     ]
    },
    {
     "data": {
      "application/javascript": [
       "\n",
       "            setTimeout(function() {\n",
       "                var nbb_cell_id = 27;\n",
       "                var nbb_unformatted_code = \"# Create bin for ages and fares\\nexplore_df[\\\"age_bin\\\"] = explore_df.apply(lambda x: 5 * round(x.age_clean / 5), axis=1)\\nexplore_df[\\\"fare_bin\\\"] = explore_df.apply(\\n    lambda x: 10 * round(x.age_clean / 10), axis=1\\n)\";\n",
       "                var nbb_formatted_code = \"# Create bin for ages and fares\\nexplore_df[\\\"age_bin\\\"] = explore_df.apply(lambda x: 5 * round(x.age_clean / 5), axis=1)\\nexplore_df[\\\"fare_bin\\\"] = explore_df.apply(\\n    lambda x: 10 * round(x.age_clean / 10), axis=1\\n)\";\n",
       "                var nbb_cells = Jupyter.notebook.get_cells();\n",
       "                for (var i = 0; i < nbb_cells.length; ++i) {\n",
       "                    if (nbb_cells[i].input_prompt_number == nbb_cell_id) {\n",
       "                        if (nbb_cells[i].get_text() == nbb_unformatted_code) {\n",
       "                             nbb_cells[i].set_text(nbb_formatted_code);\n",
       "                        }\n",
       "                        break;\n",
       "                    }\n",
       "                }\n",
       "            }, 500);\n",
       "            "
      ],
      "text/plain": [
       "<IPython.core.display.Javascript object>"
      ]
     },
     "metadata": {},
     "output_type": "display_data"
    }
   ],
   "source": [
    "# Create bin for ages and fares\n",
    "explore_df[\"age_bin\"] = explore_df.apply(lambda x: 5 * round(x.age_clean / 5), axis=1)\n",
    "explore_df[\"fare_bin\"] = explore_df.apply(\n",
    "    lambda x: 10 * round(x.age_clean / 10), axis=1\n",
    ")"
   ]
  },
  {
   "cell_type": "markdown",
   "metadata": {},
   "source": [
    "Look at survivability and distribution for numerical features."
   ]
  },
  {
   "cell_type": "code",
   "execution_count": 28,
   "metadata": {},
   "outputs": [
    {
     "data": {
      "image/png": "[encoded data removed]",
      "text/plain": [
       "<Figure size 720x216 with 5 Axes>"
      ]
     },
     "metadata": {
      "needs_background": "light"
     },
     "output_type": "display_data"
    },
    {
     "data": {
      "application/javascript": [
       "\n",
       "            setTimeout(function() {\n",
       "                var nbb_cell_id = 28;\n",
       "                var nbb_unformatted_code = \"# Plot distribution with a survival rate breakdown\\n\\nfeatures = [\\\"age_bin\\\", \\\"sibsp\\\", \\\"parch\\\", \\\"family_members\\\", \\\"fare_bin\\\"]\\n\\nfig, axes = plt.subplots(1, 5, figsize=[10, 3])\\n\\nfor i, feature in enumerate(features):\\n\\n    ax = axes[i]\\n\\n    # Set width\\n    if feature == \\\"age_bin\\\" or feature == \\\"fare_bin\\\":\\n        width = 4\\n    else:\\n        width = 0.8\\n\\n    # Plot total (background)\\n    p = (\\n        explore_df.groupby(feature)\\n        .count()\\n        .iloc[:, 0]\\n        .reset_index()\\n        .sort_values(by=feature)\\n    )\\n    p.columns = [feature, \\\"counts\\\"]\\n\\n    ax.bar(x=p[feature], height=p.counts, color=\\\"#d7d1db\\\", width=width)\\n\\n    # Plot survived (overlay with filtered data)\\n    p = (\\n        explore_df[explore_df.survived == 1]\\n        .groupby(feature)\\n        .count()\\n        .iloc[:, 0]\\n        .reset_index()\\n        .sort_values(by=feature)\\n    )\\n    p.columns = [feature, \\\"counts\\\"]\\n\\n    ax.bar(x=p[feature], height=p.counts, color=\\\"#889bcf\\\", width=width)\\n\\n    # Title\\n    ax.set_title(feature)\\n\\naxes[0].set_ylabel(\\\"Number of Passengers\\\")\\naxes[4].legend([\\\"Passed\\\", \\\"Survived\\\"], loc=[1.1, 0.6])\\n\\nfig.tight_layout()\\nplt.show()\";\n",
       "                var nbb_formatted_code = \"# Plot distribution with a survival rate breakdown\\n\\nfeatures = [\\\"age_bin\\\", \\\"sibsp\\\", \\\"parch\\\", \\\"family_members\\\", \\\"fare_bin\\\"]\\n\\nfig, axes = plt.subplots(1, 5, figsize=[10, 3])\\n\\nfor i, feature in enumerate(features):\\n\\n    ax = axes[i]\\n\\n    # Set width\\n    if feature == \\\"age_bin\\\" or feature == \\\"fare_bin\\\":\\n        width = 4\\n    else:\\n        width = 0.8\\n\\n    # Plot total (background)\\n    p = (\\n        explore_df.groupby(feature)\\n        .count()\\n        .iloc[:, 0]\\n        .reset_index()\\n        .sort_values(by=feature)\\n    )\\n    p.columns = [feature, \\\"counts\\\"]\\n\\n    ax.bar(x=p[feature], height=p.counts, color=\\\"#d7d1db\\\", width=width)\\n\\n    # Plot survived (overlay with filtered data)\\n    p = (\\n        explore_df[explore_df.survived == 1]\\n        .groupby(feature)\\n        .count()\\n        .iloc[:, 0]\\n        .reset_index()\\n        .sort_values(by=feature)\\n    )\\n    p.columns = [feature, \\\"counts\\\"]\\n\\n    ax.bar(x=p[feature], height=p.counts, color=\\\"#889bcf\\\", width=width)\\n\\n    # Title\\n    ax.set_title(feature)\\n\\naxes[0].set_ylabel(\\\"Number of Passengers\\\")\\naxes[4].legend([\\\"Passed\\\", \\\"Survived\\\"], loc=[1.1, 0.6])\\n\\nfig.tight_layout()\\nplt.show()\";\n",
       "                var nbb_cells = Jupyter.notebook.get_cells();\n",
       "                for (var i = 0; i < nbb_cells.length; ++i) {\n",
       "                    if (nbb_cells[i].input_prompt_number == nbb_cell_id) {\n",
       "                        if (nbb_cells[i].get_text() == nbb_unformatted_code) {\n",
       "                             nbb_cells[i].set_text(nbb_formatted_code);\n",
       "                        }\n",
       "                        break;\n",
       "                    }\n",
       "                }\n",
       "            }, 500);\n",
       "            "
      ],
      "text/plain": [
       "<IPython.core.display.Javascript object>"
      ]
     },
     "metadata": {},
     "output_type": "display_data"
    }
   ],
   "source": [
    "# Plot distribution with a survival rate breakdown\n",
    "\n",
    "features = [\"age_bin\", \"sibsp\", \"parch\", \"family_members\", \"fare_bin\"]\n",
    "\n",
    "fig, axes = plt.subplots(1, 5, figsize=[10, 3])\n",
    "\n",
    "for i, feature in enumerate(features):\n",
    "\n",
    "    ax = axes[i]\n",
    "\n",
    "    # Set width\n",
    "    if feature == \"age_bin\" or feature == \"fare_bin\":\n",
    "        width = 4\n",
    "    else:\n",
    "        width = 0.8\n",
    "\n",
    "    # Plot total (background)\n",
    "    p = (\n",
    "        explore_df.groupby(feature)\n",
    "        .count()\n",
    "        .iloc[:, 0]\n",
    "        .reset_index()\n",
    "        .sort_values(by=feature)\n",
    "    )\n",
    "    p.columns = [feature, \"counts\"]\n",
    "\n",
    "    ax.bar(x=p[feature], height=p.counts, color=\"#d7d1db\", width=width)\n",
    "\n",
    "    # Plot survived (overlay with filtered data)\n",
    "    p = (\n",
    "        explore_df[explore_df.survived == 1]\n",
    "        .groupby(feature)\n",
    "        .count()\n",
    "        .iloc[:, 0]\n",
    "        .reset_index()\n",
    "        .sort_values(by=feature)\n",
    "    )\n",
    "    p.columns = [feature, \"counts\"]\n",
    "\n",
    "    ax.bar(x=p[feature], height=p.counts, color=\"#889bcf\", width=width)\n",
    "\n",
    "    # Title\n",
    "    ax.set_title(feature)\n",
    "\n",
    "axes[0].set_ylabel(\"Number of Passengers\")\n",
    "axes[4].legend([\"Passed\", \"Survived\"], loc=[1.1, 0.6])\n",
    "\n",
    "fig.tight_layout()\n",
    "plt.show()"
   ]
  },
  {
   "cell_type": "code",
   "execution_count": 29,
   "metadata": {},
   "outputs": [
    {
     "data": {
      "image/png": "[encoded data removed]",
      "text/plain": [
       "<Figure size 720x216 with 5 Axes>"
      ]
     },
     "metadata": {
      "needs_background": "light"
     },
     "output_type": "display_data"
    },
    {
     "data": {
      "application/javascript": [
       "\n",
       "            setTimeout(function() {\n",
       "                var nbb_cell_id = 29;\n",
       "                var nbb_unformatted_code = \"# Plot survival rate breakdown (because survivability rate was hard to read with the charts above)\\n\\nfeatures = [\\\"age_bin\\\", \\\"sibsp\\\", \\\"parch\\\", \\\"family_members\\\", \\\"fare_bin\\\"]\\n\\nfig, axes = plt.subplots(1, 5, figsize=[10, 3])\\n\\nfor i, feature in enumerate(features):\\n\\n    ax = axes[i]\\n\\n    # Set width\\n    if feature == \\\"age_bin\\\" or feature == \\\"fare_bin\\\":\\n        width = 4\\n    else:\\n        width = 0.8\\n\\n    # Plot survived (overlay with filtered data)\\n    p = (\\n        explore_df.groupby(feature)\\n        .mean()\\n        .iloc[:, 0]\\n        .reset_index()\\n        .sort_values(by=feature)\\n    )\\n    p.columns = [feature, \\\"pct\\\"]\\n\\n    ax.bar(x=p[feature], height=p.pct, color=\\\"#d7d1db\\\", width=width)\\n\\n    # Title\\n    ax.set_title(feature)\\n    ax.set_ylim([0, 1])\\n\\naxes[0].set_ylabel(\\\"Percentage of Passengers\\\")\\naxes[4].legend([\\\"Survivability Rate\\\"], loc=[1.1, 0.6])\\n\\nfig.tight_layout()\\nplt.show()\";\n",
       "                var nbb_formatted_code = \"# Plot survival rate breakdown (because survivability rate was hard to read with the charts above)\\n\\nfeatures = [\\\"age_bin\\\", \\\"sibsp\\\", \\\"parch\\\", \\\"family_members\\\", \\\"fare_bin\\\"]\\n\\nfig, axes = plt.subplots(1, 5, figsize=[10, 3])\\n\\nfor i, feature in enumerate(features):\\n\\n    ax = axes[i]\\n\\n    # Set width\\n    if feature == \\\"age_bin\\\" or feature == \\\"fare_bin\\\":\\n        width = 4\\n    else:\\n        width = 0.8\\n\\n    # Plot survived (overlay with filtered data)\\n    p = (\\n        explore_df.groupby(feature)\\n        .mean()\\n        .iloc[:, 0]\\n        .reset_index()\\n        .sort_values(by=feature)\\n    )\\n    p.columns = [feature, \\\"pct\\\"]\\n\\n    ax.bar(x=p[feature], height=p.pct, color=\\\"#d7d1db\\\", width=width)\\n\\n    # Title\\n    ax.set_title(feature)\\n    ax.set_ylim([0, 1])\\n\\naxes[0].set_ylabel(\\\"Percentage of Passengers\\\")\\naxes[4].legend([\\\"Survivability Rate\\\"], loc=[1.1, 0.6])\\n\\nfig.tight_layout()\\nplt.show()\";\n",
       "                var nbb_cells = Jupyter.notebook.get_cells();\n",
       "                for (var i = 0; i < nbb_cells.length; ++i) {\n",
       "                    if (nbb_cells[i].input_prompt_number == nbb_cell_id) {\n",
       "                        if (nbb_cells[i].get_text() == nbb_unformatted_code) {\n",
       "                             nbb_cells[i].set_text(nbb_formatted_code);\n",
       "                        }\n",
       "                        break;\n",
       "                    }\n",
       "                }\n",
       "            }, 500);\n",
       "            "
      ],
      "text/plain": [
       "<IPython.core.display.Javascript object>"
      ]
     },
     "metadata": {},
     "output_type": "display_data"
    }
   ],
   "source": [
    "# Plot survival rate breakdown (because survivability rate was hard to read with the charts above)\n",
    "\n",
    "features = [\"age_bin\", \"sibsp\", \"parch\", \"family_members\", \"fare_bin\"]\n",
    "\n",
    "fig, axes = plt.subplots(1, 5, figsize=[10, 3])\n",
    "\n",
    "for i, feature in enumerate(features):\n",
    "\n",
    "    ax = axes[i]\n",
    "\n",
    "    # Set width\n",
    "    if feature == \"age_bin\" or feature == \"fare_bin\":\n",
    "        width = 4\n",
    "    else:\n",
    "        width = 0.8\n",
    "\n",
    "    # Plot survived (overlay with filtered data)\n",
    "    p = (\n",
    "        explore_df.groupby(feature)\n",
    "        .mean()\n",
    "        .iloc[:, 0]\n",
    "        .reset_index()\n",
    "        .sort_values(by=feature)\n",
    "    )\n",
    "    p.columns = [feature, \"pct\"]\n",
    "\n",
    "    ax.bar(x=p[feature], height=p.pct, color=\"#d7d1db\", width=width)\n",
    "\n",
    "    # Title\n",
    "    ax.set_title(feature)\n",
    "    ax.set_ylim([0, 1])\n",
    "\n",
    "axes[0].set_ylabel(\"Percentage of Passengers\")\n",
    "axes[4].legend([\"Survivability Rate\"], loc=[1.1, 0.6])\n",
    "\n",
    "fig.tight_layout()\n",
    "plt.show()"
   ]
  },
  {
   "cell_type": "markdown",
   "metadata": {},
   "source": [
    "* Most passengers are between ages 20 and 40. Survivability for children is slightly higher than survivability for adults and elderly.\n",
    "* Most passengers do not have a sibling or spouse (skewed right). However, survivability is greatest when a passenger has 1 or 2 siblings / spouse (likely siblings).\n",
    "* Most passengers are not accompanied with their parent or child, but survivability is higher when the passenger is with 1 to 3 other family members."
   ]
  },
  {
   "cell_type": "code",
   "execution_count": 30,
   "metadata": {},
   "outputs": [
    {
     "data": {
      "application/javascript": [
       "\n",
       "            setTimeout(function() {\n",
       "                var nbb_cell_id = 30;\n",
       "                var nbb_unformatted_code = \"# Create features based on family size\\ndef sort_family(x):\\n    if x == 0:\\n        return \\\"alone\\\"\\n    elif x >= 1 and x <= 3:\\n        return \\\"small_family\\\"\\n    else:\\n        return \\\"big_family\\\"\\n\\n\\nconcat_df[\\\"family_size\\\"] = concat_df.family_members.apply(lambda x: sort_family(x))\";\n",
       "                var nbb_formatted_code = \"# Create features based on family size\\ndef sort_family(x):\\n    if x == 0:\\n        return \\\"alone\\\"\\n    elif x >= 1 and x <= 3:\\n        return \\\"small_family\\\"\\n    else:\\n        return \\\"big_family\\\"\\n\\n\\nconcat_df[\\\"family_size\\\"] = concat_df.family_members.apply(lambda x: sort_family(x))\";\n",
       "                var nbb_cells = Jupyter.notebook.get_cells();\n",
       "                for (var i = 0; i < nbb_cells.length; ++i) {\n",
       "                    if (nbb_cells[i].input_prompt_number == nbb_cell_id) {\n",
       "                        if (nbb_cells[i].get_text() == nbb_unformatted_code) {\n",
       "                             nbb_cells[i].set_text(nbb_formatted_code);\n",
       "                        }\n",
       "                        break;\n",
       "                    }\n",
       "                }\n",
       "            }, 500);\n",
       "            "
      ],
      "text/plain": [
       "<IPython.core.display.Javascript object>"
      ]
     },
     "metadata": {},
     "output_type": "display_data"
    }
   ],
   "source": [
    "# Create features based on family size\n",
    "def sort_family(x):\n",
    "    if x == 0:\n",
    "        return \"alone\"\n",
    "    elif x >= 1 and x <= 3:\n",
    "        return \"small_family\"\n",
    "    else:\n",
    "        return \"big_family\"\n",
    "\n",
    "\n",
    "concat_df[\"family_size\"] = concat_df.family_members.apply(lambda x: sort_family(x))"
   ]
  },
  {
   "cell_type": "markdown",
   "metadata": {},
   "source": [
    "Look at survivability for categorical variables."
   ]
  },
  {
   "cell_type": "code",
   "execution_count": 31,
   "metadata": {},
   "outputs": [
    {
     "data": {
      "image/png": "[encoded data removed]",
      "text/plain": [
       "<Figure size 864x432 with 6 Axes>"
      ]
     },
     "metadata": {
      "needs_background": "light"
     },
     "output_type": "display_data"
    },
    {
     "data": {
      "application/javascript": [
       "\n",
       "            setTimeout(function() {\n",
       "                var nbb_cell_id = 31;\n",
       "                var nbb_unformatted_code = \"# Plot distribution with a survival rate breakdown\\n\\nfeatures = [\\\"sex\\\", \\\"title_clean\\\", \\\"has_nickname\\\", \\\"cabin_floor\\\", \\\"pclass\\\", \\\"embarked\\\"]\\n\\nfig, axes = plt.subplots(2, 3, figsize=[12, 6])\\naxes = axes.flatten()\\n\\n\\nfor i, feature in enumerate(features):\\n\\n    ax = axes[i]\\n\\n    # Set width\\n    if feature == \\\"age_bin\\\":\\n        width = 4\\n    else:\\n        width = 0.8\\n\\n    # Plot total (background)\\n    p = (\\n        explore_df.groupby(feature)\\n        .count()\\n        .iloc[:, 0]\\n        .reset_index()\\n        .sort_values(by=feature)\\n    )\\n    p.columns = [feature, \\\"counts\\\"]\\n\\n    ax.bar(x=p[feature], height=p.counts, color=\\\"#d7d1db\\\", width=width)\\n\\n    # Plot survived (overlay with filtered data)\\n    p = (\\n        explore_df[explore_df.survived == 1]\\n        .groupby(feature)\\n        .count()\\n        .iloc[:, 0]\\n        .reset_index()\\n        .sort_values(by=feature)\\n    )\\n    p.columns = [feature, \\\"counts\\\"]\\n\\n    ax.bar(x=p[feature], height=p.counts, color=\\\"#889bcf\\\", width=width)\\n\\n    # Title\\n    ax.set_title(feature)\\n\\naxes[0].set_ylabel(\\\"Number of Passengers\\\")\\naxes[2].legend([\\\"Passed\\\", \\\"Survived\\\"], loc=[1.1, 0.6])\\n\\nfig.tight_layout()\\nplt.show()\";\n",
       "                var nbb_formatted_code = \"# Plot distribution with a survival rate breakdown\\n\\nfeatures = [\\\"sex\\\", \\\"title_clean\\\", \\\"has_nickname\\\", \\\"cabin_floor\\\", \\\"pclass\\\", \\\"embarked\\\"]\\n\\nfig, axes = plt.subplots(2, 3, figsize=[12, 6])\\naxes = axes.flatten()\\n\\n\\nfor i, feature in enumerate(features):\\n\\n    ax = axes[i]\\n\\n    # Set width\\n    if feature == \\\"age_bin\\\":\\n        width = 4\\n    else:\\n        width = 0.8\\n\\n    # Plot total (background)\\n    p = (\\n        explore_df.groupby(feature)\\n        .count()\\n        .iloc[:, 0]\\n        .reset_index()\\n        .sort_values(by=feature)\\n    )\\n    p.columns = [feature, \\\"counts\\\"]\\n\\n    ax.bar(x=p[feature], height=p.counts, color=\\\"#d7d1db\\\", width=width)\\n\\n    # Plot survived (overlay with filtered data)\\n    p = (\\n        explore_df[explore_df.survived == 1]\\n        .groupby(feature)\\n        .count()\\n        .iloc[:, 0]\\n        .reset_index()\\n        .sort_values(by=feature)\\n    )\\n    p.columns = [feature, \\\"counts\\\"]\\n\\n    ax.bar(x=p[feature], height=p.counts, color=\\\"#889bcf\\\", width=width)\\n\\n    # Title\\n    ax.set_title(feature)\\n\\naxes[0].set_ylabel(\\\"Number of Passengers\\\")\\naxes[2].legend([\\\"Passed\\\", \\\"Survived\\\"], loc=[1.1, 0.6])\\n\\nfig.tight_layout()\\nplt.show()\";\n",
       "                var nbb_cells = Jupyter.notebook.get_cells();\n",
       "                for (var i = 0; i < nbb_cells.length; ++i) {\n",
       "                    if (nbb_cells[i].input_prompt_number == nbb_cell_id) {\n",
       "                        if (nbb_cells[i].get_text() == nbb_unformatted_code) {\n",
       "                             nbb_cells[i].set_text(nbb_formatted_code);\n",
       "                        }\n",
       "                        break;\n",
       "                    }\n",
       "                }\n",
       "            }, 500);\n",
       "            "
      ],
      "text/plain": [
       "<IPython.core.display.Javascript object>"
      ]
     },
     "metadata": {},
     "output_type": "display_data"
    }
   ],
   "source": [
    "# Plot distribution with a survival rate breakdown\n",
    "\n",
    "features = [\"sex\", \"title_clean\", \"has_nickname\", \"cabin_floor\", \"pclass\", \"embarked\"]\n",
    "\n",
    "fig, axes = plt.subplots(2, 3, figsize=[12, 6])\n",
    "axes = axes.flatten()\n",
    "\n",
    "\n",
    "for i, feature in enumerate(features):\n",
    "\n",
    "    ax = axes[i]\n",
    "\n",
    "    # Set width\n",
    "    if feature == \"age_bin\":\n",
    "        width = 4\n",
    "    else:\n",
    "        width = 0.8\n",
    "\n",
    "    # Plot total (background)\n",
    "    p = (\n",
    "        explore_df.groupby(feature)\n",
    "        .count()\n",
    "        .iloc[:, 0]\n",
    "        .reset_index()\n",
    "        .sort_values(by=feature)\n",
    "    )\n",
    "    p.columns = [feature, \"counts\"]\n",
    "\n",
    "    ax.bar(x=p[feature], height=p.counts, color=\"#d7d1db\", width=width)\n",
    "\n",
    "    # Plot survived (overlay with filtered data)\n",
    "    p = (\n",
    "        explore_df[explore_df.survived == 1]\n",
    "        .groupby(feature)\n",
    "        .count()\n",
    "        .iloc[:, 0]\n",
    "        .reset_index()\n",
    "        .sort_values(by=feature)\n",
    "    )\n",
    "    p.columns = [feature, \"counts\"]\n",
    "\n",
    "    ax.bar(x=p[feature], height=p.counts, color=\"#889bcf\", width=width)\n",
    "\n",
    "    # Title\n",
    "    ax.set_title(feature)\n",
    "\n",
    "axes[0].set_ylabel(\"Number of Passengers\")\n",
    "axes[2].legend([\"Passed\", \"Survived\"], loc=[1.1, 0.6])\n",
    "\n",
    "fig.tight_layout()\n",
    "plt.show()"
   ]
  },
  {
   "cell_type": "code",
   "execution_count": 32,
   "metadata": {},
   "outputs": [
    {
     "data": {
      "image/png": "[encoded data removed]",
      "text/plain": [
       "<Figure size 864x432 with 6 Axes>"
      ]
     },
     "metadata": {
      "needs_background": "light"
     },
     "output_type": "display_data"
    },
    {
     "data": {
      "application/javascript": [
       "\n",
       "            setTimeout(function() {\n",
       "                var nbb_cell_id = 32;\n",
       "                var nbb_unformatted_code = \"# Plot survivability rate\\n\\nfeatures = [\\\"sex\\\", \\\"title_clean\\\", \\\"has_nickname\\\", \\\"cabin_floor\\\", \\\"pclass\\\", \\\"embarked\\\"]\\n\\nfig, axes = plt.subplots(2, 3, figsize=[12, 6])\\naxes = axes.flatten()\\n\\nfor i, feature in enumerate(features):\\n\\n    ax = axes[i]\\n\\n    p = explore_df.groupby(feature).survived.mean().reset_index()\\n    p.columns = [feature, \\\"pct\\\"]\\n    p.sort_values(by=[feature])\\n\\n    ax.bar(x=p[feature], height=p.pct, color=\\\"#d7d1db\\\")\\n\\n    ax.set_ylim(0, 1)\\n    ax.set_title(feature)\\n\\naxes[2].legend([\\\"Survivability Rate\\\"], loc=[1.1, 0.6])\\nfig.tight_layout()\";\n",
       "                var nbb_formatted_code = \"# Plot survivability rate\\n\\nfeatures = [\\\"sex\\\", \\\"title_clean\\\", \\\"has_nickname\\\", \\\"cabin_floor\\\", \\\"pclass\\\", \\\"embarked\\\"]\\n\\nfig, axes = plt.subplots(2, 3, figsize=[12, 6])\\naxes = axes.flatten()\\n\\nfor i, feature in enumerate(features):\\n\\n    ax = axes[i]\\n\\n    p = explore_df.groupby(feature).survived.mean().reset_index()\\n    p.columns = [feature, \\\"pct\\\"]\\n    p.sort_values(by=[feature])\\n\\n    ax.bar(x=p[feature], height=p.pct, color=\\\"#d7d1db\\\")\\n\\n    ax.set_ylim(0, 1)\\n    ax.set_title(feature)\\n\\naxes[2].legend([\\\"Survivability Rate\\\"], loc=[1.1, 0.6])\\nfig.tight_layout()\";\n",
       "                var nbb_cells = Jupyter.notebook.get_cells();\n",
       "                for (var i = 0; i < nbb_cells.length; ++i) {\n",
       "                    if (nbb_cells[i].input_prompt_number == nbb_cell_id) {\n",
       "                        if (nbb_cells[i].get_text() == nbb_unformatted_code) {\n",
       "                             nbb_cells[i].set_text(nbb_formatted_code);\n",
       "                        }\n",
       "                        break;\n",
       "                    }\n",
       "                }\n",
       "            }, 500);\n",
       "            "
      ],
      "text/plain": [
       "<IPython.core.display.Javascript object>"
      ]
     },
     "metadata": {},
     "output_type": "display_data"
    }
   ],
   "source": [
    "# Plot survivability rate\n",
    "\n",
    "features = [\"sex\", \"title_clean\", \"has_nickname\", \"cabin_floor\", \"pclass\", \"embarked\"]\n",
    "\n",
    "fig, axes = plt.subplots(2, 3, figsize=[12, 6])\n",
    "axes = axes.flatten()\n",
    "\n",
    "for i, feature in enumerate(features):\n",
    "\n",
    "    ax = axes[i]\n",
    "\n",
    "    p = explore_df.groupby(feature).survived.mean().reset_index()\n",
    "    p.columns = [feature, \"pct\"]\n",
    "    p.sort_values(by=[feature])\n",
    "\n",
    "    ax.bar(x=p[feature], height=p.pct, color=\"#d7d1db\")\n",
    "\n",
    "    ax.set_ylim(0, 1)\n",
    "    ax.set_title(feature)\n",
    "\n",
    "axes[2].legend([\"Survivability Rate\"], loc=[1.1, 0.6])\n",
    "fig.tight_layout()"
   ]
  },
  {
   "cell_type": "markdown",
   "metadata": {},
   "source": [
    "* There are twice as many males on board, but females are 4 times as likely to survive.\n",
    "    * For females, the Lady title (high class) has a very high chance of survival (100% with training data).\n",
    "    * Miss. and Mrs. titles also have high survivability. The Mrs. title has a higher survival rate (possibly because she travels with her family).\n",
    "    * Master (young) have a high chance of survival.\n",
    "    * Mr. has a low chance of survival and represents the majority of the male passengers. The Rev. title has a 0% survivability rate, and these men are much older in age.\n",
    "* Having a nickname helps you survive!\n",
    "* Cabin floor has some effect on survivability. Cabin floors B, D, and E have the highest chance. Although, further down the alphabet means lower down the ship (according to [wikipedia](https://en.wikipedia.org/wiki/Titanic#:~:text=After%20leaving%20Southampton%20on%2010,11%3A40%20p.m.%20ship's%20time.))\n",
    "* The richer have higher chance of survival.\n",
    "* Most passengers embarked at port Southampton (first), which has the lowest survivability. Cherbourg had the highest survivability, although it was the second (middle) stop. Queensland might have been a quick stop, since the number of new passengers was the lowest at this port. The port's correlation with survivability must be related to room assignment because there were at least 3 days for the passengers from the last port to settle in."
   ]
  },
  {
   "cell_type": "markdown",
   "metadata": {},
   "source": [
    "Look at correlation between multiple variables."
   ]
  },
  {
   "cell_type": "code",
   "execution_count": 33,
   "metadata": {},
   "outputs": [
    {
     "data": {
      "image/png": "[encoded data removed]",
      "text/plain": [
       "<Figure size 648x432 with 6 Axes>"
      ]
     },
     "metadata": {
      "needs_background": "light"
     },
     "output_type": "display_data"
    },
    {
     "data": {
      "application/javascript": [
       "\n",
       "            setTimeout(function() {\n",
       "                var nbb_cell_id = 33;\n",
       "                var nbb_unformatted_code = \"# Plot survivability by pclass, sex, and age\\ng = sns.FacetGrid(explore_df, col=\\\"pclass\\\", row=\\\"sex\\\")\\ng.map_dataframe(sns.barplot, x=\\\"age_bin\\\", y=\\\"survived\\\", ci=None, color=\\\"#d7d1db\\\")\\nplt.show()\";\n",
       "                var nbb_formatted_code = \"# Plot survivability by pclass, sex, and age\\ng = sns.FacetGrid(explore_df, col=\\\"pclass\\\", row=\\\"sex\\\")\\ng.map_dataframe(sns.barplot, x=\\\"age_bin\\\", y=\\\"survived\\\", ci=None, color=\\\"#d7d1db\\\")\\nplt.show()\";\n",
       "                var nbb_cells = Jupyter.notebook.get_cells();\n",
       "                for (var i = 0; i < nbb_cells.length; ++i) {\n",
       "                    if (nbb_cells[i].input_prompt_number == nbb_cell_id) {\n",
       "                        if (nbb_cells[i].get_text() == nbb_unformatted_code) {\n",
       "                             nbb_cells[i].set_text(nbb_formatted_code);\n",
       "                        }\n",
       "                        break;\n",
       "                    }\n",
       "                }\n",
       "            }, 500);\n",
       "            "
      ],
      "text/plain": [
       "<IPython.core.display.Javascript object>"
      ]
     },
     "metadata": {},
     "output_type": "display_data"
    }
   ],
   "source": [
    "# Plot survivability by pclass, sex, and age\n",
    "g = sns.FacetGrid(explore_df, col=\"pclass\", row=\"sex\")\n",
    "g.map_dataframe(sns.barplot, x=\"age_bin\", y=\"survived\", ci=None, color=\"#d7d1db\")\n",
    "plt.show()"
   ]
  },
  {
   "cell_type": "markdown",
   "metadata": {},
   "source": [
    "* Pclass of 3 is just miserable. \n",
    "* Females in pclass 1 and 2 have high survivability, but more favorable for the youth.\n",
    "* Males of pclass 1 and 2 have a high survival rate."
   ]
  },
  {
   "cell_type": "code",
   "execution_count": 34,
   "metadata": {
    "scrolled": false
   },
   "outputs": [
    {
     "data": {
      "image/png": "[encoded data removed]",
      "text/plain": [
       "<Figure size 648x1728 with 24 Axes>"
      ]
     },
     "metadata": {
      "needs_background": "light"
     },
     "output_type": "display_data"
    },
    {
     "data": {
      "application/javascript": [
       "\n",
       "            setTimeout(function() {\n",
       "                var nbb_cell_id = 34;\n",
       "                var nbb_unformatted_code = \"# Plot survivability by pclass, cabin, and age\\np = explore_df[~explore_df.cabin_floor.isna()].sort_values(by=\\\"cabin_floor\\\")\\ng = sns.FacetGrid(p, col=\\\"pclass\\\", row=\\\"cabin_floor\\\")\\ng.map_dataframe(sns.barplot, x=\\\"age_bin\\\", y=\\\"survived\\\", ci=None, color=\\\"#d7d1db\\\")\\nplt.show()\";\n",
       "                var nbb_formatted_code = \"# Plot survivability by pclass, cabin, and age\\np = explore_df[~explore_df.cabin_floor.isna()].sort_values(by=\\\"cabin_floor\\\")\\ng = sns.FacetGrid(p, col=\\\"pclass\\\", row=\\\"cabin_floor\\\")\\ng.map_dataframe(sns.barplot, x=\\\"age_bin\\\", y=\\\"survived\\\", ci=None, color=\\\"#d7d1db\\\")\\nplt.show()\";\n",
       "                var nbb_cells = Jupyter.notebook.get_cells();\n",
       "                for (var i = 0; i < nbb_cells.length; ++i) {\n",
       "                    if (nbb_cells[i].input_prompt_number == nbb_cell_id) {\n",
       "                        if (nbb_cells[i].get_text() == nbb_unformatted_code) {\n",
       "                             nbb_cells[i].set_text(nbb_formatted_code);\n",
       "                        }\n",
       "                        break;\n",
       "                    }\n",
       "                }\n",
       "            }, 500);\n",
       "            "
      ],
      "text/plain": [
       "<IPython.core.display.Javascript object>"
      ]
     },
     "metadata": {},
     "output_type": "display_data"
    }
   ],
   "source": [
    "# Plot survivability by pclass, cabin, and age\n",
    "p = explore_df[~explore_df.cabin_floor.isna()].sort_values(by=\"cabin_floor\")\n",
    "g = sns.FacetGrid(p, col=\"pclass\", row=\"cabin_floor\")\n",
    "g.map_dataframe(sns.barplot, x=\"age_bin\", y=\"survived\", ci=None, color=\"#d7d1db\")\n",
    "plt.show()"
   ]
  },
  {
   "cell_type": "code",
   "execution_count": 35,
   "metadata": {},
   "outputs": [
    {
     "data": {
      "image/png": "[encoded data removed]",
      "text/plain": [
       "<Figure size 648x216 with 3 Axes>"
      ]
     },
     "metadata": {
      "needs_background": "light"
     },
     "output_type": "display_data"
    },
    {
     "data": {
      "application/javascript": [
       "\n",
       "            setTimeout(function() {\n",
       "                var nbb_cell_id = 35;\n",
       "                var nbb_unformatted_code = \"# Plot survivability by cabin_room, cabin-floor, and embarked (recreate a ship layout)\\np = explore_df[explore_df.has_cabin_info == 1].sort_values(\\n    by=[\\\"embarked\\\", \\\"cabin_floor\\\"]\\n)\\ng = sns.FacetGrid(p, col=\\\"embarked\\\", hue=\\\"survived\\\")\\ng.map(sns.scatterplot, \\\"cabin_room\\\", \\\"cabin_floor\\\", alpha=0.3)\\nplt.show()\";\n",
       "                var nbb_formatted_code = \"# Plot survivability by cabin_room, cabin-floor, and embarked (recreate a ship layout)\\np = explore_df[explore_df.has_cabin_info == 1].sort_values(\\n    by=[\\\"embarked\\\", \\\"cabin_floor\\\"]\\n)\\ng = sns.FacetGrid(p, col=\\\"embarked\\\", hue=\\\"survived\\\")\\ng.map(sns.scatterplot, \\\"cabin_room\\\", \\\"cabin_floor\\\", alpha=0.3)\\nplt.show()\";\n",
       "                var nbb_cells = Jupyter.notebook.get_cells();\n",
       "                for (var i = 0; i < nbb_cells.length; ++i) {\n",
       "                    if (nbb_cells[i].input_prompt_number == nbb_cell_id) {\n",
       "                        if (nbb_cells[i].get_text() == nbb_unformatted_code) {\n",
       "                             nbb_cells[i].set_text(nbb_formatted_code);\n",
       "                        }\n",
       "                        break;\n",
       "                    }\n",
       "                }\n",
       "            }, 500);\n",
       "            "
      ],
      "text/plain": [
       "<IPython.core.display.Javascript object>"
      ]
     },
     "metadata": {},
     "output_type": "display_data"
    }
   ],
   "source": [
    "# Plot survivability by cabin_room, cabin-floor, and embarked (recreate a ship layout)\n",
    "p = explore_df[explore_df.has_cabin_info == 1].sort_values(\n",
    "    by=[\"embarked\", \"cabin_floor\"]\n",
    ")\n",
    "g = sns.FacetGrid(p, col=\"embarked\", hue=\"survived\")\n",
    "g.map(sns.scatterplot, \"cabin_room\", \"cabin_floor\", alpha=0.3)\n",
    "plt.show()"
   ]
  },
  {
   "cell_type": "code",
   "execution_count": 36,
   "metadata": {},
   "outputs": [
    {
     "data": {
      "image/png": "[encoded data removed]",
      "text/plain": [
       "<Figure size 432x288 with 1 Axes>"
      ]
     },
     "metadata": {
      "needs_background": "light"
     },
     "output_type": "display_data"
    },
    {
     "data": {
      "application/javascript": [
       "\n",
       "            setTimeout(function() {\n",
       "                var nbb_cell_id = 36;\n",
       "                var nbb_unformatted_code = \"# Plot survivability by whether a passenger has cabin info (this might be just coincidence)\\np = explore_df.groupby(\\\"has_cabin_info\\\").survived.mean().reset_index()\\np.columns = [feature, \\\"pct\\\"]\\np.sort_values(by=[feature])\\n\\nfig, ax = plt.subplots()\\nax.bar(x=p[feature], height=p.pct, color=\\\"#d7d1db\\\")\\nax.set_title(\\\"Survivability by whether a passenger has cabin info\\\")\\nax.set_ylim(0, 1)\\nplt.show()\";\n",
       "                var nbb_formatted_code = \"# Plot survivability by whether a passenger has cabin info (this might be just coincidence)\\np = explore_df.groupby(\\\"has_cabin_info\\\").survived.mean().reset_index()\\np.columns = [feature, \\\"pct\\\"]\\np.sort_values(by=[feature])\\n\\nfig, ax = plt.subplots()\\nax.bar(x=p[feature], height=p.pct, color=\\\"#d7d1db\\\")\\nax.set_title(\\\"Survivability by whether a passenger has cabin info\\\")\\nax.set_ylim(0, 1)\\nplt.show()\";\n",
       "                var nbb_cells = Jupyter.notebook.get_cells();\n",
       "                for (var i = 0; i < nbb_cells.length; ++i) {\n",
       "                    if (nbb_cells[i].input_prompt_number == nbb_cell_id) {\n",
       "                        if (nbb_cells[i].get_text() == nbb_unformatted_code) {\n",
       "                             nbb_cells[i].set_text(nbb_formatted_code);\n",
       "                        }\n",
       "                        break;\n",
       "                    }\n",
       "                }\n",
       "            }, 500);\n",
       "            "
      ],
      "text/plain": [
       "<IPython.core.display.Javascript object>"
      ]
     },
     "metadata": {},
     "output_type": "display_data"
    }
   ],
   "source": [
    "# Plot survivability by whether a passenger has cabin info (this might be just coincidence)\n",
    "p = explore_df.groupby(\"has_cabin_info\").survived.mean().reset_index()\n",
    "p.columns = [feature, \"pct\"]\n",
    "p.sort_values(by=[feature])\n",
    "\n",
    "fig, ax = plt.subplots()\n",
    "ax.bar(x=p[feature], height=p.pct, color=\"#d7d1db\")\n",
    "ax.set_title(\"Survivability by whether a passenger has cabin info\")\n",
    "ax.set_ylim(0, 1)\n",
    "plt.show()"
   ]
  },
  {
   "cell_type": "markdown",
   "metadata": {},
   "source": [
    "* Passengers with cabin information are more likely to survive (i.e. a lot of passengers that didn't survive did not have data on which cabin they were in)"
   ]
  },
  {
   "cell_type": "code",
   "execution_count": 37,
   "metadata": {},
   "outputs": [
    {
     "data": {
      "image/png": "[encoded data removed]",
      "text/plain": [
       "<Figure size 1080x1080 with 64 Axes>"
      ]
     },
     "metadata": {
      "needs_background": "light"
     },
     "output_type": "display_data"
    },
    {
     "data": {
      "application/javascript": [
       "\n",
       "            setTimeout(function() {\n",
       "                var nbb_cell_id = 37;\n",
       "                var nbb_unformatted_code = \"# Plot scatter matrix (not very helpful)\\np = explore_df[\\n    [\\n        \\\"survived\\\",\\n        \\\"age_clean\\\",\\n        \\\"pclass\\\",\\n        \\\"sibsp\\\",\\n        \\\"parch\\\",\\n        \\\"fare\\\",\\n        \\\"has_nickname\\\",\\n        \\\"has_cabin_info\\\",\\n    ]\\n]\\n\\ncolor_wheel = {0: \\\"#d7d1db\\\", 1: \\\"#889bcf\\\"}\\ncolors = p.survived.map(lambda x: color_wheel.get(x))\\nscatter_matrix(p, color=colors, alpha=0.6, figsize=(15, 15))\\nplt.show()\";\n",
       "                var nbb_formatted_code = \"# Plot scatter matrix (not very helpful)\\np = explore_df[\\n    [\\n        \\\"survived\\\",\\n        \\\"age_clean\\\",\\n        \\\"pclass\\\",\\n        \\\"sibsp\\\",\\n        \\\"parch\\\",\\n        \\\"fare\\\",\\n        \\\"has_nickname\\\",\\n        \\\"has_cabin_info\\\",\\n    ]\\n]\\n\\ncolor_wheel = {0: \\\"#d7d1db\\\", 1: \\\"#889bcf\\\"}\\ncolors = p.survived.map(lambda x: color_wheel.get(x))\\nscatter_matrix(p, color=colors, alpha=0.6, figsize=(15, 15))\\nplt.show()\";\n",
       "                var nbb_cells = Jupyter.notebook.get_cells();\n",
       "                for (var i = 0; i < nbb_cells.length; ++i) {\n",
       "                    if (nbb_cells[i].input_prompt_number == nbb_cell_id) {\n",
       "                        if (nbb_cells[i].get_text() == nbb_unformatted_code) {\n",
       "                             nbb_cells[i].set_text(nbb_formatted_code);\n",
       "                        }\n",
       "                        break;\n",
       "                    }\n",
       "                }\n",
       "            }, 500);\n",
       "            "
      ],
      "text/plain": [
       "<IPython.core.display.Javascript object>"
      ]
     },
     "metadata": {},
     "output_type": "display_data"
    }
   ],
   "source": [
    "# Plot scatter matrix (not very helpful)\n",
    "p = explore_df[\n",
    "    [\n",
    "        \"survived\",\n",
    "        \"age_clean\",\n",
    "        \"pclass\",\n",
    "        \"sibsp\",\n",
    "        \"parch\",\n",
    "        \"fare\",\n",
    "        \"has_nickname\",\n",
    "        \"has_cabin_info\",\n",
    "    ]\n",
    "]\n",
    "\n",
    "color_wheel = {0: \"#d7d1db\", 1: \"#889bcf\"}\n",
    "colors = p.survived.map(lambda x: color_wheel.get(x))\n",
    "scatter_matrix(p, color=colors, alpha=0.6, figsize=(15, 15))\n",
    "plt.show()"
   ]
  },
  {
   "cell_type": "markdown",
   "metadata": {},
   "source": [
    "<a id=\"predict\"></a>\n",
    "## Predicting with data"
   ]
  },
  {
   "cell_type": "markdown",
   "metadata": {},
   "source": [
    "My training dataset contains 891 records.\n",
    "\n",
    "Some models to try include logistic regression, random forest, decision tree, and support vector machine. "
   ]
  },
  {
   "cell_type": "code",
   "execution_count": 38,
   "metadata": {},
   "outputs": [
    {
     "data": {
      "application/javascript": [
       "\n",
       "            setTimeout(function() {\n",
       "                var nbb_cell_id = 38;\n",
       "                var nbb_unformatted_code = \"# Import more libraries\\nfrom sklearn.preprocessing import OneHotEncoder\\nfrom sklearn.model_selection import StratifiedKFold\\nfrom sklearn.linear_model import LogisticRegression\\nfrom sklearn.ensemble import RandomForestClassifier\\nfrom sklearn.tree import DecisionTreeClassifier, export_graphviz, plot_tree\\nfrom sklearn import svm\\n\\nfrom sklearn.metrics import (\\n    precision_score,\\n    recall_score,\\n    f1_score,\\n    confusion_matrix,\\n    accuracy_score,\\n    plot_roc_curve,\\n)\";\n",
       "                var nbb_formatted_code = \"# Import more libraries\\nfrom sklearn.preprocessing import OneHotEncoder\\nfrom sklearn.model_selection import StratifiedKFold\\nfrom sklearn.linear_model import LogisticRegression\\nfrom sklearn.ensemble import RandomForestClassifier\\nfrom sklearn.tree import DecisionTreeClassifier, export_graphviz, plot_tree\\nfrom sklearn import svm\\n\\nfrom sklearn.metrics import (\\n    precision_score,\\n    recall_score,\\n    f1_score,\\n    confusion_matrix,\\n    accuracy_score,\\n    plot_roc_curve,\\n)\";\n",
       "                var nbb_cells = Jupyter.notebook.get_cells();\n",
       "                for (var i = 0; i < nbb_cells.length; ++i) {\n",
       "                    if (nbb_cells[i].input_prompt_number == nbb_cell_id) {\n",
       "                        if (nbb_cells[i].get_text() == nbb_unformatted_code) {\n",
       "                             nbb_cells[i].set_text(nbb_formatted_code);\n",
       "                        }\n",
       "                        break;\n",
       "                    }\n",
       "                }\n",
       "            }, 500);\n",
       "            "
      ],
      "text/plain": [
       "<IPython.core.display.Javascript object>"
      ]
     },
     "metadata": {},
     "output_type": "display_data"
    }
   ],
   "source": [
    "# Import more libraries\n",
    "from sklearn.preprocessing import OneHotEncoder\n",
    "from sklearn.model_selection import StratifiedKFold\n",
    "from sklearn.linear_model import LogisticRegression\n",
    "from sklearn.ensemble import RandomForestClassifier\n",
    "from sklearn.tree import DecisionTreeClassifier, export_graphviz, plot_tree\n",
    "from sklearn import svm\n",
    "\n",
    "from sklearn.metrics import (\n",
    "    precision_score,\n",
    "    recall_score,\n",
    "    f1_score,\n",
    "    confusion_matrix,\n",
    "    accuracy_score,\n",
    "    plot_roc_curve,\n",
    ")"
   ]
  },
  {
   "cell_type": "markdown",
   "metadata": {},
   "source": [
    "#### Preparing data\n",
    "\n",
    "Transform the following categorical variables via one-hot-encoder:\n",
    "* `title_clean`\n",
    "* `embarked`\n",
    "* `sex`\n",
    "* `cabin_floor`"
   ]
  },
  {
   "cell_type": "code",
   "execution_count": 72,
   "metadata": {},
   "outputs": [
    {
     "data": {
      "text/html": [
       "<div>\n",
       "<style scoped>\n",
       "    .dataframe tbody tr th:only-of-type {\n",
       "        vertical-align: middle;\n",
       "    }\n",
       "\n",
       "    .dataframe tbody tr th {\n",
       "        vertical-align: top;\n",
       "    }\n",
       "\n",
       "    .dataframe thead th {\n",
       "        text-align: right;\n",
       "    }\n",
       "</style>\n",
       "<table border=\"1\" class=\"dataframe\">\n",
       "  <thead>\n",
       "    <tr style=\"text-align: right;\">\n",
       "      <th></th>\n",
       "      <th>survived</th>\n",
       "      <th>pclass</th>\n",
       "      <th>sex</th>\n",
       "      <th>fare</th>\n",
       "      <th>embarked</th>\n",
       "      <th>title_clean</th>\n",
       "      <th>has_nickname</th>\n",
       "      <th>age_clean</th>\n",
       "      <th>cabin_floor</th>\n",
       "      <th>family_size</th>\n",
       "    </tr>\n",
       "    <tr>\n",
       "      <th>PassengerId</th>\n",
       "      <th></th>\n",
       "      <th></th>\n",
       "      <th></th>\n",
       "      <th></th>\n",
       "      <th></th>\n",
       "      <th></th>\n",
       "      <th></th>\n",
       "      <th></th>\n",
       "      <th></th>\n",
       "      <th></th>\n",
       "    </tr>\n",
       "  </thead>\n",
       "  <tbody>\n",
       "    <tr>\n",
       "      <th>1</th>\n",
       "      <td>0.0</td>\n",
       "      <td>3</td>\n",
       "      <td>male</td>\n",
       "      <td>7.25</td>\n",
       "      <td>S</td>\n",
       "      <td>Mr.</td>\n",
       "      <td>0</td>\n",
       "      <td>22.0</td>\n",
       "      <td>NaN</td>\n",
       "      <td>small_family</td>\n",
       "    </tr>\n",
       "  </tbody>\n",
       "</table>\n",
       "</div>"
      ],
      "text/plain": [
       "             survived  pclass   sex  fare embarked title_clean  has_nickname  \\\n",
       "PassengerId                                                                    \n",
       "1                 0.0       3  male  7.25        S         Mr.             0   \n",
       "\n",
       "             age_clean cabin_floor   family_size  \n",
       "PassengerId                                       \n",
       "1                 22.0         NaN  small_family  "
      ]
     },
     "execution_count": 72,
     "metadata": {},
     "output_type": "execute_result"
    },
    {
     "data": {
      "application/javascript": [
       "\n",
       "            setTimeout(function() {\n",
       "                var nbb_cell_id = 72;\n",
       "                var nbb_unformatted_code = \"# Make a copy of DataFrame\\ndf = concat_df.copy()\\n\\n# Drop unnecessary columns\\ndf.drop(\\n    [\\n        \\\"name\\\",\\n        \\\"first_name\\\",\\n        \\\"last_name\\\",\\n        \\\"age\\\",\\n        \\\"ticket\\\",\\n        \\\"cabin\\\",\\n        \\\"title\\\",\\n        \\\"cabin_room\\\",\\n        \\\"has_cabin_info\\\",\\n        \\\"family_members\\\",\\n        \\\"parch\\\",\\n        \\\"sibsp\\\",\\n    ],\\n    axis=1,\\n    inplace=True,\\n)\\n\\ndf.head(1)\";\n",
       "                var nbb_formatted_code = \"# Make a copy of DataFrame\\ndf = concat_df.copy()\\n\\n# Drop unnecessary columns\\ndf.drop(\\n    [\\n        \\\"name\\\",\\n        \\\"first_name\\\",\\n        \\\"last_name\\\",\\n        \\\"age\\\",\\n        \\\"ticket\\\",\\n        \\\"cabin\\\",\\n        \\\"title\\\",\\n        \\\"cabin_room\\\",\\n        \\\"has_cabin_info\\\",\\n        \\\"family_members\\\",\\n        \\\"parch\\\",\\n        \\\"sibsp\\\",\\n    ],\\n    axis=1,\\n    inplace=True,\\n)\\n\\ndf.head(1)\";\n",
       "                var nbb_cells = Jupyter.notebook.get_cells();\n",
       "                for (var i = 0; i < nbb_cells.length; ++i) {\n",
       "                    if (nbb_cells[i].input_prompt_number == nbb_cell_id) {\n",
       "                        if (nbb_cells[i].get_text() == nbb_unformatted_code) {\n",
       "                             nbb_cells[i].set_text(nbb_formatted_code);\n",
       "                        }\n",
       "                        break;\n",
       "                    }\n",
       "                }\n",
       "            }, 500);\n",
       "            "
      ],
      "text/plain": [
       "<IPython.core.display.Javascript object>"
      ]
     },
     "metadata": {},
     "output_type": "display_data"
    }
   ],
   "source": [
    "# Make a copy of DataFrame\n",
    "df = concat_df.copy()\n",
    "\n",
    "# Drop unnecessary columns\n",
    "df.drop(\n",
    "    [\n",
    "        \"name\",\n",
    "        \"first_name\",\n",
    "        \"last_name\",\n",
    "        \"age\",\n",
    "        \"ticket\",\n",
    "        \"cabin\",\n",
    "        \"title\",\n",
    "        \"cabin_room\",\n",
    "        \"has_cabin_info\",\n",
    "        \"family_members\",\n",
    "        \"parch\",\n",
    "        \"sibsp\",\n",
    "    ],\n",
    "    axis=1,\n",
    "    inplace=True,\n",
    ")\n",
    "\n",
    "df.head(1)"
   ]
  },
  {
   "cell_type": "code",
   "execution_count": 73,
   "metadata": {},
   "outputs": [
    {
     "data": {
      "application/javascript": [
       "\n",
       "            setTimeout(function() {\n",
       "                var nbb_cell_id = 73;\n",
       "                var nbb_unformatted_code = \"# Rename ports (because cabin_floor and embarked both have \\\"C\\\")\\ndef replace_name(x):\\n    if x == \\\"S\\\":\\n        return \\\"Southampton\\\"\\n    elif x == \\\"C\\\":\\n        return \\\"Cherbourg\\\"\\n    elif x == \\\"Q\\\":\\n        return \\\"Queensland\\\"\\n\\n\\ndf.embarked = df.embarked.apply(lambda x: replace_name(x))\";\n",
       "                var nbb_formatted_code = \"# Rename ports (because cabin_floor and embarked both have \\\"C\\\")\\ndef replace_name(x):\\n    if x == \\\"S\\\":\\n        return \\\"Southampton\\\"\\n    elif x == \\\"C\\\":\\n        return \\\"Cherbourg\\\"\\n    elif x == \\\"Q\\\":\\n        return \\\"Queensland\\\"\\n\\n\\ndf.embarked = df.embarked.apply(lambda x: replace_name(x))\";\n",
       "                var nbb_cells = Jupyter.notebook.get_cells();\n",
       "                for (var i = 0; i < nbb_cells.length; ++i) {\n",
       "                    if (nbb_cells[i].input_prompt_number == nbb_cell_id) {\n",
       "                        if (nbb_cells[i].get_text() == nbb_unformatted_code) {\n",
       "                             nbb_cells[i].set_text(nbb_formatted_code);\n",
       "                        }\n",
       "                        break;\n",
       "                    }\n",
       "                }\n",
       "            }, 500);\n",
       "            "
      ],
      "text/plain": [
       "<IPython.core.display.Javascript object>"
      ]
     },
     "metadata": {},
     "output_type": "display_data"
    }
   ],
   "source": [
    "# Rename ports (because cabin_floor and embarked both have \"C\")\n",
    "def replace_name(x):\n",
    "    if x == \"S\":\n",
    "        return \"Southampton\"\n",
    "    elif x == \"C\":\n",
    "        return \"Cherbourg\"\n",
    "    elif x == \"Q\":\n",
    "        return \"Queensland\"\n",
    "\n",
    "\n",
    "df.embarked = df.embarked.apply(lambda x: replace_name(x))"
   ]
  },
  {
   "cell_type": "code",
   "execution_count": 74,
   "metadata": {},
   "outputs": [
    {
     "data": {
      "application/javascript": [
       "\n",
       "            setTimeout(function() {\n",
       "                var nbb_cell_id = 74;\n",
       "                var nbb_unformatted_code = \"# encode sex as a binary variable\\ndf[\\\"is_male\\\"] = (df.sex == \\\"male\\\").astype(\\\"int\\\")\\n\\ndf.drop([\\\"sex\\\"], axis=1, inplace=True)\";\n",
       "                var nbb_formatted_code = \"# encode sex as a binary variable\\ndf[\\\"is_male\\\"] = (df.sex == \\\"male\\\").astype(\\\"int\\\")\\n\\ndf.drop([\\\"sex\\\"], axis=1, inplace=True)\";\n",
       "                var nbb_cells = Jupyter.notebook.get_cells();\n",
       "                for (var i = 0; i < nbb_cells.length; ++i) {\n",
       "                    if (nbb_cells[i].input_prompt_number == nbb_cell_id) {\n",
       "                        if (nbb_cells[i].get_text() == nbb_unformatted_code) {\n",
       "                             nbb_cells[i].set_text(nbb_formatted_code);\n",
       "                        }\n",
       "                        break;\n",
       "                    }\n",
       "                }\n",
       "            }, 500);\n",
       "            "
      ],
      "text/plain": [
       "<IPython.core.display.Javascript object>"
      ]
     },
     "metadata": {},
     "output_type": "display_data"
    }
   ],
   "source": [
    "# encode sex as a binary variable\n",
    "df[\"is_male\"] = (df.sex == \"male\").astype(\"int\")\n",
    "\n",
    "df.drop([\"sex\"], axis=1, inplace=True)"
   ]
  },
  {
   "cell_type": "code",
   "execution_count": 75,
   "metadata": {},
   "outputs": [
    {
     "data": {
      "text/plain": [
       "array(['X', 'C', 'E', 'G', 'D', 'A', 'B', 'F', 'T'], dtype=object)"
      ]
     },
     "execution_count": 75,
     "metadata": {},
     "output_type": "execute_result"
    },
    {
     "data": {
      "application/javascript": [
       "\n",
       "            setTimeout(function() {\n",
       "                var nbb_cell_id = 75;\n",
       "                var nbb_unformatted_code = \"# Replace null values in cabin_floor before encoding\\ndf.cabin_floor.fillna(\\\"X\\\", inplace=True)\\ndf.cabin_floor.unique()\";\n",
       "                var nbb_formatted_code = \"# Replace null values in cabin_floor before encoding\\ndf.cabin_floor.fillna(\\\"X\\\", inplace=True)\\ndf.cabin_floor.unique()\";\n",
       "                var nbb_cells = Jupyter.notebook.get_cells();\n",
       "                for (var i = 0; i < nbb_cells.length; ++i) {\n",
       "                    if (nbb_cells[i].input_prompt_number == nbb_cell_id) {\n",
       "                        if (nbb_cells[i].get_text() == nbb_unformatted_code) {\n",
       "                             nbb_cells[i].set_text(nbb_formatted_code);\n",
       "                        }\n",
       "                        break;\n",
       "                    }\n",
       "                }\n",
       "            }, 500);\n",
       "            "
      ],
      "text/plain": [
       "<IPython.core.display.Javascript object>"
      ]
     },
     "metadata": {},
     "output_type": "display_data"
    }
   ],
   "source": [
    "# Replace null values in cabin_floor before encoding\n",
    "df.cabin_floor.fillna(\"X\", inplace=True)\n",
    "df.cabin_floor.unique()"
   ]
  },
  {
   "cell_type": "code",
   "execution_count": 76,
   "metadata": {},
   "outputs": [
    {
     "data": {
      "text/html": [
       "<div>\n",
       "<style scoped>\n",
       "    .dataframe tbody tr th:only-of-type {\n",
       "        vertical-align: middle;\n",
       "    }\n",
       "\n",
       "    .dataframe tbody tr th {\n",
       "        vertical-align: top;\n",
       "    }\n",
       "\n",
       "    .dataframe thead th {\n",
       "        text-align: right;\n",
       "    }\n",
       "</style>\n",
       "<table border=\"1\" class=\"dataframe\">\n",
       "  <thead>\n",
       "    <tr style=\"text-align: right;\">\n",
       "      <th></th>\n",
       "      <th>survived</th>\n",
       "      <th>pclass</th>\n",
       "      <th>fare</th>\n",
       "      <th>has_nickname</th>\n",
       "      <th>age_clean</th>\n",
       "      <th>is_male</th>\n",
       "      <th>Southampton</th>\n",
       "      <th>Cherbourg</th>\n",
       "      <th>Queensland</th>\n",
       "      <th>Mr.</th>\n",
       "      <th>...</th>\n",
       "      <th>E</th>\n",
       "      <th>G</th>\n",
       "      <th>D</th>\n",
       "      <th>A</th>\n",
       "      <th>B</th>\n",
       "      <th>F</th>\n",
       "      <th>T</th>\n",
       "      <th>small_family</th>\n",
       "      <th>alone</th>\n",
       "      <th>big_family</th>\n",
       "    </tr>\n",
       "    <tr>\n",
       "      <th>PassengerId</th>\n",
       "      <th></th>\n",
       "      <th></th>\n",
       "      <th></th>\n",
       "      <th></th>\n",
       "      <th></th>\n",
       "      <th></th>\n",
       "      <th></th>\n",
       "      <th></th>\n",
       "      <th></th>\n",
       "      <th></th>\n",
       "      <th></th>\n",
       "      <th></th>\n",
       "      <th></th>\n",
       "      <th></th>\n",
       "      <th></th>\n",
       "      <th></th>\n",
       "      <th></th>\n",
       "      <th></th>\n",
       "      <th></th>\n",
       "      <th></th>\n",
       "      <th></th>\n",
       "    </tr>\n",
       "  </thead>\n",
       "  <tbody>\n",
       "    <tr>\n",
       "      <th>1</th>\n",
       "      <td>0.0</td>\n",
       "      <td>3</td>\n",
       "      <td>7.25</td>\n",
       "      <td>0</td>\n",
       "      <td>22.0</td>\n",
       "      <td>1</td>\n",
       "      <td>1.0</td>\n",
       "      <td>0.0</td>\n",
       "      <td>0.0</td>\n",
       "      <td>1.0</td>\n",
       "      <td>...</td>\n",
       "      <td>0.0</td>\n",
       "      <td>0.0</td>\n",
       "      <td>0.0</td>\n",
       "      <td>0.0</td>\n",
       "      <td>0.0</td>\n",
       "      <td>0.0</td>\n",
       "      <td>0.0</td>\n",
       "      <td>1.0</td>\n",
       "      <td>0.0</td>\n",
       "      <td>0.0</td>\n",
       "    </tr>\n",
       "  </tbody>\n",
       "</table>\n",
       "<p>1 rows × 27 columns</p>\n",
       "</div>"
      ],
      "text/plain": [
       "             survived  pclass  fare  has_nickname  age_clean  is_male  \\\n",
       "PassengerId                                                             \n",
       "1                 0.0       3  7.25             0       22.0        1   \n",
       "\n",
       "             Southampton  Cherbourg  Queensland  Mr.  ...    E    G    D    A  \\\n",
       "PassengerId                                           ...                       \n",
       "1                    1.0        0.0         0.0  1.0  ...  0.0  0.0  0.0  0.0   \n",
       "\n",
       "               B    F    T  small_family  alone  big_family  \n",
       "PassengerId                                                  \n",
       "1            0.0  0.0  0.0           1.0    0.0         0.0  \n",
       "\n",
       "[1 rows x 27 columns]"
      ]
     },
     "execution_count": 76,
     "metadata": {},
     "output_type": "execute_result"
    },
    {
     "data": {
      "application/javascript": [
       "\n",
       "            setTimeout(function() {\n",
       "                var nbb_cell_id = 76;\n",
       "                var nbb_unformatted_code = \"# Encode categorical variables\\nvariables = [\\\"embarked\\\", \\\"title_clean\\\", \\\"cabin_floor\\\", \\\"family_size\\\"]\\ncategory_columns = {}\\n\\nfor variable in variables:\\n\\n    # Factorize\\n    p = df[variable]\\n    p_encoded, p_category_names = p.factorize()\\n\\n    # Add to dictionary to know which columns map to which variables\\n    category_columns[variable] = list(p_category_names)\\n\\n    # Add to DataFrame\\n    df = df.join(\\n        pd.DataFrame(\\n            OneHotEncoder().fit_transform(p_encoded.reshape(-1, 1)).toarray(),\\n            columns=p_category_names,\\n            index=df.index,\\n        )\\n    )\\n\\n    # Drop column\\n    df.drop([variable], axis=1, inplace=True)\\n\\ndf.head(1)\";\n",
       "                var nbb_formatted_code = \"# Encode categorical variables\\nvariables = [\\\"embarked\\\", \\\"title_clean\\\", \\\"cabin_floor\\\", \\\"family_size\\\"]\\ncategory_columns = {}\\n\\nfor variable in variables:\\n\\n    # Factorize\\n    p = df[variable]\\n    p_encoded, p_category_names = p.factorize()\\n\\n    # Add to dictionary to know which columns map to which variables\\n    category_columns[variable] = list(p_category_names)\\n\\n    # Add to DataFrame\\n    df = df.join(\\n        pd.DataFrame(\\n            OneHotEncoder().fit_transform(p_encoded.reshape(-1, 1)).toarray(),\\n            columns=p_category_names,\\n            index=df.index,\\n        )\\n    )\\n\\n    # Drop column\\n    df.drop([variable], axis=1, inplace=True)\\n\\ndf.head(1)\";\n",
       "                var nbb_cells = Jupyter.notebook.get_cells();\n",
       "                for (var i = 0; i < nbb_cells.length; ++i) {\n",
       "                    if (nbb_cells[i].input_prompt_number == nbb_cell_id) {\n",
       "                        if (nbb_cells[i].get_text() == nbb_unformatted_code) {\n",
       "                             nbb_cells[i].set_text(nbb_formatted_code);\n",
       "                        }\n",
       "                        break;\n",
       "                    }\n",
       "                }\n",
       "            }, 500);\n",
       "            "
      ],
      "text/plain": [
       "<IPython.core.display.Javascript object>"
      ]
     },
     "metadata": {},
     "output_type": "display_data"
    }
   ],
   "source": [
    "# Encode categorical variables\n",
    "variables = [\"embarked\", \"title_clean\", \"cabin_floor\", \"family_size\"]\n",
    "category_columns = {}\n",
    "\n",
    "for variable in variables:\n",
    "\n",
    "    # Factorize\n",
    "    p = df[variable]\n",
    "    p_encoded, p_category_names = p.factorize()\n",
    "\n",
    "    # Add to dictionary to know which columns map to which variables\n",
    "    category_columns[variable] = list(p_category_names)\n",
    "\n",
    "    # Add to DataFrame\n",
    "    df = df.join(\n",
    "        pd.DataFrame(\n",
    "            OneHotEncoder().fit_transform(p_encoded.reshape(-1, 1)).toarray(),\n",
    "            columns=p_category_names,\n",
    "            index=df.index,\n",
    "        )\n",
    "    )\n",
    "\n",
    "    # Drop column\n",
    "    df.drop([variable], axis=1, inplace=True)\n",
    "\n",
    "df.head(1)"
   ]
  },
  {
   "cell_type": "code",
   "execution_count": 77,
   "metadata": {},
   "outputs": [
    {
     "name": "stdout",
     "output_type": "stream",
     "text": [
      "Number of categorical features: 27\n"
     ]
    },
    {
     "data": {
      "text/plain": [
       "{'embarked': ['Southampton', 'Cherbourg', 'Queensland'],\n",
       " 'title_clean': ['Mr.', 'Mrs.', 'Miss.', 'Master.', 'Rev.', 'Lady.'],\n",
       " 'cabin_floor': ['X', 'C', 'E', 'G', 'D', 'A', 'B', 'F', 'T'],\n",
       " 'family_size': ['small_family', 'alone', 'big_family']}"
      ]
     },
     "execution_count": 77,
     "metadata": {},
     "output_type": "execute_result"
    },
    {
     "data": {
      "application/javascript": [
       "\n",
       "            setTimeout(function() {\n",
       "                var nbb_cell_id = 77;\n",
       "                var nbb_unformatted_code = \"# Check what additional features we have\\nprint(f\\\"Number of categorical features: {df.columns.shape[0]}\\\")\\ncategory_columns\";\n",
       "                var nbb_formatted_code = \"# Check what additional features we have\\nprint(f\\\"Number of categorical features: {df.columns.shape[0]}\\\")\\ncategory_columns\";\n",
       "                var nbb_cells = Jupyter.notebook.get_cells();\n",
       "                for (var i = 0; i < nbb_cells.length; ++i) {\n",
       "                    if (nbb_cells[i].input_prompt_number == nbb_cell_id) {\n",
       "                        if (nbb_cells[i].get_text() == nbb_unformatted_code) {\n",
       "                             nbb_cells[i].set_text(nbb_formatted_code);\n",
       "                        }\n",
       "                        break;\n",
       "                    }\n",
       "                }\n",
       "            }, 500);\n",
       "            "
      ],
      "text/plain": [
       "<IPython.core.display.Javascript object>"
      ]
     },
     "metadata": {},
     "output_type": "display_data"
    }
   ],
   "source": [
    "# Check what additional features we have\n",
    "print(f\"Number of categorical features: {df.columns.shape[0]}\")\n",
    "category_columns"
   ]
  },
  {
   "cell_type": "code",
   "execution_count": 78,
   "metadata": {},
   "outputs": [
    {
     "data": {
      "text/plain": [
       "Index(['survived', 'pclass', 'fare', 'has_nickname', 'age_clean', 'is_male',\n",
       "       'Southampton', 'Cherbourg', 'Queensland', 'Mr.', 'Mrs.', 'Miss.',\n",
       "       'Master.', 'Rev.', 'Lady.', 'X', 'C', 'E', 'G', 'D', 'A', 'B', 'F', 'T',\n",
       "       'small_family', 'alone', 'big_family'],\n",
       "      dtype='object')"
      ]
     },
     "execution_count": 78,
     "metadata": {},
     "output_type": "execute_result"
    },
    {
     "data": {
      "application/javascript": [
       "\n",
       "            setTimeout(function() {\n",
       "                var nbb_cell_id = 78;\n",
       "                var nbb_unformatted_code = \"# print columns\\ndf.columns\";\n",
       "                var nbb_formatted_code = \"# print columns\\ndf.columns\";\n",
       "                var nbb_cells = Jupyter.notebook.get_cells();\n",
       "                for (var i = 0; i < nbb_cells.length; ++i) {\n",
       "                    if (nbb_cells[i].input_prompt_number == nbb_cell_id) {\n",
       "                        if (nbb_cells[i].get_text() == nbb_unformatted_code) {\n",
       "                             nbb_cells[i].set_text(nbb_formatted_code);\n",
       "                        }\n",
       "                        break;\n",
       "                    }\n",
       "                }\n",
       "            }, 500);\n",
       "            "
      ],
      "text/plain": [
       "<IPython.core.display.Javascript object>"
      ]
     },
     "metadata": {},
     "output_type": "display_data"
    }
   ],
   "source": [
    "# print columns\n",
    "df.columns"
   ]
  },
  {
   "cell_type": "code",
   "execution_count": 79,
   "metadata": {},
   "outputs": [
    {
     "data": {
      "application/javascript": [
       "\n",
       "            setTimeout(function() {\n",
       "                var nbb_cell_id = 79;\n",
       "                var nbb_unformatted_code = \"# Set up data for modeling\\nX_train = df.iloc[:891, 1:]\\ny_train = df.iloc[:891, 0]\";\n",
       "                var nbb_formatted_code = \"# Set up data for modeling\\nX_train = df.iloc[:891, 1:]\\ny_train = df.iloc[:891, 0]\";\n",
       "                var nbb_cells = Jupyter.notebook.get_cells();\n",
       "                for (var i = 0; i < nbb_cells.length; ++i) {\n",
       "                    if (nbb_cells[i].input_prompt_number == nbb_cell_id) {\n",
       "                        if (nbb_cells[i].get_text() == nbb_unformatted_code) {\n",
       "                             nbb_cells[i].set_text(nbb_formatted_code);\n",
       "                        }\n",
       "                        break;\n",
       "                    }\n",
       "                }\n",
       "            }, 500);\n",
       "            "
      ],
      "text/plain": [
       "<IPython.core.display.Javascript object>"
      ]
     },
     "metadata": {},
     "output_type": "display_data"
    }
   ],
   "source": [
    "# Set up data for modeling\n",
    "X_train = df.iloc[:891, 1:]\n",
    "y_train = df.iloc[:891, 0]"
   ]
  },
  {
   "cell_type": "code",
   "execution_count": 80,
   "metadata": {},
   "outputs": [
    {
     "data": {
      "text/html": [
       "<div>\n",
       "<style scoped>\n",
       "    .dataframe tbody tr th:only-of-type {\n",
       "        vertical-align: middle;\n",
       "    }\n",
       "\n",
       "    .dataframe tbody tr th {\n",
       "        vertical-align: top;\n",
       "    }\n",
       "\n",
       "    .dataframe thead th {\n",
       "        text-align: right;\n",
       "    }\n",
       "</style>\n",
       "<table border=\"1\" class=\"dataframe\">\n",
       "  <thead>\n",
       "    <tr style=\"text-align: right;\">\n",
       "      <th></th>\n",
       "      <th>pclass</th>\n",
       "      <th>fare</th>\n",
       "      <th>has_nickname</th>\n",
       "      <th>age_clean</th>\n",
       "      <th>is_male</th>\n",
       "      <th>Southampton</th>\n",
       "      <th>Cherbourg</th>\n",
       "      <th>Queensland</th>\n",
       "      <th>Mr.</th>\n",
       "      <th>Mrs.</th>\n",
       "      <th>...</th>\n",
       "      <th>E</th>\n",
       "      <th>G</th>\n",
       "      <th>D</th>\n",
       "      <th>A</th>\n",
       "      <th>B</th>\n",
       "      <th>F</th>\n",
       "      <th>T</th>\n",
       "      <th>small_family</th>\n",
       "      <th>alone</th>\n",
       "      <th>big_family</th>\n",
       "    </tr>\n",
       "    <tr>\n",
       "      <th>PassengerId</th>\n",
       "      <th></th>\n",
       "      <th></th>\n",
       "      <th></th>\n",
       "      <th></th>\n",
       "      <th></th>\n",
       "      <th></th>\n",
       "      <th></th>\n",
       "      <th></th>\n",
       "      <th></th>\n",
       "      <th></th>\n",
       "      <th></th>\n",
       "      <th></th>\n",
       "      <th></th>\n",
       "      <th></th>\n",
       "      <th></th>\n",
       "      <th></th>\n",
       "      <th></th>\n",
       "      <th></th>\n",
       "      <th></th>\n",
       "      <th></th>\n",
       "      <th></th>\n",
       "    </tr>\n",
       "  </thead>\n",
       "  <tbody>\n",
       "    <tr>\n",
       "      <th>1</th>\n",
       "      <td>3</td>\n",
       "      <td>7.2500</td>\n",
       "      <td>0</td>\n",
       "      <td>22.0</td>\n",
       "      <td>1</td>\n",
       "      <td>1.0</td>\n",
       "      <td>0.0</td>\n",
       "      <td>0.0</td>\n",
       "      <td>1.0</td>\n",
       "      <td>0.0</td>\n",
       "      <td>...</td>\n",
       "      <td>0.0</td>\n",
       "      <td>0.0</td>\n",
       "      <td>0.0</td>\n",
       "      <td>0.0</td>\n",
       "      <td>0.0</td>\n",
       "      <td>0.0</td>\n",
       "      <td>0.0</td>\n",
       "      <td>1.0</td>\n",
       "      <td>0.0</td>\n",
       "      <td>0.0</td>\n",
       "    </tr>\n",
       "    <tr>\n",
       "      <th>2</th>\n",
       "      <td>1</td>\n",
       "      <td>71.2833</td>\n",
       "      <td>1</td>\n",
       "      <td>38.0</td>\n",
       "      <td>0</td>\n",
       "      <td>0.0</td>\n",
       "      <td>1.0</td>\n",
       "      <td>0.0</td>\n",
       "      <td>0.0</td>\n",
       "      <td>1.0</td>\n",
       "      <td>...</td>\n",
       "      <td>0.0</td>\n",
       "      <td>0.0</td>\n",
       "      <td>0.0</td>\n",
       "      <td>0.0</td>\n",
       "      <td>0.0</td>\n",
       "      <td>0.0</td>\n",
       "      <td>0.0</td>\n",
       "      <td>1.0</td>\n",
       "      <td>0.0</td>\n",
       "      <td>0.0</td>\n",
       "    </tr>\n",
       "    <tr>\n",
       "      <th>3</th>\n",
       "      <td>3</td>\n",
       "      <td>7.9250</td>\n",
       "      <td>0</td>\n",
       "      <td>26.0</td>\n",
       "      <td>0</td>\n",
       "      <td>1.0</td>\n",
       "      <td>0.0</td>\n",
       "      <td>0.0</td>\n",
       "      <td>0.0</td>\n",
       "      <td>0.0</td>\n",
       "      <td>...</td>\n",
       "      <td>0.0</td>\n",
       "      <td>0.0</td>\n",
       "      <td>0.0</td>\n",
       "      <td>0.0</td>\n",
       "      <td>0.0</td>\n",
       "      <td>0.0</td>\n",
       "      <td>0.0</td>\n",
       "      <td>0.0</td>\n",
       "      <td>1.0</td>\n",
       "      <td>0.0</td>\n",
       "    </tr>\n",
       "    <tr>\n",
       "      <th>4</th>\n",
       "      <td>1</td>\n",
       "      <td>53.1000</td>\n",
       "      <td>1</td>\n",
       "      <td>35.0</td>\n",
       "      <td>0</td>\n",
       "      <td>1.0</td>\n",
       "      <td>0.0</td>\n",
       "      <td>0.0</td>\n",
       "      <td>0.0</td>\n",
       "      <td>1.0</td>\n",
       "      <td>...</td>\n",
       "      <td>0.0</td>\n",
       "      <td>0.0</td>\n",
       "      <td>0.0</td>\n",
       "      <td>0.0</td>\n",
       "      <td>0.0</td>\n",
       "      <td>0.0</td>\n",
       "      <td>0.0</td>\n",
       "      <td>1.0</td>\n",
       "      <td>0.0</td>\n",
       "      <td>0.0</td>\n",
       "    </tr>\n",
       "    <tr>\n",
       "      <th>5</th>\n",
       "      <td>3</td>\n",
       "      <td>8.0500</td>\n",
       "      <td>0</td>\n",
       "      <td>35.0</td>\n",
       "      <td>1</td>\n",
       "      <td>1.0</td>\n",
       "      <td>0.0</td>\n",
       "      <td>0.0</td>\n",
       "      <td>1.0</td>\n",
       "      <td>0.0</td>\n",
       "      <td>...</td>\n",
       "      <td>0.0</td>\n",
       "      <td>0.0</td>\n",
       "      <td>0.0</td>\n",
       "      <td>0.0</td>\n",
       "      <td>0.0</td>\n",
       "      <td>0.0</td>\n",
       "      <td>0.0</td>\n",
       "      <td>0.0</td>\n",
       "      <td>1.0</td>\n",
       "      <td>0.0</td>\n",
       "    </tr>\n",
       "    <tr>\n",
       "      <th>...</th>\n",
       "      <td>...</td>\n",
       "      <td>...</td>\n",
       "      <td>...</td>\n",
       "      <td>...</td>\n",
       "      <td>...</td>\n",
       "      <td>...</td>\n",
       "      <td>...</td>\n",
       "      <td>...</td>\n",
       "      <td>...</td>\n",
       "      <td>...</td>\n",
       "      <td>...</td>\n",
       "      <td>...</td>\n",
       "      <td>...</td>\n",
       "      <td>...</td>\n",
       "      <td>...</td>\n",
       "      <td>...</td>\n",
       "      <td>...</td>\n",
       "      <td>...</td>\n",
       "      <td>...</td>\n",
       "      <td>...</td>\n",
       "      <td>...</td>\n",
       "    </tr>\n",
       "    <tr>\n",
       "      <th>887</th>\n",
       "      <td>2</td>\n",
       "      <td>13.0000</td>\n",
       "      <td>0</td>\n",
       "      <td>27.0</td>\n",
       "      <td>1</td>\n",
       "      <td>1.0</td>\n",
       "      <td>0.0</td>\n",
       "      <td>0.0</td>\n",
       "      <td>0.0</td>\n",
       "      <td>0.0</td>\n",
       "      <td>...</td>\n",
       "      <td>0.0</td>\n",
       "      <td>0.0</td>\n",
       "      <td>0.0</td>\n",
       "      <td>0.0</td>\n",
       "      <td>0.0</td>\n",
       "      <td>0.0</td>\n",
       "      <td>0.0</td>\n",
       "      <td>0.0</td>\n",
       "      <td>1.0</td>\n",
       "      <td>0.0</td>\n",
       "    </tr>\n",
       "    <tr>\n",
       "      <th>888</th>\n",
       "      <td>1</td>\n",
       "      <td>30.0000</td>\n",
       "      <td>0</td>\n",
       "      <td>19.0</td>\n",
       "      <td>0</td>\n",
       "      <td>1.0</td>\n",
       "      <td>0.0</td>\n",
       "      <td>0.0</td>\n",
       "      <td>0.0</td>\n",
       "      <td>0.0</td>\n",
       "      <td>...</td>\n",
       "      <td>0.0</td>\n",
       "      <td>0.0</td>\n",
       "      <td>0.0</td>\n",
       "      <td>0.0</td>\n",
       "      <td>1.0</td>\n",
       "      <td>0.0</td>\n",
       "      <td>0.0</td>\n",
       "      <td>0.0</td>\n",
       "      <td>1.0</td>\n",
       "      <td>0.0</td>\n",
       "    </tr>\n",
       "    <tr>\n",
       "      <th>889</th>\n",
       "      <td>3</td>\n",
       "      <td>23.4500</td>\n",
       "      <td>0</td>\n",
       "      <td>22.0</td>\n",
       "      <td>0</td>\n",
       "      <td>1.0</td>\n",
       "      <td>0.0</td>\n",
       "      <td>0.0</td>\n",
       "      <td>0.0</td>\n",
       "      <td>0.0</td>\n",
       "      <td>...</td>\n",
       "      <td>0.0</td>\n",
       "      <td>0.0</td>\n",
       "      <td>0.0</td>\n",
       "      <td>0.0</td>\n",
       "      <td>0.0</td>\n",
       "      <td>0.0</td>\n",
       "      <td>0.0</td>\n",
       "      <td>1.0</td>\n",
       "      <td>0.0</td>\n",
       "      <td>0.0</td>\n",
       "    </tr>\n",
       "    <tr>\n",
       "      <th>890</th>\n",
       "      <td>1</td>\n",
       "      <td>30.0000</td>\n",
       "      <td>0</td>\n",
       "      <td>26.0</td>\n",
       "      <td>1</td>\n",
       "      <td>0.0</td>\n",
       "      <td>1.0</td>\n",
       "      <td>0.0</td>\n",
       "      <td>1.0</td>\n",
       "      <td>0.0</td>\n",
       "      <td>...</td>\n",
       "      <td>0.0</td>\n",
       "      <td>0.0</td>\n",
       "      <td>0.0</td>\n",
       "      <td>0.0</td>\n",
       "      <td>0.0</td>\n",
       "      <td>0.0</td>\n",
       "      <td>0.0</td>\n",
       "      <td>0.0</td>\n",
       "      <td>1.0</td>\n",
       "      <td>0.0</td>\n",
       "    </tr>\n",
       "    <tr>\n",
       "      <th>891</th>\n",
       "      <td>3</td>\n",
       "      <td>7.7500</td>\n",
       "      <td>0</td>\n",
       "      <td>32.0</td>\n",
       "      <td>1</td>\n",
       "      <td>0.0</td>\n",
       "      <td>0.0</td>\n",
       "      <td>1.0</td>\n",
       "      <td>1.0</td>\n",
       "      <td>0.0</td>\n",
       "      <td>...</td>\n",
       "      <td>0.0</td>\n",
       "      <td>0.0</td>\n",
       "      <td>0.0</td>\n",
       "      <td>0.0</td>\n",
       "      <td>0.0</td>\n",
       "      <td>0.0</td>\n",
       "      <td>0.0</td>\n",
       "      <td>0.0</td>\n",
       "      <td>1.0</td>\n",
       "      <td>0.0</td>\n",
       "    </tr>\n",
       "  </tbody>\n",
       "</table>\n",
       "<p>891 rows × 26 columns</p>\n",
       "</div>"
      ],
      "text/plain": [
       "             pclass     fare  has_nickname  age_clean  is_male  Southampton  \\\n",
       "PassengerId                                                                   \n",
       "1                 3   7.2500             0       22.0        1          1.0   \n",
       "2                 1  71.2833             1       38.0        0          0.0   \n",
       "3                 3   7.9250             0       26.0        0          1.0   \n",
       "4                 1  53.1000             1       35.0        0          1.0   \n",
       "5                 3   8.0500             0       35.0        1          1.0   \n",
       "...             ...      ...           ...        ...      ...          ...   \n",
       "887               2  13.0000             0       27.0        1          1.0   \n",
       "888               1  30.0000             0       19.0        0          1.0   \n",
       "889               3  23.4500             0       22.0        0          1.0   \n",
       "890               1  30.0000             0       26.0        1          0.0   \n",
       "891               3   7.7500             0       32.0        1          0.0   \n",
       "\n",
       "             Cherbourg  Queensland  Mr.  Mrs.  ...    E    G    D    A    B  \\\n",
       "PassengerId                                    ...                            \n",
       "1                  0.0         0.0  1.0   0.0  ...  0.0  0.0  0.0  0.0  0.0   \n",
       "2                  1.0         0.0  0.0   1.0  ...  0.0  0.0  0.0  0.0  0.0   \n",
       "3                  0.0         0.0  0.0   0.0  ...  0.0  0.0  0.0  0.0  0.0   \n",
       "4                  0.0         0.0  0.0   1.0  ...  0.0  0.0  0.0  0.0  0.0   \n",
       "5                  0.0         0.0  1.0   0.0  ...  0.0  0.0  0.0  0.0  0.0   \n",
       "...                ...         ...  ...   ...  ...  ...  ...  ...  ...  ...   \n",
       "887                0.0         0.0  0.0   0.0  ...  0.0  0.0  0.0  0.0  0.0   \n",
       "888                0.0         0.0  0.0   0.0  ...  0.0  0.0  0.0  0.0  1.0   \n",
       "889                0.0         0.0  0.0   0.0  ...  0.0  0.0  0.0  0.0  0.0   \n",
       "890                1.0         0.0  1.0   0.0  ...  0.0  0.0  0.0  0.0  0.0   \n",
       "891                0.0         1.0  1.0   0.0  ...  0.0  0.0  0.0  0.0  0.0   \n",
       "\n",
       "               F    T  small_family  alone  big_family  \n",
       "PassengerId                                             \n",
       "1            0.0  0.0           1.0    0.0         0.0  \n",
       "2            0.0  0.0           1.0    0.0         0.0  \n",
       "3            0.0  0.0           0.0    1.0         0.0  \n",
       "4            0.0  0.0           1.0    0.0         0.0  \n",
       "5            0.0  0.0           0.0    1.0         0.0  \n",
       "...          ...  ...           ...    ...         ...  \n",
       "887          0.0  0.0           0.0    1.0         0.0  \n",
       "888          0.0  0.0           0.0    1.0         0.0  \n",
       "889          0.0  0.0           1.0    0.0         0.0  \n",
       "890          0.0  0.0           0.0    1.0         0.0  \n",
       "891          0.0  0.0           0.0    1.0         0.0  \n",
       "\n",
       "[891 rows x 26 columns]"
      ]
     },
     "execution_count": 80,
     "metadata": {},
     "output_type": "execute_result"
    },
    {
     "data": {
      "application/javascript": [
       "\n",
       "            setTimeout(function() {\n",
       "                var nbb_cell_id = 80;\n",
       "                var nbb_unformatted_code = \"X_train\";\n",
       "                var nbb_formatted_code = \"X_train\";\n",
       "                var nbb_cells = Jupyter.notebook.get_cells();\n",
       "                for (var i = 0; i < nbb_cells.length; ++i) {\n",
       "                    if (nbb_cells[i].input_prompt_number == nbb_cell_id) {\n",
       "                        if (nbb_cells[i].get_text() == nbb_unformatted_code) {\n",
       "                             nbb_cells[i].set_text(nbb_formatted_code);\n",
       "                        }\n",
       "                        break;\n",
       "                    }\n",
       "                }\n",
       "            }, 500);\n",
       "            "
      ],
      "text/plain": [
       "<IPython.core.display.Javascript object>"
      ]
     },
     "metadata": {},
     "output_type": "display_data"
    }
   ],
   "source": [
    "X_train"
   ]
  },
  {
   "cell_type": "markdown",
   "metadata": {},
   "source": [
    "### Logistic Regression"
   ]
  },
  {
   "cell_type": "code",
   "execution_count": 81,
   "metadata": {},
   "outputs": [
    {
     "name": "stdout",
     "output_type": "stream",
     "text": [
      "Score: 84.1%\n",
      "Precision: 79.9%\n",
      "Recall: 78.1%\n",
      "F1: 79.0%\n"
     ]
    },
    {
     "name": "stderr",
     "output_type": "stream",
     "text": [
      "/Users/sarinachen/opt/anaconda3/lib/python3.7/site-packages/sklearn/linear_model/_logistic.py:940: ConvergenceWarning: lbfgs failed to converge (status=1):\n",
      "STOP: TOTAL NO. of ITERATIONS REACHED LIMIT.\n",
      "\n",
      "Increase the number of iterations (max_iter) or scale the data as shown in:\n",
      "    https://scikit-learn.org/stable/modules/preprocessing.html\n",
      "Please also refer to the documentation for alternative solver options:\n",
      "    https://scikit-learn.org/stable/modules/linear_model.html#logistic-regression\n",
      "  extra_warning_msg=_LOGISTIC_SOLVER_CONVERGENCE_MSG)\n"
     ]
    },
    {
     "data": {
      "application/javascript": [
       "\n",
       "            setTimeout(function() {\n",
       "                var nbb_cell_id = 81;\n",
       "                var nbb_unformatted_code = \"# Set up Log Reg\\nlog_reg = LogisticRegression(random_state=42)\\nlog_reg.fit(X_train, y_train)\\n\\n# Print Scores\\ntn, fp, fn, tp = confusion_matrix(y_train, log_reg.predict(X_train)).ravel()\\nscore = (tn + tp) / np.sum([tn, fp, fn, tp])\\nprecision = tp / (tp + fp)\\nrecall = tp / (tp + fn)\\nf1 = 2 * precision * recall / (precision + recall)\\nprint(f\\\"Score: {round(score*100, 1)}%\\\")\\nprint(f\\\"Precision: {round(precision*100, 1)}%\\\")\\nprint(f\\\"Recall: {round(recall*100, 1)}%\\\")\\nprint(f\\\"F1: {round(f1*100, 1)}%\\\")\";\n",
       "                var nbb_formatted_code = \"# Set up Log Reg\\nlog_reg = LogisticRegression(random_state=42)\\nlog_reg.fit(X_train, y_train)\\n\\n# Print Scores\\ntn, fp, fn, tp = confusion_matrix(y_train, log_reg.predict(X_train)).ravel()\\nscore = (tn + tp) / np.sum([tn, fp, fn, tp])\\nprecision = tp / (tp + fp)\\nrecall = tp / (tp + fn)\\nf1 = 2 * precision * recall / (precision + recall)\\nprint(f\\\"Score: {round(score*100, 1)}%\\\")\\nprint(f\\\"Precision: {round(precision*100, 1)}%\\\")\\nprint(f\\\"Recall: {round(recall*100, 1)}%\\\")\\nprint(f\\\"F1: {round(f1*100, 1)}%\\\")\";\n",
       "                var nbb_cells = Jupyter.notebook.get_cells();\n",
       "                for (var i = 0; i < nbb_cells.length; ++i) {\n",
       "                    if (nbb_cells[i].input_prompt_number == nbb_cell_id) {\n",
       "                        if (nbb_cells[i].get_text() == nbb_unformatted_code) {\n",
       "                             nbb_cells[i].set_text(nbb_formatted_code);\n",
       "                        }\n",
       "                        break;\n",
       "                    }\n",
       "                }\n",
       "            }, 500);\n",
       "            "
      ],
      "text/plain": [
       "<IPython.core.display.Javascript object>"
      ]
     },
     "metadata": {},
     "output_type": "display_data"
    }
   ],
   "source": [
    "# Set up Log Reg\n",
    "log_reg = LogisticRegression(random_state=42)\n",
    "log_reg.fit(X_train, y_train)\n",
    "\n",
    "# Print Scores\n",
    "tn, fp, fn, tp = confusion_matrix(y_train, log_reg.predict(X_train)).ravel()\n",
    "score = (tn + tp) / np.sum([tn, fp, fn, tp])\n",
    "precision = tp / (tp + fp)\n",
    "recall = tp / (tp + fn)\n",
    "f1 = 2 * precision * recall / (precision + recall)\n",
    "print(f\"Score: {round(score*100, 1)}%\")\n",
    "print(f\"Precision: {round(precision*100, 1)}%\")\n",
    "print(f\"Recall: {round(recall*100, 1)}%\")\n",
    "print(f\"F1: {round(f1*100, 1)}%\")"
   ]
  },
  {
   "cell_type": "code",
   "execution_count": 82,
   "metadata": {},
   "outputs": [
    {
     "data": {
      "text/html": [
       "<div>\n",
       "<style scoped>\n",
       "    .dataframe tbody tr th:only-of-type {\n",
       "        vertical-align: middle;\n",
       "    }\n",
       "\n",
       "    .dataframe tbody tr th {\n",
       "        vertical-align: top;\n",
       "    }\n",
       "\n",
       "    .dataframe thead th {\n",
       "        text-align: right;\n",
       "    }\n",
       "</style>\n",
       "<table border=\"1\" class=\"dataframe\">\n",
       "  <thead>\n",
       "    <tr style=\"text-align: right;\">\n",
       "      <th></th>\n",
       "      <th>Feature</th>\n",
       "      <th>Correlation</th>\n",
       "    </tr>\n",
       "  </thead>\n",
       "  <tbody>\n",
       "    <tr>\n",
       "      <th>11</th>\n",
       "      <td>Master.</td>\n",
       "      <td>1.478515</td>\n",
       "    </tr>\n",
       "    <tr>\n",
       "      <th>24</th>\n",
       "      <td>alone</td>\n",
       "      <td>1.329440</td>\n",
       "    </tr>\n",
       "    <tr>\n",
       "      <th>23</th>\n",
       "      <td>small_family</td>\n",
       "      <td>0.998916</td>\n",
       "    </tr>\n",
       "    <tr>\n",
       "      <th>2</th>\n",
       "      <td>has_nickname</td>\n",
       "      <td>0.959861</td>\n",
       "    </tr>\n",
       "    <tr>\n",
       "      <th>16</th>\n",
       "      <td>E</td>\n",
       "      <td>0.920991</td>\n",
       "    </tr>\n",
       "    <tr>\n",
       "      <th>10</th>\n",
       "      <td>Miss.</td>\n",
       "      <td>0.813070</td>\n",
       "    </tr>\n",
       "    <tr>\n",
       "      <th>18</th>\n",
       "      <td>D</td>\n",
       "      <td>0.717081</td>\n",
       "    </tr>\n",
       "    <tr>\n",
       "      <th>9</th>\n",
       "      <td>Mrs.</td>\n",
       "      <td>0.633825</td>\n",
       "    </tr>\n",
       "    <tr>\n",
       "      <th>6</th>\n",
       "      <td>Cherbourg</td>\n",
       "      <td>0.466314</td>\n",
       "    </tr>\n",
       "    <tr>\n",
       "      <th>7</th>\n",
       "      <td>Queensland</td>\n",
       "      <td>0.430940</td>\n",
       "    </tr>\n",
       "    <tr>\n",
       "      <th>20</th>\n",
       "      <td>B</td>\n",
       "      <td>0.209435</td>\n",
       "    </tr>\n",
       "    <tr>\n",
       "      <th>13</th>\n",
       "      <td>Lady.</td>\n",
       "      <td>0.197051</td>\n",
       "    </tr>\n",
       "    <tr>\n",
       "      <th>5</th>\n",
       "      <td>Southampton</td>\n",
       "      <td>0.161343</td>\n",
       "    </tr>\n",
       "    <tr>\n",
       "      <th>19</th>\n",
       "      <td>A</td>\n",
       "      <td>0.159488</td>\n",
       "    </tr>\n",
       "    <tr>\n",
       "      <th>21</th>\n",
       "      <td>F</td>\n",
       "      <td>0.130521</td>\n",
       "    </tr>\n",
       "    <tr>\n",
       "      <th>1</th>\n",
       "      <td>fare</td>\n",
       "      <td>0.003976</td>\n",
       "    </tr>\n",
       "    <tr>\n",
       "      <th>3</th>\n",
       "      <td>age_clean</td>\n",
       "      <td>-0.027898</td>\n",
       "    </tr>\n",
       "    <tr>\n",
       "      <th>22</th>\n",
       "      <td>T</td>\n",
       "      <td>-0.118845</td>\n",
       "    </tr>\n",
       "    <tr>\n",
       "      <th>15</th>\n",
       "      <td>C</td>\n",
       "      <td>-0.187911</td>\n",
       "    </tr>\n",
       "    <tr>\n",
       "      <th>14</th>\n",
       "      <td>X</td>\n",
       "      <td>-0.355700</td>\n",
       "    </tr>\n",
       "    <tr>\n",
       "      <th>17</th>\n",
       "      <td>G</td>\n",
       "      <td>-0.416464</td>\n",
       "    </tr>\n",
       "    <tr>\n",
       "      <th>4</th>\n",
       "      <td>is_male</td>\n",
       "      <td>-0.585350</td>\n",
       "    </tr>\n",
       "    <tr>\n",
       "      <th>12</th>\n",
       "      <td>Rev.</td>\n",
       "      <td>-0.691862</td>\n",
       "    </tr>\n",
       "    <tr>\n",
       "      <th>0</th>\n",
       "      <td>pclass</td>\n",
       "      <td>-0.809639</td>\n",
       "    </tr>\n",
       "    <tr>\n",
       "      <th>25</th>\n",
       "      <td>big_family</td>\n",
       "      <td>-1.269759</td>\n",
       "    </tr>\n",
       "    <tr>\n",
       "      <th>8</th>\n",
       "      <td>Mr.</td>\n",
       "      <td>-1.372003</td>\n",
       "    </tr>\n",
       "  </tbody>\n",
       "</table>\n",
       "</div>"
      ],
      "text/plain": [
       "         Feature  Correlation\n",
       "11       Master.     1.478515\n",
       "24         alone     1.329440\n",
       "23  small_family     0.998916\n",
       "2   has_nickname     0.959861\n",
       "16             E     0.920991\n",
       "10         Miss.     0.813070\n",
       "18             D     0.717081\n",
       "9           Mrs.     0.633825\n",
       "6      Cherbourg     0.466314\n",
       "7     Queensland     0.430940\n",
       "20             B     0.209435\n",
       "13         Lady.     0.197051\n",
       "5    Southampton     0.161343\n",
       "19             A     0.159488\n",
       "21             F     0.130521\n",
       "1           fare     0.003976\n",
       "3      age_clean    -0.027898\n",
       "22             T    -0.118845\n",
       "15             C    -0.187911\n",
       "14             X    -0.355700\n",
       "17             G    -0.416464\n",
       "4        is_male    -0.585350\n",
       "12          Rev.    -0.691862\n",
       "0         pclass    -0.809639\n",
       "25    big_family    -1.269759\n",
       "8            Mr.    -1.372003"
      ]
     },
     "execution_count": 82,
     "metadata": {},
     "output_type": "execute_result"
    },
    {
     "data": {
      "application/javascript": [
       "\n",
       "            setTimeout(function() {\n",
       "                var nbb_cell_id = 82;\n",
       "                var nbb_unformatted_code = \"# See coefficients of logistic regression (i.e. the weight of each feature)\\ncoeff_df = pd.DataFrame(X_train.columns)\\ncoeff_df.columns = [\\\"Feature\\\"]\\ncoeff_df[\\\"Correlation\\\"] = pd.Series(log_reg.coef_[0])\\n\\ncoeff_df.sort_values(by=\\\"Correlation\\\", ascending=False)\";\n",
       "                var nbb_formatted_code = \"# See coefficients of logistic regression (i.e. the weight of each feature)\\ncoeff_df = pd.DataFrame(X_train.columns)\\ncoeff_df.columns = [\\\"Feature\\\"]\\ncoeff_df[\\\"Correlation\\\"] = pd.Series(log_reg.coef_[0])\\n\\ncoeff_df.sort_values(by=\\\"Correlation\\\", ascending=False)\";\n",
       "                var nbb_cells = Jupyter.notebook.get_cells();\n",
       "                for (var i = 0; i < nbb_cells.length; ++i) {\n",
       "                    if (nbb_cells[i].input_prompt_number == nbb_cell_id) {\n",
       "                        if (nbb_cells[i].get_text() == nbb_unformatted_code) {\n",
       "                             nbb_cells[i].set_text(nbb_formatted_code);\n",
       "                        }\n",
       "                        break;\n",
       "                    }\n",
       "                }\n",
       "            }, 500);\n",
       "            "
      ],
      "text/plain": [
       "<IPython.core.display.Javascript object>"
      ]
     },
     "metadata": {},
     "output_type": "display_data"
    }
   ],
   "source": [
    "# See coefficients of logistic regression (i.e. the weight of each feature)\n",
    "coeff_df = pd.DataFrame(X_train.columns)\n",
    "coeff_df.columns = [\"Feature\"]\n",
    "coeff_df[\"Correlation\"] = pd.Series(log_reg.coef_[0])\n",
    "\n",
    "coeff_df.sort_values(by=\"Correlation\", ascending=False)"
   ]
  },
  {
   "cell_type": "markdown",
   "metadata": {},
   "source": [
    "This confirms some trends we already know:\n",
    "* Men (with the title `Mr.`) have low chances of surviving.\n",
    "* The lower a passenger's `pclass` is, the lower his/her chance of survival is.\n",
    "* Families of 1-3 have higher chances of surviving.\n",
    "* Young men (with the title `Master.`) have good chances of surviving.\n",
    "\n",
    "One unexpected feature that had significant weight was `alone`. Most passengers traveled alone, so I did not think this feature should have been important in increasing the chances of survival."
   ]
  },
  {
   "cell_type": "code",
   "execution_count": 83,
   "metadata": {
    "scrolled": true
   },
   "outputs": [
    {
     "data": {
      "image/png": "[encoded data removed]",
      "text/plain": [
       "<Figure size 432x288 with 1 Axes>"
      ]
     },
     "metadata": {
      "needs_background": "light"
     },
     "output_type": "display_data"
    },
    {
     "data": {
      "application/javascript": [
       "\n",
       "            setTimeout(function() {\n",
       "                var nbb_cell_id = 83;\n",
       "                var nbb_unformatted_code = \"# Plot ROC curve\\nplot_roc_curve(log_reg, X_train, y_train)\\nplt.show()\";\n",
       "                var nbb_formatted_code = \"# Plot ROC curve\\nplot_roc_curve(log_reg, X_train, y_train)\\nplt.show()\";\n",
       "                var nbb_cells = Jupyter.notebook.get_cells();\n",
       "                for (var i = 0; i < nbb_cells.length; ++i) {\n",
       "                    if (nbb_cells[i].input_prompt_number == nbb_cell_id) {\n",
       "                        if (nbb_cells[i].get_text() == nbb_unformatted_code) {\n",
       "                             nbb_cells[i].set_text(nbb_formatted_code);\n",
       "                        }\n",
       "                        break;\n",
       "                    }\n",
       "                }\n",
       "            }, 500);\n",
       "            "
      ],
      "text/plain": [
       "<IPython.core.display.Javascript object>"
      ]
     },
     "metadata": {},
     "output_type": "display_data"
    }
   ],
   "source": [
    "# Plot ROC curve\n",
    "plot_roc_curve(log_reg, X_train, y_train)\n",
    "plt.show()"
   ]
  },
  {
   "cell_type": "code",
   "execution_count": 84,
   "metadata": {},
   "outputs": [
    {
     "name": "stdout",
     "output_type": "stream",
     "text": [
      "Score: 84.4% | Precision: 80.6% | Recall: 78.3%\n",
      "Score: 83.7% | Precision: 78.3% | Recall: 79.4%\n",
      "Score: 80.9% | Precision: 77.4% | Recall: 70.6%\n",
      "Score: 82.6% | Precision: 78.5% | Recall: 75.0%\n",
      "Score: 84.3% | Precision: 79.7% | Recall: 79.7%\n"
     ]
    },
    {
     "data": {
      "application/javascript": [
       "\n",
       "            setTimeout(function() {\n",
       "                var nbb_cell_id = 84;\n",
       "                var nbb_unformatted_code = \"# Try again with cross validation (to prevent overfitting)\\nskf = StratifiedKFold(n_splits=5, shuffle=True, random_state=42)\\n\\n# Split test and train datasets using k-fold stratified cv (n=5)\\nfor train_index, test_index in skf.split(X_train, y_train):\\n\\n    # Split data\\n    X_cv_train, X_cv_test = X_train.iloc[train_index], X_train.iloc[test_index]\\n    y_cv_train, y_cv_test = y_train.iloc[train_index], y_train.iloc[test_index]\\n\\n    # Print scores\\n    log_reg = LogisticRegression(random_state=42, max_iter=9999)\\n    log_reg.fit(X_cv_train, y_cv_train)\\n    tn, fp, fn, tp = confusion_matrix(y_cv_test, log_reg.predict(X_cv_test)).ravel()\\n    score = (tn + tp) / np.sum([tn, fp, fn, tp])\\n    precision = tp / (tp + fp)\\n    recall = tp / (tp + fn)\\n    print(\\n        f\\\"Score: {round(score*100, 1)}% | Precision: {round(precision*100, 1)}% | Recall: {round(recall*100, 1)}%\\\"\\n    )\";\n",
       "                var nbb_formatted_code = \"# Try again with cross validation (to prevent overfitting)\\nskf = StratifiedKFold(n_splits=5, shuffle=True, random_state=42)\\n\\n# Split test and train datasets using k-fold stratified cv (n=5)\\nfor train_index, test_index in skf.split(X_train, y_train):\\n\\n    # Split data\\n    X_cv_train, X_cv_test = X_train.iloc[train_index], X_train.iloc[test_index]\\n    y_cv_train, y_cv_test = y_train.iloc[train_index], y_train.iloc[test_index]\\n\\n    # Print scores\\n    log_reg = LogisticRegression(random_state=42, max_iter=9999)\\n    log_reg.fit(X_cv_train, y_cv_train)\\n    tn, fp, fn, tp = confusion_matrix(y_cv_test, log_reg.predict(X_cv_test)).ravel()\\n    score = (tn + tp) / np.sum([tn, fp, fn, tp])\\n    precision = tp / (tp + fp)\\n    recall = tp / (tp + fn)\\n    print(\\n        f\\\"Score: {round(score*100, 1)}% | Precision: {round(precision*100, 1)}% | Recall: {round(recall*100, 1)}%\\\"\\n    )\";\n",
       "                var nbb_cells = Jupyter.notebook.get_cells();\n",
       "                for (var i = 0; i < nbb_cells.length; ++i) {\n",
       "                    if (nbb_cells[i].input_prompt_number == nbb_cell_id) {\n",
       "                        if (nbb_cells[i].get_text() == nbb_unformatted_code) {\n",
       "                             nbb_cells[i].set_text(nbb_formatted_code);\n",
       "                        }\n",
       "                        break;\n",
       "                    }\n",
       "                }\n",
       "            }, 500);\n",
       "            "
      ],
      "text/plain": [
       "<IPython.core.display.Javascript object>"
      ]
     },
     "metadata": {},
     "output_type": "display_data"
    }
   ],
   "source": [
    "# Try again with cross validation (to prevent overfitting)\n",
    "skf = StratifiedKFold(n_splits=5, shuffle=True, random_state=42)\n",
    "\n",
    "# Split test and train datasets using k-fold stratified cv (n=5)\n",
    "for train_index, test_index in skf.split(X_train, y_train):\n",
    "\n",
    "    # Split data\n",
    "    X_cv_train, X_cv_test = X_train.iloc[train_index], X_train.iloc[test_index]\n",
    "    y_cv_train, y_cv_test = y_train.iloc[train_index], y_train.iloc[test_index]\n",
    "\n",
    "    # Print scores\n",
    "    log_reg = LogisticRegression(random_state=42, max_iter=9999)\n",
    "    log_reg.fit(X_cv_train, y_cv_train)\n",
    "    tn, fp, fn, tp = confusion_matrix(y_cv_test, log_reg.predict(X_cv_test)).ravel()\n",
    "    score = (tn + tp) / np.sum([tn, fp, fn, tp])\n",
    "    precision = tp / (tp + fp)\n",
    "    recall = tp / (tp + fn)\n",
    "    print(\n",
    "        f\"Score: {round(score*100, 1)}% | Precision: {round(precision*100, 1)}% | Recall: {round(recall*100, 1)}%\"\n",
    "    )"
   ]
  },
  {
   "cell_type": "markdown",
   "metadata": {},
   "source": [
    "### Decision Tree"
   ]
  },
  {
   "cell_type": "code",
   "execution_count": 85,
   "metadata": {},
   "outputs": [
    {
     "name": "stdout",
     "output_type": "stream",
     "text": [
      "Score: 84.4%\n",
      "Precision: 78.1%\n",
      "Recall: 82.5%\n",
      "F1: 80.2%\n"
     ]
    },
    {
     "data": {
      "application/javascript": [
       "\n",
       "            setTimeout(function() {\n",
       "                var nbb_cell_id = 85;\n",
       "                var nbb_unformatted_code = \"dtc = DecisionTreeClassifier(random_state=42, max_leaf_nodes=10)\\ndtc.fit(X_train, y_train)\\n\\n# Print Scores\\ntn, fp, fn, tp = confusion_matrix(y_train, dtc.predict(X_train)).ravel()\\nscore = (tn + tp) / np.sum([tn, fp, fn, tp])\\nprecision = tp / (tp + fp)\\nrecall = tp / (tp + fn)\\nf1 = 2 * precision * recall / (precision + recall)\\nprint(f\\\"Score: {round(score*100, 1)}%\\\")\\nprint(f\\\"Precision: {round(precision*100, 1)}%\\\")\\nprint(f\\\"Recall: {round(recall*100, 1)}%\\\")\\nprint(f\\\"F1: {round(f1*100, 1)}%\\\")\";\n",
       "                var nbb_formatted_code = \"dtc = DecisionTreeClassifier(random_state=42, max_leaf_nodes=10)\\ndtc.fit(X_train, y_train)\\n\\n# Print Scores\\ntn, fp, fn, tp = confusion_matrix(y_train, dtc.predict(X_train)).ravel()\\nscore = (tn + tp) / np.sum([tn, fp, fn, tp])\\nprecision = tp / (tp + fp)\\nrecall = tp / (tp + fn)\\nf1 = 2 * precision * recall / (precision + recall)\\nprint(f\\\"Score: {round(score*100, 1)}%\\\")\\nprint(f\\\"Precision: {round(precision*100, 1)}%\\\")\\nprint(f\\\"Recall: {round(recall*100, 1)}%\\\")\\nprint(f\\\"F1: {round(f1*100, 1)}%\\\")\";\n",
       "                var nbb_cells = Jupyter.notebook.get_cells();\n",
       "                for (var i = 0; i < nbb_cells.length; ++i) {\n",
       "                    if (nbb_cells[i].input_prompt_number == nbb_cell_id) {\n",
       "                        if (nbb_cells[i].get_text() == nbb_unformatted_code) {\n",
       "                             nbb_cells[i].set_text(nbb_formatted_code);\n",
       "                        }\n",
       "                        break;\n",
       "                    }\n",
       "                }\n",
       "            }, 500);\n",
       "            "
      ],
      "text/plain": [
       "<IPython.core.display.Javascript object>"
      ]
     },
     "metadata": {},
     "output_type": "display_data"
    }
   ],
   "source": [
    "dtc = DecisionTreeClassifier(random_state=42, max_leaf_nodes=10)\n",
    "dtc.fit(X_train, y_train)\n",
    "\n",
    "# Print Scores\n",
    "tn, fp, fn, tp = confusion_matrix(y_train, dtc.predict(X_train)).ravel()\n",
    "score = (tn + tp) / np.sum([tn, fp, fn, tp])\n",
    "precision = tp / (tp + fp)\n",
    "recall = tp / (tp + fn)\n",
    "f1 = 2 * precision * recall / (precision + recall)\n",
    "print(f\"Score: {round(score*100, 1)}%\")\n",
    "print(f\"Precision: {round(precision*100, 1)}%\")\n",
    "print(f\"Recall: {round(recall*100, 1)}%\")\n",
    "print(f\"F1: {round(f1*100, 1)}%\")"
   ]
  },
  {
   "cell_type": "code",
   "execution_count": 86,
   "metadata": {},
   "outputs": [
    {
     "data": {
      "text/html": [
       "<div>\n",
       "<style scoped>\n",
       "    .dataframe tbody tr th:only-of-type {\n",
       "        vertical-align: middle;\n",
       "    }\n",
       "\n",
       "    .dataframe tbody tr th {\n",
       "        vertical-align: top;\n",
       "    }\n",
       "\n",
       "    .dataframe thead th {\n",
       "        text-align: right;\n",
       "    }\n",
       "</style>\n",
       "<table border=\"1\" class=\"dataframe\">\n",
       "  <thead>\n",
       "    <tr style=\"text-align: right;\">\n",
       "      <th></th>\n",
       "      <th>Feature</th>\n",
       "      <th>Correlation</th>\n",
       "    </tr>\n",
       "  </thead>\n",
       "  <tbody>\n",
       "    <tr>\n",
       "      <th>8</th>\n",
       "      <td>Mr.</td>\n",
       "      <td>0.585453</td>\n",
       "    </tr>\n",
       "    <tr>\n",
       "      <th>0</th>\n",
       "      <td>pclass</td>\n",
       "      <td>0.155680</td>\n",
       "    </tr>\n",
       "    <tr>\n",
       "      <th>25</th>\n",
       "      <td>big_family</td>\n",
       "      <td>0.085465</td>\n",
       "    </tr>\n",
       "    <tr>\n",
       "      <th>1</th>\n",
       "      <td>fare</td>\n",
       "      <td>0.053831</td>\n",
       "    </tr>\n",
       "    <tr>\n",
       "      <th>12</th>\n",
       "      <td>Rev.</td>\n",
       "      <td>0.047490</td>\n",
       "    </tr>\n",
       "    <tr>\n",
       "      <th>3</th>\n",
       "      <td>age_clean</td>\n",
       "      <td>0.035336</td>\n",
       "    </tr>\n",
       "    <tr>\n",
       "      <th>2</th>\n",
       "      <td>has_nickname</td>\n",
       "      <td>0.020413</td>\n",
       "    </tr>\n",
       "    <tr>\n",
       "      <th>14</th>\n",
       "      <td>X</td>\n",
       "      <td>0.016332</td>\n",
       "    </tr>\n",
       "    <tr>\n",
       "      <th>7</th>\n",
       "      <td>Queensland</td>\n",
       "      <td>0.000000</td>\n",
       "    </tr>\n",
       "    <tr>\n",
       "      <th>9</th>\n",
       "      <td>Mrs.</td>\n",
       "      <td>0.000000</td>\n",
       "    </tr>\n",
       "    <tr>\n",
       "      <th>24</th>\n",
       "      <td>alone</td>\n",
       "      <td>0.000000</td>\n",
       "    </tr>\n",
       "    <tr>\n",
       "      <th>23</th>\n",
       "      <td>small_family</td>\n",
       "      <td>0.000000</td>\n",
       "    </tr>\n",
       "    <tr>\n",
       "      <th>22</th>\n",
       "      <td>T</td>\n",
       "      <td>0.000000</td>\n",
       "    </tr>\n",
       "    <tr>\n",
       "      <th>21</th>\n",
       "      <td>F</td>\n",
       "      <td>0.000000</td>\n",
       "    </tr>\n",
       "    <tr>\n",
       "      <th>20</th>\n",
       "      <td>B</td>\n",
       "      <td>0.000000</td>\n",
       "    </tr>\n",
       "    <tr>\n",
       "      <th>19</th>\n",
       "      <td>A</td>\n",
       "      <td>0.000000</td>\n",
       "    </tr>\n",
       "    <tr>\n",
       "      <th>18</th>\n",
       "      <td>D</td>\n",
       "      <td>0.000000</td>\n",
       "    </tr>\n",
       "    <tr>\n",
       "      <th>17</th>\n",
       "      <td>G</td>\n",
       "      <td>0.000000</td>\n",
       "    </tr>\n",
       "    <tr>\n",
       "      <th>16</th>\n",
       "      <td>E</td>\n",
       "      <td>0.000000</td>\n",
       "    </tr>\n",
       "    <tr>\n",
       "      <th>15</th>\n",
       "      <td>C</td>\n",
       "      <td>0.000000</td>\n",
       "    </tr>\n",
       "    <tr>\n",
       "      <th>4</th>\n",
       "      <td>is_male</td>\n",
       "      <td>0.000000</td>\n",
       "    </tr>\n",
       "    <tr>\n",
       "      <th>5</th>\n",
       "      <td>Southampton</td>\n",
       "      <td>0.000000</td>\n",
       "    </tr>\n",
       "    <tr>\n",
       "      <th>6</th>\n",
       "      <td>Cherbourg</td>\n",
       "      <td>0.000000</td>\n",
       "    </tr>\n",
       "    <tr>\n",
       "      <th>11</th>\n",
       "      <td>Master.</td>\n",
       "      <td>0.000000</td>\n",
       "    </tr>\n",
       "    <tr>\n",
       "      <th>10</th>\n",
       "      <td>Miss.</td>\n",
       "      <td>0.000000</td>\n",
       "    </tr>\n",
       "    <tr>\n",
       "      <th>13</th>\n",
       "      <td>Lady.</td>\n",
       "      <td>0.000000</td>\n",
       "    </tr>\n",
       "  </tbody>\n",
       "</table>\n",
       "</div>"
      ],
      "text/plain": [
       "         Feature  Correlation\n",
       "8            Mr.     0.585453\n",
       "0         pclass     0.155680\n",
       "25    big_family     0.085465\n",
       "1           fare     0.053831\n",
       "12          Rev.     0.047490\n",
       "3      age_clean     0.035336\n",
       "2   has_nickname     0.020413\n",
       "14             X     0.016332\n",
       "7     Queensland     0.000000\n",
       "9           Mrs.     0.000000\n",
       "24         alone     0.000000\n",
       "23  small_family     0.000000\n",
       "22             T     0.000000\n",
       "21             F     0.000000\n",
       "20             B     0.000000\n",
       "19             A     0.000000\n",
       "18             D     0.000000\n",
       "17             G     0.000000\n",
       "16             E     0.000000\n",
       "15             C     0.000000\n",
       "4        is_male     0.000000\n",
       "5    Southampton     0.000000\n",
       "6      Cherbourg     0.000000\n",
       "11       Master.     0.000000\n",
       "10         Miss.     0.000000\n",
       "13         Lady.     0.000000"
      ]
     },
     "execution_count": 86,
     "metadata": {},
     "output_type": "execute_result"
    },
    {
     "data": {
      "application/javascript": [
       "\n",
       "            setTimeout(function() {\n",
       "                var nbb_cell_id = 86;\n",
       "                var nbb_unformatted_code = \"# See coefficients of decision tree\\ncoeff_df = pd.DataFrame(X_train.columns)\\ncoeff_df.columns = [\\\"Feature\\\"]\\ncoeff_df[\\\"Correlation\\\"] = pd.Series(dtc.feature_importances_)\\n\\ncoeff_df.sort_values(by=\\\"Correlation\\\", ascending=False)\";\n",
       "                var nbb_formatted_code = \"# See coefficients of decision tree\\ncoeff_df = pd.DataFrame(X_train.columns)\\ncoeff_df.columns = [\\\"Feature\\\"]\\ncoeff_df[\\\"Correlation\\\"] = pd.Series(dtc.feature_importances_)\\n\\ncoeff_df.sort_values(by=\\\"Correlation\\\", ascending=False)\";\n",
       "                var nbb_cells = Jupyter.notebook.get_cells();\n",
       "                for (var i = 0; i < nbb_cells.length; ++i) {\n",
       "                    if (nbb_cells[i].input_prompt_number == nbb_cell_id) {\n",
       "                        if (nbb_cells[i].get_text() == nbb_unformatted_code) {\n",
       "                             nbb_cells[i].set_text(nbb_formatted_code);\n",
       "                        }\n",
       "                        break;\n",
       "                    }\n",
       "                }\n",
       "            }, 500);\n",
       "            "
      ],
      "text/plain": [
       "<IPython.core.display.Javascript object>"
      ]
     },
     "metadata": {},
     "output_type": "display_data"
    }
   ],
   "source": [
    "# See coefficients of decision tree\n",
    "coeff_df = pd.DataFrame(X_train.columns)\n",
    "coeff_df.columns = [\"Feature\"]\n",
    "coeff_df[\"Correlation\"] = pd.Series(dtc.feature_importances_)\n",
    "\n",
    "coeff_df.sort_values(by=\"Correlation\", ascending=False)"
   ]
  },
  {
   "cell_type": "code",
   "execution_count": 87,
   "metadata": {},
   "outputs": [
    {
     "data": {
      "image/png": "[encoded data removed]",
      "text/plain": [
       "<Figure size 1080x720 with 1 Axes>"
      ]
     },
     "metadata": {
      "needs_background": "light"
     },
     "output_type": "display_data"
    },
    {
     "data": {
      "application/javascript": [
       "\n",
       "            setTimeout(function() {\n",
       "                var nbb_cell_id = 87;\n",
       "                var nbb_unformatted_code = \"# export_graphviz(dtc)\\nfig = plt.figure(figsize=(15, 10))\\n_ = plot_tree(\\n    dtc, feature_names=X_train.columns, class_names=[\\\"Passed\\\", \\\"Survived\\\"], filled=True\\n)\";\n",
       "                var nbb_formatted_code = \"# export_graphviz(dtc)\\nfig = plt.figure(figsize=(15, 10))\\n_ = plot_tree(\\n    dtc, feature_names=X_train.columns, class_names=[\\\"Passed\\\", \\\"Survived\\\"], filled=True\\n)\";\n",
       "                var nbb_cells = Jupyter.notebook.get_cells();\n",
       "                for (var i = 0; i < nbb_cells.length; ++i) {\n",
       "                    if (nbb_cells[i].input_prompt_number == nbb_cell_id) {\n",
       "                        if (nbb_cells[i].get_text() == nbb_unformatted_code) {\n",
       "                             nbb_cells[i].set_text(nbb_formatted_code);\n",
       "                        }\n",
       "                        break;\n",
       "                    }\n",
       "                }\n",
       "            }, 500);\n",
       "            "
      ],
      "text/plain": [
       "<IPython.core.display.Javascript object>"
      ]
     },
     "metadata": {},
     "output_type": "display_data"
    }
   ],
   "source": [
    "# export_graphviz(dtc)\n",
    "fig = plt.figure(figsize=(15, 10))\n",
    "_ = plot_tree(\n",
    "    dtc, feature_names=X_train.columns, class_names=[\"Passed\", \"Survived\"], filled=True\n",
    ")"
   ]
  },
  {
   "cell_type": "code",
   "execution_count": 88,
   "metadata": {},
   "outputs": [
    {
     "data": {
      "image/png": "[encoded data removed]",
      "text/plain": [
       "<Figure size 432x288 with 1 Axes>"
      ]
     },
     "metadata": {
      "needs_background": "light"
     },
     "output_type": "display_data"
    },
    {
     "data": {
      "application/javascript": [
       "\n",
       "            setTimeout(function() {\n",
       "                var nbb_cell_id = 88;\n",
       "                var nbb_unformatted_code = \"# Plot ROC curve\\nplot_roc_curve(dtc, X_train, y_train)\\nplt.show()\";\n",
       "                var nbb_formatted_code = \"# Plot ROC curve\\nplot_roc_curve(dtc, X_train, y_train)\\nplt.show()\";\n",
       "                var nbb_cells = Jupyter.notebook.get_cells();\n",
       "                for (var i = 0; i < nbb_cells.length; ++i) {\n",
       "                    if (nbb_cells[i].input_prompt_number == nbb_cell_id) {\n",
       "                        if (nbb_cells[i].get_text() == nbb_unformatted_code) {\n",
       "                             nbb_cells[i].set_text(nbb_formatted_code);\n",
       "                        }\n",
       "                        break;\n",
       "                    }\n",
       "                }\n",
       "            }, 500);\n",
       "            "
      ],
      "text/plain": [
       "<IPython.core.display.Javascript object>"
      ]
     },
     "metadata": {},
     "output_type": "display_data"
    }
   ],
   "source": [
    "# Plot ROC curve\n",
    "plot_roc_curve(dtc, X_train, y_train)\n",
    "plt.show()"
   ]
  },
  {
   "cell_type": "code",
   "execution_count": 89,
   "metadata": {},
   "outputs": [
    {
     "name": "stdout",
     "output_type": "stream",
     "text": [
      "Score: 81.6% | Precision: 77.3% | Recall: 73.9%\n",
      "Score: 82.0% | Precision: 76.5% | Recall: 76.5%\n",
      "Score: 74.7% | Precision: 67.2% | Recall: 66.2%\n",
      "Score: 77.0% | Precision: 70.1% | Recall: 69.1%\n",
      "Score: 80.9% | Precision: 80.7% | Recall: 66.7%\n"
     ]
    },
    {
     "data": {
      "application/javascript": [
       "\n",
       "            setTimeout(function() {\n",
       "                var nbb_cell_id = 89;\n",
       "                var nbb_unformatted_code = \"# Try again with cross validation (to prevent overfitting)\\nskf = StratifiedKFold(n_splits=5, shuffle=True, random_state=42)\\n\\n# Split test and train datasets using k-fold stratified cv (n=5)\\nfor train_index, test_index in skf.split(X_train, y_train):\\n\\n    # Split data\\n    X_cv_train, X_cv_test = X_train.iloc[train_index], X_train.iloc[test_index]\\n    y_cv_train, y_cv_test = y_train.iloc[train_index], y_train.iloc[test_index]\\n\\n    # Print scores\\n    dtc = DecisionTreeClassifier(random_state=42)\\n    dtc.fit(X_cv_train, y_cv_train)\\n    tn, fp, fn, tp = confusion_matrix(y_cv_test, dtc.predict(X_cv_test)).ravel()\\n    score = (tn + tp) / np.sum([tn, fp, fn, tp])\\n    precision = tp / (tp + fp)\\n    recall = tp / (tp + fn)\\n    print(\\n        f\\\"Score: {round(score*100, 1)}% | Precision: {round(precision*100, 1)}% | Recall: {round(recall*100, 1)}%\\\"\\n    )\";\n",
       "                var nbb_formatted_code = \"# Try again with cross validation (to prevent overfitting)\\nskf = StratifiedKFold(n_splits=5, shuffle=True, random_state=42)\\n\\n# Split test and train datasets using k-fold stratified cv (n=5)\\nfor train_index, test_index in skf.split(X_train, y_train):\\n\\n    # Split data\\n    X_cv_train, X_cv_test = X_train.iloc[train_index], X_train.iloc[test_index]\\n    y_cv_train, y_cv_test = y_train.iloc[train_index], y_train.iloc[test_index]\\n\\n    # Print scores\\n    dtc = DecisionTreeClassifier(random_state=42)\\n    dtc.fit(X_cv_train, y_cv_train)\\n    tn, fp, fn, tp = confusion_matrix(y_cv_test, dtc.predict(X_cv_test)).ravel()\\n    score = (tn + tp) / np.sum([tn, fp, fn, tp])\\n    precision = tp / (tp + fp)\\n    recall = tp / (tp + fn)\\n    print(\\n        f\\\"Score: {round(score*100, 1)}% | Precision: {round(precision*100, 1)}% | Recall: {round(recall*100, 1)}%\\\"\\n    )\";\n",
       "                var nbb_cells = Jupyter.notebook.get_cells();\n",
       "                for (var i = 0; i < nbb_cells.length; ++i) {\n",
       "                    if (nbb_cells[i].input_prompt_number == nbb_cell_id) {\n",
       "                        if (nbb_cells[i].get_text() == nbb_unformatted_code) {\n",
       "                             nbb_cells[i].set_text(nbb_formatted_code);\n",
       "                        }\n",
       "                        break;\n",
       "                    }\n",
       "                }\n",
       "            }, 500);\n",
       "            "
      ],
      "text/plain": [
       "<IPython.core.display.Javascript object>"
      ]
     },
     "metadata": {},
     "output_type": "display_data"
    }
   ],
   "source": [
    "# Try again with cross validation (to prevent overfitting)\n",
    "skf = StratifiedKFold(n_splits=5, shuffle=True, random_state=42)\n",
    "\n",
    "# Split test and train datasets using k-fold stratified cv (n=5)\n",
    "for train_index, test_index in skf.split(X_train, y_train):\n",
    "\n",
    "    # Split data\n",
    "    X_cv_train, X_cv_test = X_train.iloc[train_index], X_train.iloc[test_index]\n",
    "    y_cv_train, y_cv_test = y_train.iloc[train_index], y_train.iloc[test_index]\n",
    "\n",
    "    # Print scores\n",
    "    dtc = DecisionTreeClassifier(random_state=42)\n",
    "    dtc.fit(X_cv_train, y_cv_train)\n",
    "    tn, fp, fn, tp = confusion_matrix(y_cv_test, dtc.predict(X_cv_test)).ravel()\n",
    "    score = (tn + tp) / np.sum([tn, fp, fn, tp])\n",
    "    precision = tp / (tp + fp)\n",
    "    recall = tp / (tp + fn)\n",
    "    print(\n",
    "        f\"Score: {round(score*100, 1)}% | Precision: {round(precision*100, 1)}% | Recall: {round(recall*100, 1)}%\"\n",
    "    )"
   ]
  },
  {
   "cell_type": "markdown",
   "metadata": {},
   "source": [
    "### Random Forest"
   ]
  },
  {
   "cell_type": "code",
   "execution_count": 90,
   "metadata": {},
   "outputs": [
    {
     "name": "stdout",
     "output_type": "stream",
     "text": [
      "Score: 83.7%\n",
      "Precision: 81.7%\n",
      "Recall: 74.3%\n",
      "F1: 77.8%\n"
     ]
    },
    {
     "data": {
      "application/javascript": [
       "\n",
       "            setTimeout(function() {\n",
       "                var nbb_cell_id = 90;\n",
       "                var nbb_unformatted_code = \"rfc = RandomForestClassifier(random_state=42, max_leaf_nodes=10)\\nrfc.fit(X_train, y_train)\\n\\n# Print Scores\\ntn, fp, fn, tp = confusion_matrix(y_train, rfc.predict(X_train)).ravel()\\nscore = (tn + tp) / np.sum([tn, fp, fn, tp])\\nprecision = tp / (tp + fp)\\nrecall = tp / (tp + fn)\\nf1 = 2 * precision * recall / (precision + recall)\\nprint(f\\\"Score: {round(score*100, 1)}%\\\")\\nprint(f\\\"Precision: {round(precision*100, 1)}%\\\")\\nprint(f\\\"Recall: {round(recall*100, 1)}%\\\")\\nprint(f\\\"F1: {round(f1*100, 1)}%\\\")\";\n",
       "                var nbb_formatted_code = \"rfc = RandomForestClassifier(random_state=42, max_leaf_nodes=10)\\nrfc.fit(X_train, y_train)\\n\\n# Print Scores\\ntn, fp, fn, tp = confusion_matrix(y_train, rfc.predict(X_train)).ravel()\\nscore = (tn + tp) / np.sum([tn, fp, fn, tp])\\nprecision = tp / (tp + fp)\\nrecall = tp / (tp + fn)\\nf1 = 2 * precision * recall / (precision + recall)\\nprint(f\\\"Score: {round(score*100, 1)}%\\\")\\nprint(f\\\"Precision: {round(precision*100, 1)}%\\\")\\nprint(f\\\"Recall: {round(recall*100, 1)}%\\\")\\nprint(f\\\"F1: {round(f1*100, 1)}%\\\")\";\n",
       "                var nbb_cells = Jupyter.notebook.get_cells();\n",
       "                for (var i = 0; i < nbb_cells.length; ++i) {\n",
       "                    if (nbb_cells[i].input_prompt_number == nbb_cell_id) {\n",
       "                        if (nbb_cells[i].get_text() == nbb_unformatted_code) {\n",
       "                             nbb_cells[i].set_text(nbb_formatted_code);\n",
       "                        }\n",
       "                        break;\n",
       "                    }\n",
       "                }\n",
       "            }, 500);\n",
       "            "
      ],
      "text/plain": [
       "<IPython.core.display.Javascript object>"
      ]
     },
     "metadata": {},
     "output_type": "display_data"
    }
   ],
   "source": [
    "rfc = RandomForestClassifier(random_state=42, max_leaf_nodes=10)\n",
    "rfc.fit(X_train, y_train)\n",
    "\n",
    "# Print Scores\n",
    "tn, fp, fn, tp = confusion_matrix(y_train, rfc.predict(X_train)).ravel()\n",
    "score = (tn + tp) / np.sum([tn, fp, fn, tp])\n",
    "precision = tp / (tp + fp)\n",
    "recall = tp / (tp + fn)\n",
    "f1 = 2 * precision * recall / (precision + recall)\n",
    "print(f\"Score: {round(score*100, 1)}%\")\n",
    "print(f\"Precision: {round(precision*100, 1)}%\")\n",
    "print(f\"Recall: {round(recall*100, 1)}%\")\n",
    "print(f\"F1: {round(f1*100, 1)}%\")"
   ]
  },
  {
   "cell_type": "code",
   "execution_count": 91,
   "metadata": {
    "scrolled": true
   },
   "outputs": [
    {
     "data": {
      "text/html": [
       "<div>\n",
       "<style scoped>\n",
       "    .dataframe tbody tr th:only-of-type {\n",
       "        vertical-align: middle;\n",
       "    }\n",
       "\n",
       "    .dataframe tbody tr th {\n",
       "        vertical-align: top;\n",
       "    }\n",
       "\n",
       "    .dataframe thead th {\n",
       "        text-align: right;\n",
       "    }\n",
       "</style>\n",
       "<table border=\"1\" class=\"dataframe\">\n",
       "  <thead>\n",
       "    <tr style=\"text-align: right;\">\n",
       "      <th></th>\n",
       "      <th>Feature</th>\n",
       "      <th>Correlation</th>\n",
       "    </tr>\n",
       "  </thead>\n",
       "  <tbody>\n",
       "    <tr>\n",
       "      <th>8</th>\n",
       "      <td>Mr.</td>\n",
       "      <td>0.223365</td>\n",
       "    </tr>\n",
       "    <tr>\n",
       "      <th>4</th>\n",
       "      <td>is_male</td>\n",
       "      <td>0.199454</td>\n",
       "    </tr>\n",
       "    <tr>\n",
       "      <th>1</th>\n",
       "      <td>fare</td>\n",
       "      <td>0.088140</td>\n",
       "    </tr>\n",
       "    <tr>\n",
       "      <th>0</th>\n",
       "      <td>pclass</td>\n",
       "      <td>0.074472</td>\n",
       "    </tr>\n",
       "    <tr>\n",
       "      <th>2</th>\n",
       "      <td>has_nickname</td>\n",
       "      <td>0.072940</td>\n",
       "    </tr>\n",
       "    <tr>\n",
       "      <th>10</th>\n",
       "      <td>Miss.</td>\n",
       "      <td>0.065963</td>\n",
       "    </tr>\n",
       "    <tr>\n",
       "      <th>14</th>\n",
       "      <td>X</td>\n",
       "      <td>0.051940</td>\n",
       "    </tr>\n",
       "    <tr>\n",
       "      <th>3</th>\n",
       "      <td>age_clean</td>\n",
       "      <td>0.049460</td>\n",
       "    </tr>\n",
       "    <tr>\n",
       "      <th>9</th>\n",
       "      <td>Mrs.</td>\n",
       "      <td>0.043830</td>\n",
       "    </tr>\n",
       "    <tr>\n",
       "      <th>25</th>\n",
       "      <td>big_family</td>\n",
       "      <td>0.040810</td>\n",
       "    </tr>\n",
       "    <tr>\n",
       "      <th>23</th>\n",
       "      <td>small_family</td>\n",
       "      <td>0.028579</td>\n",
       "    </tr>\n",
       "    <tr>\n",
       "      <th>11</th>\n",
       "      <td>Master.</td>\n",
       "      <td>0.011801</td>\n",
       "    </tr>\n",
       "    <tr>\n",
       "      <th>5</th>\n",
       "      <td>Southampton</td>\n",
       "      <td>0.011275</td>\n",
       "    </tr>\n",
       "    <tr>\n",
       "      <th>24</th>\n",
       "      <td>alone</td>\n",
       "      <td>0.008746</td>\n",
       "    </tr>\n",
       "    <tr>\n",
       "      <th>6</th>\n",
       "      <td>Cherbourg</td>\n",
       "      <td>0.005739</td>\n",
       "    </tr>\n",
       "    <tr>\n",
       "      <th>12</th>\n",
       "      <td>Rev.</td>\n",
       "      <td>0.004850</td>\n",
       "    </tr>\n",
       "    <tr>\n",
       "      <th>20</th>\n",
       "      <td>B</td>\n",
       "      <td>0.004252</td>\n",
       "    </tr>\n",
       "    <tr>\n",
       "      <th>16</th>\n",
       "      <td>E</td>\n",
       "      <td>0.004200</td>\n",
       "    </tr>\n",
       "    <tr>\n",
       "      <th>18</th>\n",
       "      <td>D</td>\n",
       "      <td>0.003515</td>\n",
       "    </tr>\n",
       "    <tr>\n",
       "      <th>7</th>\n",
       "      <td>Queensland</td>\n",
       "      <td>0.002766</td>\n",
       "    </tr>\n",
       "    <tr>\n",
       "      <th>15</th>\n",
       "      <td>C</td>\n",
       "      <td>0.001792</td>\n",
       "    </tr>\n",
       "    <tr>\n",
       "      <th>13</th>\n",
       "      <td>Lady.</td>\n",
       "      <td>0.001097</td>\n",
       "    </tr>\n",
       "    <tr>\n",
       "      <th>21</th>\n",
       "      <td>F</td>\n",
       "      <td>0.000439</td>\n",
       "    </tr>\n",
       "    <tr>\n",
       "      <th>19</th>\n",
       "      <td>A</td>\n",
       "      <td>0.000367</td>\n",
       "    </tr>\n",
       "    <tr>\n",
       "      <th>17</th>\n",
       "      <td>G</td>\n",
       "      <td>0.000208</td>\n",
       "    </tr>\n",
       "    <tr>\n",
       "      <th>22</th>\n",
       "      <td>T</td>\n",
       "      <td>0.000000</td>\n",
       "    </tr>\n",
       "  </tbody>\n",
       "</table>\n",
       "</div>"
      ],
      "text/plain": [
       "         Feature  Correlation\n",
       "8            Mr.     0.223365\n",
       "4        is_male     0.199454\n",
       "1           fare     0.088140\n",
       "0         pclass     0.074472\n",
       "2   has_nickname     0.072940\n",
       "10         Miss.     0.065963\n",
       "14             X     0.051940\n",
       "3      age_clean     0.049460\n",
       "9           Mrs.     0.043830\n",
       "25    big_family     0.040810\n",
       "23  small_family     0.028579\n",
       "11       Master.     0.011801\n",
       "5    Southampton     0.011275\n",
       "24         alone     0.008746\n",
       "6      Cherbourg     0.005739\n",
       "12          Rev.     0.004850\n",
       "20             B     0.004252\n",
       "16             E     0.004200\n",
       "18             D     0.003515\n",
       "7     Queensland     0.002766\n",
       "15             C     0.001792\n",
       "13         Lady.     0.001097\n",
       "21             F     0.000439\n",
       "19             A     0.000367\n",
       "17             G     0.000208\n",
       "22             T     0.000000"
      ]
     },
     "execution_count": 91,
     "metadata": {},
     "output_type": "execute_result"
    },
    {
     "data": {
      "application/javascript": [
       "\n",
       "            setTimeout(function() {\n",
       "                var nbb_cell_id = 91;\n",
       "                var nbb_unformatted_code = \"# See coefficients of random forest\\ncoeff_df = pd.DataFrame(X_train.columns)\\ncoeff_df.columns = [\\\"Feature\\\"]\\ncoeff_df[\\\"Correlation\\\"] = pd.Series(rfc.feature_importances_)\\n\\ncoeff_df.sort_values(by=\\\"Correlation\\\", ascending=False)\";\n",
       "                var nbb_formatted_code = \"# See coefficients of random forest\\ncoeff_df = pd.DataFrame(X_train.columns)\\ncoeff_df.columns = [\\\"Feature\\\"]\\ncoeff_df[\\\"Correlation\\\"] = pd.Series(rfc.feature_importances_)\\n\\ncoeff_df.sort_values(by=\\\"Correlation\\\", ascending=False)\";\n",
       "                var nbb_cells = Jupyter.notebook.get_cells();\n",
       "                for (var i = 0; i < nbb_cells.length; ++i) {\n",
       "                    if (nbb_cells[i].input_prompt_number == nbb_cell_id) {\n",
       "                        if (nbb_cells[i].get_text() == nbb_unformatted_code) {\n",
       "                             nbb_cells[i].set_text(nbb_formatted_code);\n",
       "                        }\n",
       "                        break;\n",
       "                    }\n",
       "                }\n",
       "            }, 500);\n",
       "            "
      ],
      "text/plain": [
       "<IPython.core.display.Javascript object>"
      ]
     },
     "metadata": {},
     "output_type": "display_data"
    }
   ],
   "source": [
    "# See coefficients of random forest\n",
    "coeff_df = pd.DataFrame(X_train.columns)\n",
    "coeff_df.columns = [\"Feature\"]\n",
    "coeff_df[\"Correlation\"] = pd.Series(rfc.feature_importances_)\n",
    "\n",
    "coeff_df.sort_values(by=\"Correlation\", ascending=False)"
   ]
  },
  {
   "cell_type": "code",
   "execution_count": 92,
   "metadata": {
    "scrolled": true
   },
   "outputs": [
    {
     "data": {
      "image/png": "[encoded data removed]",
      "text/plain": [
       "<Figure size 432x288 with 1 Axes>"
      ]
     },
     "metadata": {
      "needs_background": "light"
     },
     "output_type": "display_data"
    },
    {
     "data": {
      "application/javascript": [
       "\n",
       "            setTimeout(function() {\n",
       "                var nbb_cell_id = 92;\n",
       "                var nbb_unformatted_code = \"# Plot ROC curve\\nplot_roc_curve(rfc, X_train, y_train)\\nplt.show()\";\n",
       "                var nbb_formatted_code = \"# Plot ROC curve\\nplot_roc_curve(rfc, X_train, y_train)\\nplt.show()\";\n",
       "                var nbb_cells = Jupyter.notebook.get_cells();\n",
       "                for (var i = 0; i < nbb_cells.length; ++i) {\n",
       "                    if (nbb_cells[i].input_prompt_number == nbb_cell_id) {\n",
       "                        if (nbb_cells[i].get_text() == nbb_unformatted_code) {\n",
       "                             nbb_cells[i].set_text(nbb_formatted_code);\n",
       "                        }\n",
       "                        break;\n",
       "                    }\n",
       "                }\n",
       "            }, 500);\n",
       "            "
      ],
      "text/plain": [
       "<IPython.core.display.Javascript object>"
      ]
     },
     "metadata": {},
     "output_type": "display_data"
    }
   ],
   "source": [
    "# Plot ROC curve\n",
    "plot_roc_curve(rfc, X_train, y_train)\n",
    "plt.show()"
   ]
  },
  {
   "cell_type": "code",
   "execution_count": 93,
   "metadata": {},
   "outputs": [
    {
     "name": "stdout",
     "output_type": "stream",
     "text": [
      "Score: 82.7% | Precision: 79.7% | Recall: 73.9%\n",
      "Score: 83.1% | Precision: 77.9% | Recall: 77.9%\n",
      "Score: 78.1% | Precision: 72.3% | Recall: 69.1%\n",
      "Score: 78.7% | Precision: 72.1% | Recall: 72.1%\n",
      "Score: 81.5% | Precision: 79.0% | Recall: 71.0%\n"
     ]
    },
    {
     "data": {
      "application/javascript": [
       "\n",
       "            setTimeout(function() {\n",
       "                var nbb_cell_id = 93;\n",
       "                var nbb_unformatted_code = \"# Try again with cross validation (to prevent overfitting)\\nskf = StratifiedKFold(n_splits=5, shuffle=True, random_state=42)\\n\\n# Split test and train datasets using k-fold stratified cv (n=5)\\nfor train_index, test_index in skf.split(X_train, y_train):\\n\\n    # Split data\\n    X_cv_train, X_cv_test = X_train.iloc[train_index], X_train.iloc[test_index]\\n    y_cv_train, y_cv_test = y_train.iloc[train_index], y_train.iloc[test_index]\\n\\n    # Print scores\\n    rfc = RandomForestClassifier(random_state=42)\\n    rfc.fit(X_cv_train, y_cv_train)\\n    tn, fp, fn, tp = confusion_matrix(y_cv_test, rfc.predict(X_cv_test)).ravel()\\n    score = (tn + tp) / np.sum([tn, fp, fn, tp])\\n    precision = tp / (tp + fp)\\n    recall = tp / (tp + fn)\\n    print(\\n        f\\\"Score: {round(score*100, 1)}% | Precision: {round(precision*100, 1)}% | Recall: {round(recall*100, 1)}%\\\"\\n    )\";\n",
       "                var nbb_formatted_code = \"# Try again with cross validation (to prevent overfitting)\\nskf = StratifiedKFold(n_splits=5, shuffle=True, random_state=42)\\n\\n# Split test and train datasets using k-fold stratified cv (n=5)\\nfor train_index, test_index in skf.split(X_train, y_train):\\n\\n    # Split data\\n    X_cv_train, X_cv_test = X_train.iloc[train_index], X_train.iloc[test_index]\\n    y_cv_train, y_cv_test = y_train.iloc[train_index], y_train.iloc[test_index]\\n\\n    # Print scores\\n    rfc = RandomForestClassifier(random_state=42)\\n    rfc.fit(X_cv_train, y_cv_train)\\n    tn, fp, fn, tp = confusion_matrix(y_cv_test, rfc.predict(X_cv_test)).ravel()\\n    score = (tn + tp) / np.sum([tn, fp, fn, tp])\\n    precision = tp / (tp + fp)\\n    recall = tp / (tp + fn)\\n    print(\\n        f\\\"Score: {round(score*100, 1)}% | Precision: {round(precision*100, 1)}% | Recall: {round(recall*100, 1)}%\\\"\\n    )\";\n",
       "                var nbb_cells = Jupyter.notebook.get_cells();\n",
       "                for (var i = 0; i < nbb_cells.length; ++i) {\n",
       "                    if (nbb_cells[i].input_prompt_number == nbb_cell_id) {\n",
       "                        if (nbb_cells[i].get_text() == nbb_unformatted_code) {\n",
       "                             nbb_cells[i].set_text(nbb_formatted_code);\n",
       "                        }\n",
       "                        break;\n",
       "                    }\n",
       "                }\n",
       "            }, 500);\n",
       "            "
      ],
      "text/plain": [
       "<IPython.core.display.Javascript object>"
      ]
     },
     "metadata": {},
     "output_type": "display_data"
    }
   ],
   "source": [
    "# Try again with cross validation (to prevent overfitting)\n",
    "skf = StratifiedKFold(n_splits=5, shuffle=True, random_state=42)\n",
    "\n",
    "# Split test and train datasets using k-fold stratified cv (n=5)\n",
    "for train_index, test_index in skf.split(X_train, y_train):\n",
    "\n",
    "    # Split data\n",
    "    X_cv_train, X_cv_test = X_train.iloc[train_index], X_train.iloc[test_index]\n",
    "    y_cv_train, y_cv_test = y_train.iloc[train_index], y_train.iloc[test_index]\n",
    "\n",
    "    # Print scores\n",
    "    rfc = RandomForestClassifier(random_state=42)\n",
    "    rfc.fit(X_cv_train, y_cv_train)\n",
    "    tn, fp, fn, tp = confusion_matrix(y_cv_test, rfc.predict(X_cv_test)).ravel()\n",
    "    score = (tn + tp) / np.sum([tn, fp, fn, tp])\n",
    "    precision = tp / (tp + fp)\n",
    "    recall = tp / (tp + fn)\n",
    "    print(\n",
    "        f\"Score: {round(score*100, 1)}% | Precision: {round(precision*100, 1)}% | Recall: {round(recall*100, 1)}%\"\n",
    "    )"
   ]
  },
  {
   "cell_type": "markdown",
   "metadata": {},
   "source": [
    "### Support Vector Machine"
   ]
  },
  {
   "cell_type": "code",
   "execution_count": 94,
   "metadata": {},
   "outputs": [
    {
     "name": "stdout",
     "output_type": "stream",
     "text": [
      "Score: 68.6%\n",
      "Precision: 69.9%\n",
      "Recall: 31.9%\n",
      "F1: 43.8%\n"
     ]
    },
    {
     "data": {
      "application/javascript": [
       "\n",
       "            setTimeout(function() {\n",
       "                var nbb_cell_id = 94;\n",
       "                var nbb_unformatted_code = \"clf = svm.SVC(random_state=42)\\nclf.fit(X_train, y_train)\\n\\n# Print Scores\\ntn, fp, fn, tp = confusion_matrix(y_train, clf.predict(X_train)).ravel()\\nscore = (tn + tp) / np.sum([tn, fp, fn, tp])\\nprecision = tp / (tp + fp)\\nrecall = tp / (tp + fn)\\nf1 = 2 * precision * recall / (precision + recall)\\nprint(f\\\"Score: {round(score*100, 1)}%\\\")\\nprint(f\\\"Precision: {round(precision*100, 1)}%\\\")\\nprint(f\\\"Recall: {round(recall*100, 1)}%\\\")\\nprint(f\\\"F1: {round(f1*100, 1)}%\\\")\";\n",
       "                var nbb_formatted_code = \"clf = svm.SVC(random_state=42)\\nclf.fit(X_train, y_train)\\n\\n# Print Scores\\ntn, fp, fn, tp = confusion_matrix(y_train, clf.predict(X_train)).ravel()\\nscore = (tn + tp) / np.sum([tn, fp, fn, tp])\\nprecision = tp / (tp + fp)\\nrecall = tp / (tp + fn)\\nf1 = 2 * precision * recall / (precision + recall)\\nprint(f\\\"Score: {round(score*100, 1)}%\\\")\\nprint(f\\\"Precision: {round(precision*100, 1)}%\\\")\\nprint(f\\\"Recall: {round(recall*100, 1)}%\\\")\\nprint(f\\\"F1: {round(f1*100, 1)}%\\\")\";\n",
       "                var nbb_cells = Jupyter.notebook.get_cells();\n",
       "                for (var i = 0; i < nbb_cells.length; ++i) {\n",
       "                    if (nbb_cells[i].input_prompt_number == nbb_cell_id) {\n",
       "                        if (nbb_cells[i].get_text() == nbb_unformatted_code) {\n",
       "                             nbb_cells[i].set_text(nbb_formatted_code);\n",
       "                        }\n",
       "                        break;\n",
       "                    }\n",
       "                }\n",
       "            }, 500);\n",
       "            "
      ],
      "text/plain": [
       "<IPython.core.display.Javascript object>"
      ]
     },
     "metadata": {},
     "output_type": "display_data"
    }
   ],
   "source": [
    "clf = svm.SVC(random_state=42)\n",
    "clf.fit(X_train, y_train)\n",
    "\n",
    "# Print Scores\n",
    "tn, fp, fn, tp = confusion_matrix(y_train, clf.predict(X_train)).ravel()\n",
    "score = (tn + tp) / np.sum([tn, fp, fn, tp])\n",
    "precision = tp / (tp + fp)\n",
    "recall = tp / (tp + fn)\n",
    "f1 = 2 * precision * recall / (precision + recall)\n",
    "print(f\"Score: {round(score*100, 1)}%\")\n",
    "print(f\"Precision: {round(precision*100, 1)}%\")\n",
    "print(f\"Recall: {round(recall*100, 1)}%\")\n",
    "print(f\"F1: {round(f1*100, 1)}%\")"
   ]
  },
  {
   "cell_type": "code",
   "execution_count": 95,
   "metadata": {},
   "outputs": [
    {
     "data": {
      "image/png": "[encoded data removed]",
      "text/plain": [
       "<Figure size 432x288 with 1 Axes>"
      ]
     },
     "metadata": {
      "needs_background": "light"
     },
     "output_type": "display_data"
    },
    {
     "data": {
      "application/javascript": [
       "\n",
       "            setTimeout(function() {\n",
       "                var nbb_cell_id = 95;\n",
       "                var nbb_unformatted_code = \"# Plot ROC curve\\nplot_roc_curve(clf, X_train, y_train)\\nplt.show()\";\n",
       "                var nbb_formatted_code = \"# Plot ROC curve\\nplot_roc_curve(clf, X_train, y_train)\\nplt.show()\";\n",
       "                var nbb_cells = Jupyter.notebook.get_cells();\n",
       "                for (var i = 0; i < nbb_cells.length; ++i) {\n",
       "                    if (nbb_cells[i].input_prompt_number == nbb_cell_id) {\n",
       "                        if (nbb_cells[i].get_text() == nbb_unformatted_code) {\n",
       "                             nbb_cells[i].set_text(nbb_formatted_code);\n",
       "                        }\n",
       "                        break;\n",
       "                    }\n",
       "                }\n",
       "            }, 500);\n",
       "            "
      ],
      "text/plain": [
       "<IPython.core.display.Javascript object>"
      ]
     },
     "metadata": {},
     "output_type": "display_data"
    }
   ],
   "source": [
    "# Plot ROC curve\n",
    "plot_roc_curve(clf, X_train, y_train)\n",
    "plt.show()"
   ]
  },
  {
   "cell_type": "code",
   "execution_count": 96,
   "metadata": {},
   "outputs": [
    {
     "name": "stdout",
     "output_type": "stream",
     "text": [
      "Score: 69.8% | Precision: 75.9% | Recall: 31.9%\n",
      "Score: 68.5% | Precision: 66.7% | Recall: 35.3%\n",
      "Score: 66.9% | Precision: 66.7% | Recall: 26.5%\n",
      "Score: 67.4% | Precision: 70.8% | Recall: 25.0%\n",
      "Score: 66.9% | Precision: 65.6% | Recall: 30.4%\n"
     ]
    },
    {
     "data": {
      "application/javascript": [
       "\n",
       "            setTimeout(function() {\n",
       "                var nbb_cell_id = 96;\n",
       "                var nbb_unformatted_code = \"# Try again with cross validation (to prevent overfitting)\\nskf = StratifiedKFold(n_splits=5, shuffle=True, random_state=42)\\n\\n# Split test and train datasets using k-fold stratified cv (n=5)\\nfor train_index, test_index in skf.split(X_train, y_train):\\n\\n    # Split data\\n    X_cv_train, X_cv_test = X_train.iloc[train_index], X_train.iloc[test_index]\\n    y_cv_train, y_cv_test = y_train.iloc[train_index], y_train.iloc[test_index]\\n\\n    # Print scores\\n    clf = svm.SVC(random_state=42)\\n    clf.fit(X_cv_train, y_cv_train)\\n    tn, fp, fn, tp = confusion_matrix(y_cv_test, clf.predict(X_cv_test)).ravel()\\n    score = (tn + tp) / np.sum([tn, fp, fn, tp])\\n    precision = tp / (tp + fp)\\n    recall = tp / (tp + fn)\\n    print(\\n        f\\\"Score: {round(score*100, 1)}% | Precision: {round(precision*100, 1)}% | Recall: {round(recall*100, 1)}%\\\"\\n    )\";\n",
       "                var nbb_formatted_code = \"# Try again with cross validation (to prevent overfitting)\\nskf = StratifiedKFold(n_splits=5, shuffle=True, random_state=42)\\n\\n# Split test and train datasets using k-fold stratified cv (n=5)\\nfor train_index, test_index in skf.split(X_train, y_train):\\n\\n    # Split data\\n    X_cv_train, X_cv_test = X_train.iloc[train_index], X_train.iloc[test_index]\\n    y_cv_train, y_cv_test = y_train.iloc[train_index], y_train.iloc[test_index]\\n\\n    # Print scores\\n    clf = svm.SVC(random_state=42)\\n    clf.fit(X_cv_train, y_cv_train)\\n    tn, fp, fn, tp = confusion_matrix(y_cv_test, clf.predict(X_cv_test)).ravel()\\n    score = (tn + tp) / np.sum([tn, fp, fn, tp])\\n    precision = tp / (tp + fp)\\n    recall = tp / (tp + fn)\\n    print(\\n        f\\\"Score: {round(score*100, 1)}% | Precision: {round(precision*100, 1)}% | Recall: {round(recall*100, 1)}%\\\"\\n    )\";\n",
       "                var nbb_cells = Jupyter.notebook.get_cells();\n",
       "                for (var i = 0; i < nbb_cells.length; ++i) {\n",
       "                    if (nbb_cells[i].input_prompt_number == nbb_cell_id) {\n",
       "                        if (nbb_cells[i].get_text() == nbb_unformatted_code) {\n",
       "                             nbb_cells[i].set_text(nbb_formatted_code);\n",
       "                        }\n",
       "                        break;\n",
       "                    }\n",
       "                }\n",
       "            }, 500);\n",
       "            "
      ],
      "text/plain": [
       "<IPython.core.display.Javascript object>"
      ]
     },
     "metadata": {},
     "output_type": "display_data"
    }
   ],
   "source": [
    "# Try again with cross validation (to prevent overfitting)\n",
    "skf = StratifiedKFold(n_splits=5, shuffle=True, random_state=42)\n",
    "\n",
    "# Split test and train datasets using k-fold stratified cv (n=5)\n",
    "for train_index, test_index in skf.split(X_train, y_train):\n",
    "\n",
    "    # Split data\n",
    "    X_cv_train, X_cv_test = X_train.iloc[train_index], X_train.iloc[test_index]\n",
    "    y_cv_train, y_cv_test = y_train.iloc[train_index], y_train.iloc[test_index]\n",
    "\n",
    "    # Print scores\n",
    "    clf = svm.SVC(random_state=42)\n",
    "    clf.fit(X_cv_train, y_cv_train)\n",
    "    tn, fp, fn, tp = confusion_matrix(y_cv_test, clf.predict(X_cv_test)).ravel()\n",
    "    score = (tn + tp) / np.sum([tn, fp, fn, tp])\n",
    "    precision = tp / (tp + fp)\n",
    "    recall = tp / (tp + fn)\n",
    "    print(\n",
    "        f\"Score: {round(score*100, 1)}% | Precision: {round(precision*100, 1)}% | Recall: {round(recall*100, 1)}%\"\n",
    "    )"
   ]
  },
  {
   "cell_type": "markdown",
   "metadata": {},
   "source": [
    "The SVM with these given features do not perform as well as the previous models."
   ]
  },
  {
   "cell_type": "markdown",
   "metadata": {},
   "source": [
    "## Generate predictions on test set"
   ]
  },
  {
   "cell_type": "markdown",
   "metadata": {},
   "source": [
    "Out of the 4 models, the Decision Tree had the highest F1 score."
   ]
  },
  {
   "cell_type": "code",
   "execution_count": 97,
   "metadata": {},
   "outputs": [
    {
     "data": {
      "application/javascript": [
       "\n",
       "            setTimeout(function() {\n",
       "                var nbb_cell_id = 97;\n",
       "                var nbb_unformatted_code = \"# Get test data\\nX_test = df.iloc[891:, 1:]\";\n",
       "                var nbb_formatted_code = \"# Get test data\\nX_test = df.iloc[891:, 1:]\";\n",
       "                var nbb_cells = Jupyter.notebook.get_cells();\n",
       "                for (var i = 0; i < nbb_cells.length; ++i) {\n",
       "                    if (nbb_cells[i].input_prompt_number == nbb_cell_id) {\n",
       "                        if (nbb_cells[i].get_text() == nbb_unformatted_code) {\n",
       "                             nbb_cells[i].set_text(nbb_formatted_code);\n",
       "                        }\n",
       "                        break;\n",
       "                    }\n",
       "                }\n",
       "            }, 500);\n",
       "            "
      ],
      "text/plain": [
       "<IPython.core.display.Javascript object>"
      ]
     },
     "metadata": {},
     "output_type": "display_data"
    }
   ],
   "source": [
    "# Get test data\n",
    "X_test = df.iloc[891:, 1:]"
   ]
  },
  {
   "cell_type": "code",
   "execution_count": 98,
   "metadata": {},
   "outputs": [
    {
     "data": {
      "application/javascript": [
       "\n",
       "            setTimeout(function() {\n",
       "                var nbb_cell_id = 98;\n",
       "                var nbb_unformatted_code = \"# Set up submission file\\ny_test = pd.DataFrame()\\ny_test[\\\"PassengerId\\\"] = X_test.index\";\n",
       "                var nbb_formatted_code = \"# Set up submission file\\ny_test = pd.DataFrame()\\ny_test[\\\"PassengerId\\\"] = X_test.index\";\n",
       "                var nbb_cells = Jupyter.notebook.get_cells();\n",
       "                for (var i = 0; i < nbb_cells.length; ++i) {\n",
       "                    if (nbb_cells[i].input_prompt_number == nbb_cell_id) {\n",
       "                        if (nbb_cells[i].get_text() == nbb_unformatted_code) {\n",
       "                             nbb_cells[i].set_text(nbb_formatted_code);\n",
       "                        }\n",
       "                        break;\n",
       "                    }\n",
       "                }\n",
       "            }, 500);\n",
       "            "
      ],
      "text/plain": [
       "<IPython.core.display.Javascript object>"
      ]
     },
     "metadata": {},
     "output_type": "display_data"
    }
   ],
   "source": [
    "# Set up submission file\n",
    "y_test = pd.DataFrame()\n",
    "y_test[\"PassengerId\"] = X_test.index"
   ]
  },
  {
   "cell_type": "code",
   "execution_count": 101,
   "metadata": {},
   "outputs": [
    {
     "data": {
      "application/javascript": [
       "\n",
       "            setTimeout(function() {\n",
       "                var nbb_cell_id = 101;\n",
       "                var nbb_unformatted_code = \"# Use Decision Tree to predict on test data\\ndtc = DecisionTreeClassifier(random_state=42)\\ndtc.fit(X_train, y_train)\\ny_test[\\\"Survived\\\"] = pd.Series(dtc.predict(X_test)).astype(int)\";\n",
       "                var nbb_formatted_code = \"# Use Decision Tree to predict on test data\\ndtc = DecisionTreeClassifier(random_state=42)\\ndtc.fit(X_train, y_train)\\ny_test[\\\"Survived\\\"] = pd.Series(dtc.predict(X_test)).astype(int)\";\n",
       "                var nbb_cells = Jupyter.notebook.get_cells();\n",
       "                for (var i = 0; i < nbb_cells.length; ++i) {\n",
       "                    if (nbb_cells[i].input_prompt_number == nbb_cell_id) {\n",
       "                        if (nbb_cells[i].get_text() == nbb_unformatted_code) {\n",
       "                             nbb_cells[i].set_text(nbb_formatted_code);\n",
       "                        }\n",
       "                        break;\n",
       "                    }\n",
       "                }\n",
       "            }, 500);\n",
       "            "
      ],
      "text/plain": [
       "<IPython.core.display.Javascript object>"
      ]
     },
     "metadata": {},
     "output_type": "display_data"
    }
   ],
   "source": [
    "# Use Decision Tree to predict on test data\n",
    "dtc = DecisionTreeClassifier(random_state=42, max_leaf_nodes=10)\n",
    "dtc.fit(X_train, y_train)\n",
    "y_test[\"Survived\"] = pd.Series(dtc.predict(X_test)).astype(int)"
   ]
  },
  {
   "cell_type": "code",
   "execution_count": 102,
   "metadata": {},
   "outputs": [
    {
     "data": {
      "application/javascript": [
       "\n",
       "            setTimeout(function() {\n",
       "                var nbb_cell_id = 102;\n",
       "                var nbb_unformatted_code = \"# Export\\ny_test.to_csv(\\\"predictions.csv\\\", index=False, header=True)\";\n",
       "                var nbb_formatted_code = \"# Export\\ny_test.to_csv(\\\"predictions.csv\\\", index=False, header=True)\";\n",
       "                var nbb_cells = Jupyter.notebook.get_cells();\n",
       "                for (var i = 0; i < nbb_cells.length; ++i) {\n",
       "                    if (nbb_cells[i].input_prompt_number == nbb_cell_id) {\n",
       "                        if (nbb_cells[i].get_text() == nbb_unformatted_code) {\n",
       "                             nbb_cells[i].set_text(nbb_formatted_code);\n",
       "                        }\n",
       "                        break;\n",
       "                    }\n",
       "                }\n",
       "            }, 500);\n",
       "            "
      ],
      "text/plain": [
       "<IPython.core.display.Javascript object>"
      ]
     },
     "metadata": {},
     "output_type": "display_data"
    }
   ],
   "source": [
    "# Export\n",
    "y_test.to_csv(\"predictions.csv\", index=False, header=True)"
   ]
  },
  {
   "cell_type": "markdown",
   "metadata": {},
   "source": [
    "The submitted predictions scored a 74% accuracy on Kaggle. In order to improve the predictions for next time, I could explore different models (e.g. boosted decision tree, KNN), tune parameters of the current models, or create other features. "
   ]
  }
 ],
 "metadata": {
  "kernelspec": {
   "display_name": "Python 3",
   "language": "python",
   "name": "python3"
  },
  "language_info": {
   "codemirror_mode": {
    "name": "ipython",
    "version": 3
   },
   "file_extension": ".py",
   "mimetype": "text/x-python",
   "name": "python",
   "nbconvert_exporter": "python",
   "pygments_lexer": "ipython3",
   "version": "3.7.6"
  }
 },
 "nbformat": 4,
 "nbformat_minor": 2
}
